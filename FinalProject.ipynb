{
 "cells": [
  {
   "cell_type": "code",
   "execution_count": 3,
   "metadata": {},
   "outputs": [],
   "source": [
    "import pandas as pd\n",
    "import numpy as np\n",
    "import matplotlib.pyplot as plt\n",
    "import seaborn as sns\n",
    "import plotly.express as px\n",
    "import os"
   ]
  },
  {
   "cell_type": "code",
   "execution_count": 4,
   "metadata": {},
   "outputs": [],
   "source": [
    "# Define the quantization levels\n",
    "k_values = np.arange(-2, 2.25, 0.25)\n",
    "num_bins = len(k_values) + 2\n",
    "\n",
    "# Function to quantize the MFCC coefficients\n",
    "def quantize_coefficients(coefficients, mean, std):\n",
    "    bins = np.digitize(coefficients, bins=[mean + k * std for k in k_values])\n",
    "    bins[coefficients < mean - 2 * std] = 0\n",
    "    bins[coefficients > mean + 2 * std] = num_bins - 1\n",
    "    return bins\n",
    "\n",
    "# Function to compute co-occurrence matrix\n",
    "def compute_cooccurrence_matrix(bins):\n",
    "    cooccurrence_matrix = np.zeros((num_bins, num_bins))\n",
    "    for i in range(len(bins) - 1):\n",
    "        cooccurrence_matrix[bins[i], bins[i + 1]] += 1\n",
    "    return cooccurrence_matrix\n",
    "\n",
    "# Function to compute statistical measures from co-occurrence matrix\n",
    "def compute_statistical_measures(matrix):\n",
    "    total = np.sum(matrix)\n",
    "    prob_matrix = matrix / total\n",
    "    energy = np.sum(prob_matrix ** 2)\n",
    "    entropy = -np.sum(prob_matrix * np.log2(prob_matrix + 1e-10))\n",
    "    homogeneity = np.sum(prob_matrix / (1 + np.abs(np.arange(num_bins)[:, None] - np.arange(num_bins))))\n",
    "    contrast = np.sum(prob_matrix * (np.arange(num_bins)[:, None] - np.arange(num_bins)) ** 2)\n",
    "    correlation = np.sum((np.arange(num_bins)[:, None] - np.mean(prob_matrix)) * (np.arange(num_bins) - np.mean(prob_matrix)) * prob_matrix)\n",
    "    return energy, entropy, homogeneity, contrast, correlation"
   ]
  },
  {
   "cell_type": "markdown",
   "metadata": {},
   "source": [
    "#### Extracting features from the labeled data"
   ]
  },
  {
   "cell_type": "code",
   "execution_count": 8,
   "metadata": {},
   "outputs": [
    {
     "name": "stdout",
     "output_type": "stream",
     "text": [
      "            0         1         2         3          4         5         6  \\\n",
      "0    0.041197  5.246215  0.756234  0.857798  87.441172  0.038027  5.306097   \n",
      "1    0.022393  5.952968  0.684569  1.466163  87.042359  0.021713  6.100612   \n",
      "2    0.038930  5.209987  0.786378  0.713919  87.228998  0.039007  5.175563   \n",
      "3    0.020993  6.122227  0.642724  2.178858  86.355677  0.015064  6.520416   \n",
      "4    0.060425  4.628222  0.789587  0.604692  84.420080  0.037851  5.301367   \n",
      "..        ...       ...       ...       ...        ...       ...       ...   \n",
      "785  0.039627  5.332924  0.796043  0.720849  86.598678  0.029123  5.675693   \n",
      "786  0.095713  4.008360  0.905102  0.222478  87.490396  0.088268  4.138399   \n",
      "787  0.069989  4.346523  0.918798  0.173212  87.930736  0.041330  5.071482   \n",
      "788  0.069251  4.445211  0.898940  0.239199  87.014793  0.048802  4.953755   \n",
      "789  0.061288  4.670256  0.886883  0.314753  87.702248  0.038020  5.368721   \n",
      "\n",
      "            7         8          9  ...        111        112        113  \\\n",
      "0    0.745138  0.976015  87.497105  ...  -6.518619  -8.488288 -12.692472   \n",
      "1    0.649869  1.900330  86.880251  ...   4.693018   3.475749   6.594861   \n",
      "2    0.776867  0.710232  86.424247  ...  -8.376707 -14.815996  -8.725740   \n",
      "3    0.600211  2.814376  86.817248  ... -10.155812   0.768609   2.049449   \n",
      "4    0.725138  1.101387  85.244627  ...   2.542889  -8.491178  -0.705278   \n",
      "..        ...       ...        ...  ...        ...        ...        ...   \n",
      "785  0.732904  1.114286  87.079449  ...  10.327709  -4.124724   5.967339   \n",
      "786  0.880399  0.291139  87.885797  ...  -1.983237  -0.883282  -3.926878   \n",
      "787  0.800897  0.559817  86.730011  ...  -4.255070  -0.997040  -8.344000   \n",
      "788  0.803231  0.589944  85.854271  ...  -4.003025  -5.733462 -12.666053   \n",
      "789  0.806374  0.712878  87.266636  ...  -0.707862  -8.686571  -6.768279   \n",
      "\n",
      "           114        115        116        117       118       119  \\\n",
      "0    -8.126695  -2.107495  -2.269257   1.645800  5.149660  3.861194   \n",
      "1     0.480409   0.320282   2.914803  -7.322316  1.043865 -5.897779   \n",
      "2    -5.453874  -4.441717   0.964854   3.315617  1.083724 -1.425989   \n",
      "3   -17.721856  -8.887185  17.435848   6.757788 -5.149843  8.589738   \n",
      "4    -7.305140 -10.078280  -6.030557  -5.246274  1.337854 -1.181814   \n",
      "..         ...        ...        ...        ...       ...       ...   \n",
      "785  -1.000060  -4.875492   8.044343  -6.291955  6.101384 -6.036308   \n",
      "786   5.734449   2.627954  -5.011541  -3.974404  0.339528 -7.339179   \n",
      "787  -8.048320 -11.370217  -3.021000  -6.574339 -5.520209 -4.258189   \n",
      "788  -3.549894 -13.453174  -2.739387 -11.529821 -6.088390 -7.897061   \n",
      "789  -2.216082 -12.758833   1.630677  -8.174651 -9.872907  0.513826   \n",
      "\n",
      "              label  \n",
      "0            Lavani  \n",
      "1            Lavani  \n",
      "2            Lavani  \n",
      "3            Lavani  \n",
      "4            Lavani  \n",
      "..              ...  \n",
      "785  NationalAnthem  \n",
      "786  NationalAnthem  \n",
      "787  NationalAnthem  \n",
      "788  NationalAnthem  \n",
      "789  NationalAnthem  \n",
      "\n",
      "[790 rows x 121 columns]\n"
     ]
    }
   ],
   "source": [
    "# Define the directory containing the CSV files\n",
    "base_path = 'LabeledData/'\n",
    "\n",
    "# Initialize a list to store the features and labels\n",
    "features = []\n",
    "labels = []\n",
    "\n",
    "# Process each CSV file in the directory\n",
    "for label_folder in os.listdir(base_path):\n",
    "    folder_path = os.path.join(base_path, label_folder)\n",
    "    if os.path.isdir(folder_path):\n",
    "        for file_name in os.listdir(folder_path):\n",
    "            if file_name.endswith('.csv'):\n",
    "                filepath = os.path.join(folder_path, file_name)\n",
    "                df = pd.read_csv(filepath, header=0)\n",
    "                \n",
    "                # Transpose the DataFrame to have MFCC coefficients as columns\n",
    "                df_transposed = df.T\n",
    "                \n",
    "                # Compute the mean and standard deviation for each coefficient\n",
    "                means = df_transposed.mean(axis=0)\n",
    "                stds = df_transposed.std(axis=0)\n",
    "                \n",
    "                # Initialize a list to store the features for the current file\n",
    "                file_features = []\n",
    "                \n",
    "                # Process each coefficient\n",
    "                for i in range(df_transposed.shape[1]):\n",
    "                    coefficients = df_transposed[i]\n",
    "                    mean = means[i]\n",
    "                    std = stds[i]\n",
    "                    \n",
    "                    # Quantize the coefficients\n",
    "                    bins = quantize_coefficients(coefficients, mean, std)\n",
    "                    \n",
    "                    # Compute the co-occurrence matrix\n",
    "                    cooccurrence_matrix = compute_cooccurrence_matrix(bins)\n",
    "                    \n",
    "                    # Compute the statistical measures\n",
    "                    energy, entropy, homogeneity, contrast, correlation = compute_statistical_measures(cooccurrence_matrix)\n",
    "                    \n",
    "                    # Append the measures to the file features\n",
    "                    file_features.extend([energy, entropy, homogeneity, contrast, correlation])\n",
    "                \n",
    "                # Compute the average of each coefficient over all frames\n",
    "                avg_coefficients = df_transposed.mean(axis=0).tolist()\n",
    "                \n",
    "                # Combine the features\n",
    "                combined_features = file_features + avg_coefficients\n",
    "                \n",
    "                # Append the combined features to the overall features list\n",
    "                features.append(combined_features)\n",
    "                \n",
    "                # Append the label to the labels list\n",
    "                labels.append(label_folder)\n",
    "\n",
    "# Convert the features list to a DataFrame\n",
    "features_df = pd.DataFrame(features)\n",
    "\n",
    "# Add the labels column to the DataFrame\n",
    "features_df['label'] = labels\n",
    "\n",
    "# Display the features DataFrame\n",
    "print(features_df)"
   ]
  },
  {
   "cell_type": "code",
   "execution_count": 9,
   "metadata": {},
   "outputs": [],
   "source": [
    "# Set the desired column as the index\n",
    "features_df.set_index('label', inplace=True)"
   ]
  },
  {
   "cell_type": "code",
   "execution_count": 10,
   "metadata": {},
   "outputs": [],
   "source": [
    "# Save DataFrame to CSV, with the index as the label column\n",
    "features_df.to_csv('LabeledData.csv')"
   ]
  },
  {
   "cell_type": "markdown",
   "metadata": {},
   "source": [
    "### Extracting features from the unlabeled data"
   ]
  },
  {
   "cell_type": "code",
   "execution_count": 11,
   "metadata": {},
   "outputs": [
    {
     "name": "stdout",
     "output_type": "stream",
     "text": [
      "          0         1         2         3          4         5         6    \\\n",
      "0    0.030387  5.795869  0.696378  1.813626  86.296528  0.023095  6.009681   \n",
      "1    0.026718  5.783462  0.718850  1.304085  87.595207  0.015774  6.516176   \n",
      "2    0.036465  5.424046  0.732246  1.072112  85.740403  0.020270  6.131905   \n",
      "3    0.036962  5.254736  0.745766  0.783597  85.110152  0.044238  4.974656   \n",
      "4    0.039054  5.248324  0.770309  0.773223  85.558166  0.021983  6.079378   \n",
      "..        ...       ...       ...       ...        ...       ...       ...   \n",
      "111  0.065028  4.455411  0.900494  0.232543  86.885727  0.036575  5.333256   \n",
      "112  0.040021  5.201349  0.752769  0.879492  84.813071  0.024313  5.922859   \n",
      "113  0.043212  5.187392  0.780848  0.835627  85.003936  0.025487  5.933917   \n",
      "114  0.031528  5.458152  0.800108  0.577981  88.281553  0.022508  5.948788   \n",
      "115  0.040512  5.288478  0.763650  0.864980  85.399834  0.039342  5.218234   \n",
      "\n",
      "          7         8          9    ...        110        111        112  \\\n",
      "0    0.678990  1.634665  86.523924  ...  -3.557219  -4.769600  -6.386009   \n",
      "1    0.616081  2.963763  86.397443  ...  -7.479678 -10.450026   2.245247   \n",
      "2    0.655356  1.843641  86.821556  ...   0.200098  -8.081958  -9.588246   \n",
      "3    0.777848  0.554718  84.541080  ...  -7.051536  -9.983333  -8.725751   \n",
      "4    0.686759  1.616327  87.120112  ... -10.044515  -0.142227   1.507162   \n",
      "..        ...       ...        ...  ...        ...        ...        ...   \n",
      "111  0.787555  0.653052  87.080213  ...   3.123366   7.692238 -14.131559   \n",
      "112  0.673797  1.594170  86.348908  ...  -4.209217  -2.834459   2.663685   \n",
      "113  0.702359  1.616970  86.626006  ...  -3.139267  -2.614198  -5.999768   \n",
      "114  0.696189  1.222032  87.467099  ...  -4.142894  -0.261467  -3.065207   \n",
      "115  0.730137  0.879198  83.924916  ...   1.040532   1.646498  -9.019209   \n",
      "\n",
      "          113       114       115       116       117        118       119  \n",
      "0   -5.691897  0.075847 -1.245120  4.546164 -2.333128  10.077892  3.306145  \n",
      "1   -3.452126 -1.930312 -6.825926 -0.462308 -3.562652  -2.894762 -1.478166  \n",
      "2   -5.317054 -1.150022 -1.032335  5.748428  2.446726   3.189359 -2.178233  \n",
      "3   -5.889359 -5.999659 -3.835344 -3.103641 -3.969246  -3.811548 -3.706002  \n",
      "4   -5.320269 -2.185936 -2.866291 -3.451173  1.482495   1.472503 -0.900243  \n",
      "..        ...       ...       ...       ...       ...        ...       ...  \n",
      "111  2.735633 -8.108873 -5.811838 -2.105190 -2.315753  -6.030786 -0.548713  \n",
      "112 -6.934862 -1.538460 -2.115241 -4.737934 -3.497907  -3.247443 -6.286975  \n",
      "113 -6.341965  4.591229 -4.349581  8.819987 -3.838513   3.962640 -4.646894  \n",
      "114 -3.913709 -3.554244 -2.941223 -2.252978 -2.266244  -3.469334 -5.127534  \n",
      "115 -4.492607 -0.955646 -9.290629  1.344334 -4.568870  -9.240072 -3.245940  \n",
      "\n",
      "[116 rows x 120 columns]\n"
     ]
    }
   ],
   "source": [
    "# Define the path to the main directory containing subfolders\n",
    "main_directory_path = 'TestData/'\n",
    "\n",
    "# Initialize an empty list to store the data\n",
    "data_list = []\n",
    "\n",
    "# Iterate over each subfolder in the main directory\n",
    "for filename in os.listdir(main_directory_path):\n",
    "        if filename.endswith('.csv'):\n",
    "            # Read the CSV file\n",
    "            file_path = os.path.join(main_directory_path, filename)\n",
    "            df = pd.read_csv(file_path, header=None)\n",
    "                       \n",
    "            # Transpose the DataFrame to have MFCC coefficients as columns\n",
    "            df_transposed = df.T\n",
    "            \n",
    "            # Compute the mean and standard deviation for each coefficient\n",
    "            means = df_transposed.mean(axis=0)\n",
    "            stds = df_transposed.std(axis=0)\n",
    "            \n",
    "            # Initialize a list to store the features for the current file\n",
    "            file_features = []\n",
    "            \n",
    "            # Process each coefficient\n",
    "            for i in range(df_transposed.shape[1]):\n",
    "                coefficients = df_transposed[i]\n",
    "                mean = means[i]\n",
    "                std = stds[i]\n",
    "                \n",
    "                # Quantize the coefficients\n",
    "                bins = quantize_coefficients(coefficients, mean, std)\n",
    "                \n",
    "                # Compute the co-occurrence matrix\n",
    "                cooccurrence_matrix = compute_cooccurrence_matrix(bins)\n",
    "                \n",
    "                # Compute the statistical measures\n",
    "                energy, entropy, homogeneity, contrast, correlation = compute_statistical_measures(cooccurrence_matrix)\n",
    "                \n",
    "                # Append the measures to the file features\n",
    "                file_features.extend([energy, entropy, homogeneity, contrast, correlation])\n",
    "            \n",
    "            # Compute the average of each coefficient over all frames\n",
    "            avg_coefficients = df_transposed.mean(axis=0).tolist()\n",
    "            \n",
    "            # Combine the features\n",
    "            combined_features = file_features + avg_coefficients\n",
    "            \n",
    "            # Append the combined features to the overall features list\n",
    "            data_list.append(combined_features)\n",
    "            \n",
    "\n",
    "# Convert the list to a DataFrame\n",
    "data_df = pd.DataFrame(data_list)\n",
    "\n",
    "# Display the DataFrame\n",
    "print(data_df)"
   ]
  },
  {
   "cell_type": "code",
   "execution_count": 12,
   "metadata": {},
   "outputs": [],
   "source": [
    "# Save DataFrame to CSV\n",
    "data_df.to_csv('TestData.csv')"
   ]
  },
  {
   "cell_type": "code",
   "execution_count": 17,
   "metadata": {},
   "outputs": [],
   "source": [
    "features_df = pd.read_csv('LabeledData.csv', index_col='label', header=0)\n",
    "data_df = pd.read_csv('TestData.csv', header=0, index_col=0)"
   ]
  },
  {
   "cell_type": "code",
   "execution_count": 18,
   "metadata": {},
   "outputs": [
    {
     "name": "stdout",
     "output_type": "stream",
     "text": [
      "                       0         1         2         3          4         5  \\\n",
      "label                                                                         \n",
      "Lavani          0.041197  5.246215  0.756234  0.857798  87.441172  0.038027   \n",
      "Lavani          0.022393  5.952968  0.684569  1.466163  87.042359  0.021713   \n",
      "Lavani          0.038930  5.209987  0.786378  0.713919  87.228998  0.039007   \n",
      "Lavani          0.020993  6.122227  0.642724  2.178858  86.355677  0.015064   \n",
      "Lavani          0.060425  4.628222  0.789587  0.604692  84.420080  0.037851   \n",
      "...                  ...       ...       ...       ...        ...       ...   \n",
      "NationalAnthem  0.039627  5.332924  0.796043  0.720849  86.598678  0.029123   \n",
      "NationalAnthem  0.095713  4.008360  0.905102  0.222478  87.490396  0.088268   \n",
      "NationalAnthem  0.069989  4.346523  0.918798  0.173212  87.930736  0.041330   \n",
      "NationalAnthem  0.069251  4.445211  0.898940  0.239199  87.014793  0.048802   \n",
      "NationalAnthem  0.061288  4.670256  0.886883  0.314753  87.702248  0.038020   \n",
      "\n",
      "                       6         7         8          9  ...        110  \\\n",
      "label                                                    ...              \n",
      "Lavani          5.306097  0.745138  0.976015  87.497105  ...  -5.442336   \n",
      "Lavani          6.100612  0.649869  1.900330  86.880251  ...   1.541839   \n",
      "Lavani          5.175563  0.776867  0.710232  86.424247  ...  -2.771344   \n",
      "Lavani          6.520416  0.600211  2.814376  86.817248  ...  11.676158   \n",
      "Lavani          5.301367  0.725138  1.101387  85.244627  ...  -9.156420   \n",
      "...                  ...       ...       ...        ...  ...        ...   \n",
      "NationalAnthem  5.675693  0.732904  1.114286  87.079449  ...  -4.284991   \n",
      "NationalAnthem  4.138399  0.880399  0.291139  87.885797  ...  -1.753972   \n",
      "NationalAnthem  5.071482  0.800897  0.559817  86.730011  ...  -0.802415   \n",
      "NationalAnthem  4.953755  0.803231  0.589944  85.854271  ...  -1.891189   \n",
      "NationalAnthem  5.368721  0.806374  0.712878  87.266636  ...   3.514368   \n",
      "\n",
      "                      111        112        113        114        115  \\\n",
      "label                                                                   \n",
      "Lavani          -6.518619  -8.488288 -12.692472  -8.126695  -2.107495   \n",
      "Lavani           4.693018   3.475749   6.594861   0.480409   0.320282   \n",
      "Lavani          -8.376707 -14.815996  -8.725740  -5.453874  -4.441717   \n",
      "Lavani         -10.155812   0.768609   2.049449 -17.721856  -8.887185   \n",
      "Lavani           2.542889  -8.491178  -0.705278  -7.305140 -10.078280   \n",
      "...                   ...        ...        ...        ...        ...   \n",
      "NationalAnthem  10.327709  -4.124724   5.967339  -1.000060  -4.875492   \n",
      "NationalAnthem  -1.983237  -0.883282  -3.926878   5.734449   2.627954   \n",
      "NationalAnthem  -4.255070  -0.997040  -8.344000  -8.048320 -11.370217   \n",
      "NationalAnthem  -4.003025  -5.733462 -12.666053  -3.549894 -13.453174   \n",
      "NationalAnthem  -0.707862  -8.686571  -6.768279  -2.216082 -12.758833   \n",
      "\n",
      "                      116        117       118       119  \n",
      "label                                                     \n",
      "Lavani          -2.269257   1.645800  5.149660  3.861194  \n",
      "Lavani           2.914803  -7.322316  1.043865 -5.897779  \n",
      "Lavani           0.964854   3.315617  1.083724 -1.425989  \n",
      "Lavani          17.435848   6.757788 -5.149843  8.589738  \n",
      "Lavani          -6.030557  -5.246274  1.337854 -1.181814  \n",
      "...                   ...        ...       ...       ...  \n",
      "NationalAnthem   8.044343  -6.291955  6.101384 -6.036308  \n",
      "NationalAnthem  -5.011541  -3.974404  0.339528 -7.339179  \n",
      "NationalAnthem  -3.021000  -6.574339 -5.520209 -4.258189  \n",
      "NationalAnthem  -2.739387 -11.529821 -6.088390 -7.897061  \n",
      "NationalAnthem   1.630677  -8.174651 -9.872907  0.513826  \n",
      "\n",
      "[790 rows x 120 columns]\n"
     ]
    }
   ],
   "source": [
    "print(features_df)"
   ]
  },
  {
   "cell_type": "code",
   "execution_count": 19,
   "metadata": {},
   "outputs": [
    {
     "name": "stdout",
     "output_type": "stream",
     "text": [
      "            0         1         2         3          4         5         6  \\\n",
      "0    0.030387  5.795869  0.696378  1.813626  86.296528  0.023095  6.009681   \n",
      "1    0.026718  5.783462  0.718850  1.304085  87.595207  0.015774  6.516176   \n",
      "2    0.036465  5.424046  0.732246  1.072112  85.740403  0.020270  6.131905   \n",
      "3    0.036962  5.254736  0.745766  0.783597  85.110152  0.044238  4.974656   \n",
      "4    0.039054  5.248324  0.770309  0.773223  85.558166  0.021983  6.079378   \n",
      "..        ...       ...       ...       ...        ...       ...       ...   \n",
      "111  0.065028  4.455411  0.900494  0.232543  86.885727  0.036575  5.333256   \n",
      "112  0.040021  5.201349  0.752769  0.879492  84.813071  0.024313  5.922859   \n",
      "113  0.043212  5.187392  0.780848  0.835627  85.003936  0.025487  5.933917   \n",
      "114  0.031528  5.458152  0.800108  0.577981  88.281553  0.022508  5.948788   \n",
      "115  0.040512  5.288478  0.763650  0.864980  85.399834  0.039342  5.218234   \n",
      "\n",
      "            7         8          9  ...        110        111        112  \\\n",
      "0    0.678990  1.634665  86.523924  ...  -3.557219  -4.769600  -6.386009   \n",
      "1    0.616081  2.963763  86.397443  ...  -7.479678 -10.450026   2.245247   \n",
      "2    0.655356  1.843641  86.821556  ...   0.200098  -8.081958  -9.588246   \n",
      "3    0.777848  0.554718  84.541080  ...  -7.051536  -9.983333  -8.725751   \n",
      "4    0.686759  1.616327  87.120112  ... -10.044515  -0.142227   1.507162   \n",
      "..        ...       ...        ...  ...        ...        ...        ...   \n",
      "111  0.787555  0.653052  87.080213  ...   3.123366   7.692238 -14.131559   \n",
      "112  0.673797  1.594170  86.348908  ...  -4.209217  -2.834459   2.663685   \n",
      "113  0.702359  1.616970  86.626006  ...  -3.139267  -2.614198  -5.999768   \n",
      "114  0.696189  1.222032  87.467099  ...  -4.142894  -0.261467  -3.065207   \n",
      "115  0.730137  0.879198  83.924916  ...   1.040532   1.646498  -9.019209   \n",
      "\n",
      "          113       114       115       116       117        118       119  \n",
      "0   -5.691897  0.075847 -1.245120  4.546164 -2.333128  10.077892  3.306145  \n",
      "1   -3.452126 -1.930312 -6.825926 -0.462308 -3.562652  -2.894762 -1.478166  \n",
      "2   -5.317054 -1.150022 -1.032335  5.748428  2.446726   3.189359 -2.178233  \n",
      "3   -5.889359 -5.999659 -3.835344 -3.103641 -3.969246  -3.811548 -3.706002  \n",
      "4   -5.320269 -2.185936 -2.866291 -3.451173  1.482495   1.472503 -0.900243  \n",
      "..        ...       ...       ...       ...       ...        ...       ...  \n",
      "111  2.735633 -8.108873 -5.811838 -2.105190 -2.315753  -6.030786 -0.548713  \n",
      "112 -6.934862 -1.538460 -2.115241 -4.737934 -3.497907  -3.247443 -6.286975  \n",
      "113 -6.341965  4.591229 -4.349581  8.819987 -3.838513   3.962640 -4.646894  \n",
      "114 -3.913709 -3.554244 -2.941223 -2.252978 -2.266244  -3.469334 -5.127534  \n",
      "115 -4.492607 -0.955646 -9.290629  1.344334 -4.568870  -9.240072 -3.245940  \n",
      "\n",
      "[116 rows x 120 columns]\n"
     ]
    }
   ],
   "source": [
    "print(data_df)"
   ]
  },
  {
   "cell_type": "code",
   "execution_count": 20,
   "metadata": {},
   "outputs": [
    {
     "data": {
      "image/png": "[encoded data removed]",
      "text/plain": [
       "<Figure size 1000x600 with 1 Axes>"
      ]
     },
     "metadata": {},
     "output_type": "display_data"
    },
    {
     "name": "stdout",
     "output_type": "stream",
     "text": [
      "Optimal number of components: 28\n"
     ]
    }
   ],
   "source": [
    "from sklearn.decomposition import PCA\n",
    "import matplotlib.pyplot as plt\n",
    "import seaborn as sns\n",
    "\n",
    "# Standardize the features (excluding the label column)\n",
    "features_standardized = (features_df - features_df.mean()) / features_df.std()\n",
    "\n",
    "# Perform PCA\n",
    "pca = PCA()\n",
    "principal_components = pca.fit_transform(features_standardized)\n",
    "\n",
    "# Create an elbow plot\n",
    "explained_variance = pca.explained_variance_ratio_\n",
    "cumulative_explained_variance = np.cumsum(explained_variance)\n",
    "\n",
    "plt.figure(figsize=(10, 6))\n",
    "plt.plot(range(1, len(explained_variance) + 1), cumulative_explained_variance, marker='o', linestyle='--')\n",
    "plt.title('Explained Variance by Number of Principal Components')\n",
    "plt.xlabel('Number of Principal Components')\n",
    "plt.ylabel('Cumulative Explained Variance')\n",
    "plt.grid()\n",
    "plt.show()\n",
    "\n",
    "# Determine the optimal number of components (elbow point)\n",
    "optimal_components = np.argmax(cumulative_explained_variance >= 0.90) + 1\n",
    "print(f'Optimal number of components: {optimal_components}')\n"
   ]
  },
  {
   "cell_type": "code",
   "execution_count": 21,
   "metadata": {},
   "outputs": [],
   "source": [
    "# Perform PCA with the optimal number of components\n",
    "pca_optimal = PCA(n_components=optimal_components)\n",
    "principal_components_optimal = pca_optimal.fit_transform(features_standardized)\n",
    "\n",
    "# Create a DataFrame with the optimal principal components\n",
    "pca_df_optimal_labeled = pd.DataFrame(data=principal_components_optimal)"
   ]
  },
  {
   "cell_type": "code",
   "execution_count": 23,
   "metadata": {},
   "outputs": [
    {
     "name": "stdout",
     "output_type": "stream",
     "text": [
      "                       0         1         2         3         4         5   \\\n",
      "label                                                                         \n",
      "Lavani           0.943442 -0.142437 -3.235505  0.957844 -2.708718  1.858279   \n",
      "Lavani           6.098106  2.378608  1.056414 -3.257420  0.744735  1.228341   \n",
      "Lavani          -2.501082 -2.277667 -4.129834  0.983963 -4.988305  1.509493   \n",
      "Lavani           7.169510  1.725694 -8.102812 -1.988546 -1.636707  0.083667   \n",
      "Lavani           8.605975  3.748400 -1.403577  1.111849 -3.337493  2.694830   \n",
      "...                   ...       ...       ...       ...       ...       ...   \n",
      "NationalAnthem   5.415942  2.891986  5.561367 -2.176129 -0.297785  1.638601   \n",
      "NationalAnthem  -4.980948 -0.736692  6.102737  0.786248 -1.871881 -0.667959   \n",
      "NationalAnthem   3.639263  2.425448  6.435965  3.914094 -5.365741  0.417625   \n",
      "NationalAnthem  -6.780293 -3.234831  3.434311 -0.327645 -2.054737  2.997324   \n",
      "NationalAnthem -11.898616 -5.540007  1.202624 -2.345597 -1.451697  1.237900   \n",
      "\n",
      "                      6         7         8         9   ...        18  \\\n",
      "label                                                   ...             \n",
      "Lavani         -2.150382  1.237470  0.567515  0.706843  ...  0.103927   \n",
      "Lavani         -0.707489  0.603024  1.119179 -0.348134  ... -0.286902   \n",
      "Lavani          1.653228  0.783439  0.443341 -0.384783  ...  0.078177   \n",
      "Lavani          1.533039  1.522613  0.852825 -2.423232  ... -1.430201   \n",
      "Lavani          0.672808 -1.360632 -2.279767  3.306815  ... -0.168534   \n",
      "...                  ...       ...       ...       ...  ...       ...   \n",
      "NationalAnthem  0.743499 -0.615407  1.165210 -0.709701  ...  0.696291   \n",
      "NationalAnthem  1.813945  0.702660  1.734654 -0.019761  ...  2.055615   \n",
      "NationalAnthem -0.192364  0.877837 -1.928662 -3.909683  ... -1.299113   \n",
      "NationalAnthem  0.241823 -1.719397 -3.164386  0.408244  ... -0.602294   \n",
      "NationalAnthem -0.207587 -0.586995 -1.568131 -0.330926  ... -1.192339   \n",
      "\n",
      "                      19        20        21        22        23        24  \\\n",
      "label                                                                        \n",
      "Lavani         -1.769917  0.487296 -1.897005  0.756683 -1.406379  0.446740   \n",
      "Lavani          0.238173 -0.419818 -0.009315 -1.001992  1.512924  0.854058   \n",
      "Lavani          0.245722  0.340341 -1.139511  0.751856  0.236214  0.333562   \n",
      "Lavani         -0.253136 -0.668159  0.546915 -1.166358  0.255403 -0.432659   \n",
      "Lavani         -0.056494 -0.962852 -0.240495  2.347016  0.082086 -0.200286   \n",
      "...                  ...       ...       ...       ...       ...       ...   \n",
      "NationalAnthem  2.529366  0.188538  1.381184 -0.412581  0.168532 -0.992673   \n",
      "NationalAnthem  0.193236 -0.018477  1.343796  0.350734  1.678130  1.526976   \n",
      "NationalAnthem  0.395582 -0.110906 -0.901806 -0.838057 -1.118452  0.603083   \n",
      "NationalAnthem -0.300111  0.176160  0.803509 -0.524238 -0.296360 -0.649658   \n",
      "NationalAnthem  0.797077 -1.199085  0.039610 -0.497516  0.101562 -0.423336   \n",
      "\n",
      "                      25        26        27  \n",
      "label                                         \n",
      "Lavani         -1.347824 -0.306579  1.317119  \n",
      "Lavani          0.585324  0.522585 -0.424041  \n",
      "Lavani          0.417045 -0.260239 -0.140413  \n",
      "Lavani          1.295032 -0.652451  1.485656  \n",
      "Lavani         -0.540171  0.859881 -2.014305  \n",
      "...                  ...       ...       ...  \n",
      "NationalAnthem -1.568767 -1.447060 -1.387484  \n",
      "NationalAnthem -1.440857  0.355076 -0.702204  \n",
      "NationalAnthem -0.175703  0.887811 -0.810986  \n",
      "NationalAnthem  0.707591 -0.931709  0.017549  \n",
      "NationalAnthem  0.042707 -0.381310  1.127997  \n",
      "\n",
      "[790 rows x 28 columns]\n"
     ]
    }
   ],
   "source": [
    "pca_df_optimal_labeled.index = features_df.index\n",
    "print(pca_df_optimal_labeled)"
   ]
  },
  {
   "cell_type": "code",
   "execution_count": 26,
   "metadata": {},
   "outputs": [
    {
     "data": {
      "application/vnd.plotly.v1+json": {
       "config": {
        "plotlyServerURL": "https://plot.ly"
       },
       "data": [
        {
         "hovertemplate": "label=Lavani<br>0=%{x}<br>1=%{y}<extra></extra>",
         "legendgroup": "Lavani",
         "marker": {
          "color": "#636efa",
          "symbol": "circle"
         },
         "mode": "markers",
         "name": "Lavani",
         "orientation": "v",
         "showlegend": true,
         "type": "scatter",
         "x": [
          0.943441915000643,
          6.0981063870356795,
          -2.5010819133339894,
          7.169509619485111,
          8.605975011175936,
          1.5300199275170132,
          2.819352940071345,
          0.64175897049783,
          -5.8416712595570175,
          2.2034755676655187,
          1.103862411239812,
          -1.6011131612893506,
          12.02630113611691,
          -6.820250325105236,
          -2.0984994489532003,
          4.3020358651522175,
          3.8108037315246013,
          3.5402725244274067,
          3.0945112005298503,
          6.060916857741205,
          -0.6533231387633447,
          3.4485029902738584,
          1.9866338882195336,
          9.832982511492105,
          0.31593918664726195,
          2.2279081425449645,
          1.4581782504596246,
          2.0364779004246154,
          -1.7355438950653612,
          3.647764980949785,
          5.778963378196149,
          -4.600749027176575,
          1.733799986373149,
          9.66892695850221,
          7.614125557617187,
          -0.04863589886409675,
          1.7279925667778695,
          -2.131497706969654,
          7.801799017487303,
          -0.14710693644675787,
          6.26644811833575,
          0.028934256485109517,
          -4.3709888547286715,
          2.731455975816218,
          6.010532620419546,
          1.8432408597303045,
          -4.081230121585874,
          11.189240883625509,
          5.587016668269125,
          3.2231867606744484,
          0.04496659193755034,
          3.9889642599002295,
          0.9801718181312978,
          5.565907027128828,
          2.329648591816627,
          3.4588760091646575,
          -3.1407933097794194,
          0.6692508399910612,
          3.0624791806328835,
          5.57668969113564,
          1.152385394666143,
          6.535265211365645,
          0.5914913891553695,
          -1.2591813234288447,
          4.56117863793189,
          5.1683806496068305,
          10.726285425962407,
          7.679389211187679,
          2.0388287140714287,
          8.37515085930887,
          2.233274680533915,
          2.05441302467719,
          0.41514699798164656,
          0.7057485046672654,
          -0.9257871049960272,
          8.38739487578589,
          2.687447430724474,
          -0.837799678288372,
          -0.3626588516449281,
          7.047756275408669,
          3.2944287822573557,
          -1.822120743885196,
          4.616084071585151
         ],
         "xaxis": "x",
         "y": [
          -0.14243689744760005,
          2.3786077677227366,
          -2.277667022655315,
          1.7256943090124557,
          3.7484001958130984,
          0.721704797201101,
          1.9775960546479099,
          -0.21318204233878135,
          -3.4006394122320094,
          0.7422732293956364,
          -1.4105580169345409,
          -2.3198695391886917,
          4.352616814692178,
          -4.132317328654416,
          -0.7500043487674769,
          1.0290466951051187,
          1.1352607747500154,
          0.7462566500474581,
          1.5896079604343094,
          2.1720137940109083,
          -2.298457397099556,
          1.064258460293581,
          -0.7383043446116625,
          4.135449053260595,
          1.607331670213219,
          -0.13388651442912486,
          -0.5771264178190367,
          -0.6752556709812948,
          -0.7906497403987672,
          1.5272373070353085,
          0.9632379950556094,
          -0.5095803096929443,
          -0.014015467555134118,
          2.664300463760655,
          2.344808097742088,
          -0.16346661683018163,
          -0.44042606286843294,
          -2.3739504077333033,
          2.966835683368086,
          -1.865022618250042,
          1.8821560188453808,
          1.6352829779536677,
          -3.3147878159428092,
          -0.3328082810921572,
          4.6843078566533,
          0.027637098693157378,
          -2.075951781612545,
          5.152460589239209,
          1.8298983907806896,
          0.8434912847703977,
          -0.5877678232895265,
          3.057589028250408,
          -0.37741301009252526,
          0.9707367271524088,
          0.20427771552458454,
          -0.2402555624389398,
          -1.866282440074358,
          -0.3770041384246148,
          1.0460591066177842,
          0.7722134537885218,
          -0.3302327724131594,
          2.98272605639157,
          -0.301225625473426,
          -1.0417307614829205,
          2.2466017759949803,
          2.6605708432132693,
          4.61874729781441,
          1.966762853744712,
          0.09993302382060625,
          2.472060645692474,
          1.394902447663917,
          0.06957532440583242,
          -0.05426204450860564,
          -1.093198579760776,
          -1.8563985296071737,
          2.2281138577968185,
          0.20406481074628827,
          -2.1505728603621503,
          -0.6112612919762466,
          1.712400496746868,
          0.40308396233263216,
          -2.1730663360465114,
          2.6591791018627133
         ],
         "yaxis": "y"
        },
        {
         "hovertemplate": "label=AshaBhosle<br>0=%{x}<br>1=%{y}<extra></extra>",
         "legendgroup": "AshaBhosle",
         "marker": {
          "color": "#EF553B",
          "symbol": "circle"
         },
         "mode": "markers",
         "name": "AshaBhosle",
         "orientation": "v",
         "showlegend": true,
         "type": "scatter",
         "x": [
          -5.400920666359715,
          2.993351743307385,
          -5.739067531897768,
          -5.895052012209124,
          5.534283651977485,
          -3.7055921283362654,
          -6.640315145911629,
          -4.678947743853682,
          -4.696588347537254,
          -3.3979260798874478,
          -1.8319630437253065,
          -1.2542386477907292,
          -2.515722552147003,
          -0.04670431458414764,
          0.20880535553586488,
          -0.28529726061960686,
          -0.4140873027418283,
          19.028992191828134,
          -3.687464969675353,
          2.715078482151547,
          1.3655307454521521,
          -0.19225093061281953,
          5.002118126972855,
          2.9300648296006933,
          -98.36409595421523,
          -6.184656048702725,
          1.1724648052698408,
          -3.1713739374248324,
          0.8274148227378058,
          -0.2549942990505669,
          0.11046346822353803,
          3.387175365855959,
          -0.16825190706911908,
          3.9374895063432245,
          6.434474922242905,
          6.312446938682564,
          0.720014342934402,
          -0.07559226014243542,
          -12.079905574723412,
          -0.8149561617710264,
          4.008933197266193,
          -3.2658121700629947,
          4.7906203683772635,
          -1.213684157013036,
          3.168826593165379,
          -2.208711621010985,
          0.17705718919618585,
          -2.3745845985626817,
          3.291965941905727,
          4.894418278938704,
          -1.9242998777245148,
          -2.102136841211434,
          2.777983214561428,
          -0.1796777473721979,
          6.964397499562806,
          4.73144123385234,
          4.554205272814,
          7.316872034726243,
          4.785038244376752,
          0.4461673208398114,
          -2.8410721942546053,
          -2.30357551505293,
          2.560283036838443,
          2.896836367786565,
          1.8615070075225204,
          -4.394654149592228,
          4.161055502707763,
          -4.32026121793205,
          -8.012995488749112,
          1.7079567583429456,
          -0.7732719399793437,
          -3.6579574317742463,
          -6.099392511531277,
          -2.812786798053764,
          -0.024209918464096612,
          0.020563837964457682,
          0.9665233111649055,
          -9.177950883347764,
          -12.956836923435155,
          -0.8349272241531595,
          2.8670185288350667,
          -2.558671771263614,
          7.2742800411469375,
          -4.353049500049609,
          -2.622541795086234,
          -0.7110041325876604,
          2.1669264808548805,
          -2.659979350980159,
          -0.9449490705878768,
          -3.8523922035026334,
          -2.917252348952018,
          1.6918673305952239,
          -0.382674919828589,
          2.7598640040829863,
          0.5385195045968824,
          6.095838212154498,
          -8.91922554750567,
          0.26514643967188506,
          0.1857152838185044,
          1.265761747079662,
          1.3899251079337804,
          0.24908856037890956,
          8.955489387474987,
          0.4957975572973204,
          -1.5787026763796044,
          -1.8778292501160156,
          2.7837566300266667,
          0.8418690621474699,
          -3.0396726018852123,
          3.703204464852468,
          1.7174858080242357,
          -1.2675558366636628,
          0.4541429736788751,
          0.6786188418458987,
          2.0659816614406195,
          0.9007440643904814,
          -0.7465247468588526,
          -2.760151687483964,
          6.12534915989041
         ],
         "xaxis": "x",
         "y": [
          -3.427075369588353,
          0.6122434549938757,
          -2.0398912346335187,
          -3.3909156875922832,
          3.179535464376943,
          -2.272331353792879,
          -3.3035713218731497,
          -2.920592513206098,
          -2.531763720072616,
          -2.2355525866573664,
          -1.8742404693341674,
          -1.2872993391285155,
          -2.588019132193507,
          -0.8669061466688716,
          -1.2455597403780008,
          -1.1663879579408114,
          -0.36745203016570266,
          9.948083830543933,
          -2.263324252088311,
          0.06585191524258421,
          0.3631728197581872,
          -1.4817767976146934,
          1.9181618392381115,
          0.20674928623308944,
          83.90152852156118,
          -4.060546786959204,
          -0.24585365407791096,
          -2.5513385904277563,
          0.6694675869276311,
          -1.0921312123175846,
          -1.0679888120567635,
          1.3276889306209203,
          -0.1889699312227452,
          0.4263987594258118,
          0.8277963323865148,
          2.379045858209148,
          -0.7865965190618308,
          -0.7235236057008224,
          -5.394881330035734,
          -0.38772306668182055,
          1.7355031741171527,
          -1.8827537516764652,
          1.7413727243127128,
          -1.2997611103306501,
          1.0544472183494864,
          -1.4214366239099532,
          -0.5799503588989869,
          -2.448585047724344,
          1.4668121802020093,
          0.7195157393301369,
          -1.8935154998003358,
          -1.5694037738802686,
          0.7121612270239176,
          -0.8131212723505779,
          2.2114764246767424,
          1.3612366940319107,
          2.3064775471551466,
          3.3554911364386433,
          1.100309875223298,
          -0.6176562510483316,
          -1.2685742761455923,
          -1.7698043840339512,
          0.27739216137035955,
          0.5862347438699045,
          0.7475188169667509,
          -2.860845920579532,
          1.2125512381918977,
          -2.6767346659697346,
          -3.6821978358004457,
          0.04923252450286017,
          -2.3473020571370635,
          -0.8315915812544633,
          -3.2159160408994416,
          -2.1088607453674157,
          -0.8520510180838818,
          -0.451632259184624,
          -0.4098830771133669,
          -1.6144497967618405,
          -4.662360713665651,
          -1.5453064190953378,
          0.6984042435261166,
          -2.444712555155126,
          4.020456564363473,
          -2.8103068953547052,
          -2.047026315141631,
          -1.0242059728329058,
          1.1374174105146555,
          -2.8514041865925197,
          -0.9746335320414435,
          -3.1340038409606215,
          -1.866704362100937,
          -1.0560717692957495,
          -1.3034324711353689,
          1.0759587177525272,
          -1.1361437531142882,
          2.449735789032556,
          -4.184508162263271,
          -0.8947328729989145,
          1.5021305723228073,
          1.268246467412353,
          -1.056723825362162,
          -0.3291070348071731,
          3.597832450817208,
          -0.45291437745101804,
          -0.9564662557864664,
          -1.8937611691888236,
          0.5452455423605509,
          -0.41919787576039175,
          -2.7693982064688045,
          1.0958891906817672,
          -0.22215988817424845,
          -1.6932070969395137,
          -1.284896640732617,
          -0.8107955509013601,
          0.4213007150630599,
          -0.3599959733770631,
          -0.15477822339550126,
          -1.661504036020583,
          2.2278926308257248
         ],
         "yaxis": "y"
        },
        {
         "hovertemplate": "label=MichaelJackson<br>0=%{x}<br>1=%{y}<extra></extra>",
         "legendgroup": "MichaelJackson",
         "marker": {
          "color": "#00cc96",
          "symbol": "circle"
         },
         "mode": "markers",
         "name": "MichaelJackson",
         "orientation": "v",
         "showlegend": true,
         "type": "scatter",
         "x": [
          5.316926860940945,
          -1.5162314244128032,
          -1.668804293785164,
          -0.3248387753345579,
          5.302533298345437,
          -2.810019411744948,
          -0.6633901185203083,
          5.682578584430778,
          3.331433970349795,
          2.8167063044404874,
          5.7737340412572316,
          2.3570914320762633,
          -1.0252902851242516,
          0.2646093237851185,
          6.835895062983732,
          -4.762642374659408,
          2.4729321112028217,
          -6.616591113358561,
          -10.37859526174791,
          -3.692632644664178,
          2.0263821512646194,
          7.486010072251069,
          -5.489037113729783,
          -2.791910729662759,
          1.8301359590929855,
          5.388700797671346,
          -0.6899585310530272,
          -5.22194672528472,
          8.53562441956927,
          12.085428624082152,
          -1.935679773884236,
          1.670423859858333,
          9.452606418092769,
          0.32710388106416033,
          -3.765689164060221,
          8.096553947737252,
          8.63827930785619,
          1.5999690133217577,
          7.730332847584221,
          10.837104028866136,
          3.594732525015534,
          13.684065156801461,
          4.139491105022603,
          0.352730040030288,
          2.5416274282994666,
          -2.184561264751261,
          -0.9287599327594386,
          -3.4940916427050976,
          7.046449011455996,
          -11.71366135930494,
          7.174504253372257,
          -1.0243536373621602,
          -2.1875052901633225,
          7.217312516988139,
          2.6158125783364787,
          3.619374794502983,
          -5.081549533578769,
          5.705951536604278,
          0.7332257443945736,
          -2.3405485684190133,
          2.532246744682667,
          7.833695935928635,
          1.972033576769719,
          14.105825376355472,
          2.7236454217471695,
          -0.14070925649031102,
          2.2519740133576454,
          1.9454547968308484,
          -8.30463913323929,
          0.822344105917473,
          8.113800163213236,
          2.302080717562211,
          -4.4584770665021205,
          3.754503616771895,
          1.4783007774640193,
          12.642415163603959,
          -2.7996404720094348,
          -6.7661417021485555,
          7.1050740040532645,
          7.130806625788329,
          6.4241120451737,
          7.5687838621646435,
          12.71219599659015,
          3.2813363387594796,
          -2.9561767957266643,
          5.332762793227467,
          3.0544435446874028,
          10.876854908385303,
          3.9741801365759333,
          5.7737340412572316,
          0.7657657844530366,
          6.643269908819248,
          2.6365718766158994,
          -1.286666714106253,
          1.1917691390484584,
          2.701270308699318,
          -6.8331867494998715,
          5.841991080038038,
          5.620082072520568,
          0.7958888257448804,
          -0.34592364942504017,
          8.645414589110118,
          10.529916957269256,
          6.505323139724111,
          6.695514269754972,
          -4.9004458357813725,
          0.11139074183549337,
          8.448510408562557,
          1.3102390076718957,
          0.3269545491500512,
          3.221548143677164,
          4.198377870798813,
          4.738543095546913,
          9.151492112552859,
          0.488679451741074,
          4.603630826413211,
          4.809972889436893,
          -9.288516070277502,
          0.7263347052279949,
          5.543010363818464,
          4.324308099852701,
          12.999569062050027,
          -6.477367481983938,
          5.38299699704925,
          -1.5314017212881612,
          7.268129670469814,
          7.017539615142171,
          1.0296921966194796,
          5.215813725520139,
          12.625026125473559,
          -3.2964885921514853,
          4.258649408414573,
          -2.871561255296837,
          7.775912957843065,
          8.343442514097392,
          -0.7844864056328007,
          7.152908907456843,
          0.7105761096750275,
          3.2093571945613877,
          4.195329587306724,
          3.1122779376061716,
          2.0745427251537403,
          2.1789147110224776,
          6.2513083341964375,
          -2.2172982375257733,
          3.745997678873252,
          9.201020001485404,
          1.9714240130863607
         ],
         "xaxis": "x",
         "y": [
          2.103192696546041,
          -1.1816878056910887,
          -1.1335302430385188,
          -0.5660231290622467,
          2.42578765770975,
          -1.634479777115921,
          -1.119892790135029,
          3.6817526570179906,
          1.121621302017399,
          1.0935216624090969,
          2.9653028071683663,
          0.3507404471315133,
          -0.6830683210965652,
          0.7602039703861434,
          2.938337870522879,
          -2.710296812542074,
          1.1294669060166806,
          -2.8889355355155613,
          -3.523609253112597,
          -2.491600703318006,
          1.0222950919861296,
          4.462897225501453,
          -2.6339942229375324,
          -1.1698404338255828,
          2.710975863197591,
          1.8130492973525636,
          -0.6306351534167773,
          -2.093150655670132,
          5.168513006537435,
          6.041871469967299,
          0.022352020734278076,
          0.5243253600842548,
          4.825817270300711,
          -0.0845990018616397,
          -0.446762741000387,
          4.829314077587492,
          3.854128015663283,
          1.486190713060425,
          4.256283925932803,
          5.560583903690974,
          1.8794506306771304,
          7.280990660224473,
          1.4077803456011142,
          0.4083151724295215,
          1.6025219948025122,
          -1.0449290413863033,
          -0.528269122935151,
          -1.662337799575559,
          3.3478598459911515,
          -5.3791145196918455,
          3.344284477192147,
          -0.8971463556023302,
          -0.9193589234916828,
          2.9337815890356267,
          0.2335581008521165,
          0.43720474938364023,
          -1.2972054116237581,
          2.059338626210114,
          -0.2829446149529823,
          -0.759671870285431,
          1.3482875791284399,
          3.73707729718582,
          1.826621688844798,
          7.991736936344644,
          2.3868351158149554,
          -0.4720752297888393,
          1.8610952328467103,
          0.1697015763553114,
          -3.8158631600970008,
          0.21510148876315618,
          4.186649428105825,
          0.7623533642128388,
          -1.190335362704848,
          1.0209404596214735,
          0.49334793978318114,
          6.318429537542667,
          -0.9508817185607239,
          -3.29878549012416,
          3.475744346774822,
          2.854774820303841,
          3.509284657211271,
          3.34529573518734,
          7.573647180441781,
          1.2442641386834705,
          -1.957701040309043,
          2.493509613872596,
          1.590120692737534,
          5.873298497819166,
          1.125696945477396,
          2.9653028071683663,
          0.5669948729790133,
          3.363570265746862,
          0.4930278608270612,
          -1.0062779362836587,
          0.28650048555324925,
          0.3666183997739295,
          -3.429231442377307,
          4.293580728176742,
          2.4861942911058756,
          0.5118351569298113,
          -0.43628883105614796,
          3.9940574245463387,
          5.066679859475122,
          2.633125682678228,
          3.7165491588865596,
          -2.4486674073202392,
          -0.8402343416821169,
          4.600724547498273,
          1.3435541119254983,
          -0.32893785278236115,
          0.9146023050333353,
          2.0682391460917513,
          1.406033316904309,
          4.731316066651844,
          0.7292335635017565,
          2.775992552758628,
          1.6394246701631967,
          -4.063796657489053,
          -0.030930609025542972,
          3.174727398991839,
          2.6017685746237507,
          7.019210928601559,
          -2.856146875039098,
          2.3149172983724986,
          -0.751965862342729,
          3.9338230304785573,
          2.9331611914864353,
          0.8261567309047012,
          1.6473740027858363,
          6.719021564057983,
          -1.609142272818517,
          1.5905138611157348,
          -2.005049873729497,
          3.8290445522087064,
          5.39855191076586,
          0.01515860393353106,
          3.774244468335939,
          -1.0410282082885054,
          0.6061182358581076,
          2.1791699071201083,
          0.7195812936003695,
          2.021199301349326,
          1.0636340149291899,
          3.5268440822974148,
          -0.23050390461581724,
          1.6171595989902476,
          3.7043188062560617,
          1.1545549424061963
         ],
         "yaxis": "y"
        },
        {
         "hovertemplate": "label=KishoreKumar<br>0=%{x}<br>1=%{y}<extra></extra>",
         "legendgroup": "KishoreKumar",
         "marker": {
          "color": "#ab63fa",
          "symbol": "circle"
         },
         "mode": "markers",
         "name": "KishoreKumar",
         "orientation": "v",
         "showlegend": true,
         "type": "scatter",
         "x": [
          -1.0038780012035458,
          3.370797381174954,
          6.467855582040141,
          1.550084922527332,
          5.273724455918813,
          -7.83105186799007,
          -2.005319034006184,
          -0.6603821250942129,
          -1.2912451945305186,
          -1.3688840936653395,
          2.427833515287214,
          -6.3039671301485924,
          0.1553422742075465,
          4.451673726003802,
          -12.14315749079621,
          5.405705134452872,
          3.8217145437835156,
          1.4195007573847096,
          1.3271191683466823,
          4.248459740620909,
          -6.26701913657516,
          -7.824460326304248,
          -3.214503551058217,
          -7.137147745401596,
          -0.7214754081075805,
          7.656223041372729,
          -1.1461399245026096,
          4.31412605224629,
          -1.228789087094244,
          -0.02628632787006296,
          -3.979044850991158,
          -3.12525232078295,
          -0.9091108425095269,
          6.82075087788753,
          5.593998167525323,
          1.0189045550225095,
          1.264568351633494,
          0.3383653343896378,
          4.1349256681539615,
          1.6420093395063526,
          0.8560215985911963,
          7.571728268617937,
          8.09301349979646,
          0.8495425543209388,
          3.412772534300835,
          1.520088426641496,
          -2.2130520231629958,
          -1.0827229615864786,
          1.4195007573847096,
          4.2315096549501225,
          -1.3786120455316133,
          -0.978391857513814,
          0.575900457790556,
          -1.1314314681596447,
          1.3877501894727566,
          -3.990185831581972,
          -0.18854306447574232,
          -2.734835402341457,
          1.2848300121916052,
          -3.177728632843809,
          -2.5055424666055774,
          -13.013086801104713,
          8.153248393686436,
          -4.248652010466881,
          1.5870535921546012,
          -0.05005680830771469,
          -1.9694783921220043,
          3.021277832230264,
          -3.0818355544942255,
          1.8961591420282167,
          -8.456391384528418,
          -1.1762268835372183,
          -1.2635340802743122,
          -3.766746743759283,
          0.09350115186677642,
          -3.053384632728152,
          -4.680061391738009,
          2.1346498841261643,
          1.2335118003841559,
          5.203725996618856,
          -8.95497725874704,
          1.0092639629035316,
          5.380934871793783,
          4.990991723198387,
          -1.0120491262266487,
          -12.041270028131576,
          -1.3118220771951565,
          2.1343011664085023,
          1.4947944578828583,
          -4.620753390762568,
          3.061063199053856,
          -1.1640845287308788,
          2.817540030420194,
          -7.495103260453699,
          4.109459114966472,
          -1.493440190204171,
          -2.860659929201277,
          -7.066127751347803,
          -4.31770157612803,
          -4.96831968058272,
          3.3710120712118465,
          -1.5388821819898462,
          -8.409272267184466,
          0.590404908145428,
          1.8233003252018278,
          4.428031777690799,
          3.509303138970813,
          4.406872315230506,
          -2.4981228887835867,
          -3.836108527733404,
          -1.4787656599100918,
          5.081827085811652,
          3.4877001868843447,
          0.036569983156985175,
          4.431683942554156,
          3.713989804990585,
          0.3527546615640986,
          -0.3771996899175362,
          -0.16052849980378647,
          -7.1140213670226125,
          0.49091496813744184,
          3.5148033732701185,
          2.09937300906614,
          -1.234965936949328,
          2.4396370564224616,
          -7.546520110650892,
          0.9223619848528529,
          -5.224947166018321,
          9.039258941377936,
          1.7828532699689899,
          0.4997209024938914,
          1.9060799851949461,
          3.063756775046938,
          -7.0696454220997875,
          5.67888015127655,
          6.9398320997254315,
          1.6135487564303073,
          -6.386092616053359,
          3.1876357731221185,
          1.846054797906592,
          -1.9034389029576237,
          0.14422150063840927,
          2.096216142746593,
          3.6417695620971893,
          6.276622851398478,
          2.412354107820218,
          0.5883220721334244,
          3.5391225938090316,
          5.120573056868238,
          5.837798025842294,
          3.2328869366842192,
          3.2994382517416323,
          5.380934871793783,
          4.173555592963484,
          4.131609210066538,
          2.459024988628676,
          -2.298360930519931,
          -2.6601411132698813,
          4.663869604799866,
          2.977269822076439,
          3.8048259527393857,
          5.146915392281439,
          -0.39483304969236976,
          1.7463799358758454,
          1.6762744574272765,
          3.3710120712118465,
          4.270608458884394,
          0.7660706197473028,
          10.635871889535283,
          -5.198252468113212,
          6.889394182595558,
          -4.607529393362101,
          3.9093188630911766,
          2.891550403639487
         ],
         "xaxis": "x",
         "y": [
          -1.0447031499152648,
          1.241738543802418,
          2.4306384350708212,
          -0.10190768819261577,
          2.621896245254257,
          -3.788179845385803,
          -2.3064103782606624,
          -0.6579164286823378,
          -1.0686281398204336,
          -0.5037275485747758,
          0.283241627666218,
          -2.9083646307151088,
          0.19915991369859687,
          1.985245840973433,
          -4.4483274414033795,
          2.0583742925471005,
          1.5254273610944504,
          -1.1137313791778551,
          -0.18174021041928326,
          2.5041831567638955,
          -2.500529313846016,
          -4.4701281613461825,
          -1.9955814386270405,
          -4.629445822331766,
          -0.24844453644798362,
          3.6322284957569524,
          -1.5027096222989293,
          1.5219001219801287,
          -1.3579577687928786,
          -1.1073541914420024,
          -3.118039441532,
          -1.240359210289828,
          -0.6219085924501804,
          2.8967353907963327,
          2.6991313384098317,
          -0.09257189273886372,
          -0.6498931020333487,
          -1.223507278399586,
          2.19483971299753,
          0.35735750743219613,
          -0.2804856955545412,
          3.835671119627587,
          3.4485355987896122,
          0.3276392042386409,
          0.9684746600088727,
          -0.6850594833563017,
          -1.9317298179225844,
          -0.8257130009273056,
          -1.1137313791778551,
          1.6534649575797529,
          -0.31864435250534606,
          -1.1542391866449018,
          -0.3375645626806696,
          -0.2231462136491761,
          0.4688480496270591,
          -1.4081648579273116,
          -0.1698314109785272,
          -2.275470630365152,
          1.7531589267726695,
          -1.5341570490427174,
          -2.0421106460811407,
          -4.6496962165176585,
          2.316457471250262,
          -3.565438674777787,
          -0.4087925207639442,
          -0.6347232727904047,
          -1.4785169248148122,
          0.3167988638854525,
          -0.2935974860187768,
          0.8691203898498531,
          -3.6863585219931934,
          -0.7367456881707775,
          -1.3937135224050883,
          -2.33029203223285,
          0.35580367560996984,
          -0.8987312439863255,
          -2.5002740593833424,
          -0.06983334879240811,
          0.795725132319933,
          1.9514476391478115,
          -3.4381951863757383,
          0.7771350017457354,
          3.5344218409007655,
          1.4004214275089824,
          -1.2482113415373957,
          -0.5882649487682232,
          -0.9803190146903542,
          1.0590674181088486,
          -0.18761648054632063,
          -3.2848730785104974,
          1.057894630178284,
          -1.3507307230218997,
          1.086373920852042,
          -3.782265559339029,
          1.296432495858114,
          -1.342854543411829,
          -1.6424917806703905,
          -2.228507176699226,
          -1.0922859711814146,
          -0.549596721547778,
          1.4516299794060923,
          -0.16013112302409402,
          -3.400324273525169,
          0.3653008587507935,
          1.5344956076580225,
          1.180345453973767,
          0.7802562219905189,
          1.7967299243577974,
          -1.2193501419379011,
          -2.393388397787698,
          -0.8682473217128277,
          1.7581940835194392,
          0.9538416953414804,
          -0.45247326769726487,
          1.455655978985706,
          1.3937989594375553,
          -1.0074943543502746,
          -0.39915737212704294,
          -0.6755832692601188,
          -3.9101497004991326,
          1.569360710583459,
          0.5238055410646634,
          -0.37287549833416567,
          -1.0680753126901745,
          1.4960070079178451,
          -3.5658981798118528,
          0.5843102970422471,
          -1.728471771717942,
          3.8834403396990402,
          0.22672787854977342,
          -0.02840057059087119,
          0.5497925915910945,
          0.8686620584387015,
          -3.3650519188318175,
          2.518667346485337,
          2.3836886751826882,
          1.3480911995160187,
          -2.1784590951703393,
          1.6237913184678636,
          0.600694329011119,
          -0.545031641237818,
          -0.6851937976406492,
          -0.26062428436210205,
          0.23689110804324393,
          3.4310331938246463,
          0.5988623077846662,
          0.12482664204238635,
          1.0830210651503673,
          1.7606423020057371,
          2.405931714803427,
          1.5197094437731726,
          1.982230592359717,
          3.5344218409007655,
          1.6060121582792306,
          2.0026356673337258,
          0.711989788593057,
          -1.7702928292970845,
          -1.1670713703004345,
          0.9813463775582247,
          1.766592970823019,
          1.275895921248902,
          2.074267403894212,
          -0.2810388132552436,
          0.3496309556616335,
          0.272077904245926,
          1.4516299794060923,
          1.5062850089241493,
          -0.5411612426940726,
          5.064081050021392,
          -2.8721312229646636,
          1.2973611546732864,
          -2.908171359736569,
          5.4822068232979895,
          1.512265537413116
         ],
         "yaxis": "y"
        },
        {
         "hovertemplate": "label=BhavGeet<br>0=%{x}<br>1=%{y}<extra></extra>",
         "legendgroup": "BhavGeet",
         "marker": {
          "color": "#FFA15A",
          "symbol": "circle"
         },
         "mode": "markers",
         "name": "BhavGeet",
         "orientation": "v",
         "showlegend": true,
         "type": "scatter",
         "x": [
          0.667625475532914,
          10.593159973663553,
          -4.831078721253813,
          -5.134372885469827,
          1.8063417673224895,
          1.189143960202559,
          5.830731486229659,
          -4.216114047257381,
          -0.1210775563732567,
          -7.827894003606212,
          -2.700906098962298,
          -2.9229982987237104,
          -3.869713944237315,
          -9.416480362193127,
          0.561092779111909,
          2.767036060679975,
          0.41265141535618194,
          -1.4881990701405605,
          -3.398442474133119,
          -3.0031042317638894,
          -4.788289996200002,
          -0.018988598604320738,
          -1.486206324884688,
          4.1098748099180185,
          -4.4620067040145095,
          -0.3646233400791979,
          -1.7049276565562945,
          -1.9826061823866166,
          -1.618800914383137,
          -6.903173543073954,
          3.5043480386283243,
          2.0354952779591753,
          -1.5869171187598134,
          -4.783735503661894,
          -2.4762008584307327,
          -2.897240482949908,
          -6.268061228211419,
          -6.819240904909338,
          3.4811785016595787,
          -7.60039317544213,
          -4.797136607030124,
          2.948594741051103,
          3.739853193800151,
          -1.6149614365746798,
          -7.733025412768709,
          5.753787815189477,
          3.132832965565983,
          1.4273637204694452,
          -1.2635080099553857,
          5.778963378196149,
          1.8245796924743558,
          0.46597635058730985,
          -3.2446784044603167,
          2.7596254438096155,
          -6.820144527568795,
          -3.5007778289648286,
          2.4172356537309074,
          -4.054566726789555,
          -0.7541564713812692,
          -0.7430527514041779,
          8.374537343559746,
          1.3125505972376228,
          -7.1381214171018454,
          -2.9873246224661445,
          -1.7705129282426415,
          -0.3250469719555799,
          0.278516433363287,
          -1.1503464482343164,
          -1.5543104179850054,
          2.9350089410318754,
          1.1938180768167421,
          3.0220462170719258,
          -0.7890703816050383,
          -0.5977687933513497,
          3.622370088734934,
          -6.645008332767202,
          -2.8543435214962205,
          3.006489646971551,
          -1.383076086609906,
          -3.4441762252987616,
          1.2056082705837041,
          6.280041873962726,
          -0.4056786580048224,
          4.411576597673812,
          -0.535520871646752,
          -5.935054902830992,
          -3.0949580077540455,
          -9.202706012393493,
          -7.788123511438156,
          0.618339472375439,
          -4.022363304624956,
          0.21960858610585138,
          2.716808493330656,
          -4.334810126488077,
          -3.2764578386560896,
          6.025269799897431,
          -4.278082511355468,
          -2.1570898070894904,
          0.7045550573582164,
          -0.7528024502186783,
          -2.2170437554752898,
          -2.973700378706817,
          -2.688165948640635,
          -1.9266429677798724,
          0.2551069370845786,
          -0.31853255135487446,
          -2.7190235043695066,
          -6.055775690138842,
          4.492739650580008,
          0.7468077746820613,
          2.474042196785876,
          4.939552873537881,
          -6.111267432623078,
          -12.720230808689772,
          0.6359651847452213,
          -4.205010809450225,
          -5.685203485571403,
          7.182832030105785,
          3.2829341458747736,
          -3.9617308519027943,
          1.2033017752385198,
          0.5532780856653534,
          -2.157672947116981,
          -8.560182799606794,
          -4.32536297287961,
          -4.662435169807573,
          -1.7654231570588597,
          2.207818400709835,
          3.581918203330669,
          -3.0760249621035407,
          -6.546130326860471,
          0.5446572499576607,
          6.287707282969187,
          10.522438875163926,
          -1.241979747362066,
          -3.9458750963804556,
          3.1184662935235874,
          -3.2369758084134372,
          0.11824008116034022,
          1.3812136506624457,
          0.1262223286379199,
          -6.073783161191449,
          3.1114655784550003,
          -0.1588040843767874,
          3.2510165384249206,
          -1.2642866062670133,
          -3.002799620940567,
          -4.032034580726863,
          -6.579384934320776,
          -2.099881404012083
         ],
         "xaxis": "x",
         "y": [
          -0.6692925909875969,
          3.6783290977215635,
          -2.585078109130165,
          -1.3380734588578906,
          1.2461704709665171,
          -0.6392973359202304,
          1.840966969242447,
          -2.3204395889367704,
          -1.313627093973232,
          -3.857269062972787,
          -1.4755476682795474,
          -2.966036546318727,
          -2.4499737491548874,
          -5.313451001988304,
          -1.6704429844833728,
          0.78940766062365,
          0.27887776220752586,
          -1.5329446361869015,
          -2.699136496785349,
          -1.3818121141151443,
          -2.4253517855609776,
          -0.928363271803068,
          -1.4342790553708478,
          0.8052106404487586,
          -2.9697267211099114,
          -1.3396790540007912,
          -1.6611292607831167,
          -1.721274900930261,
          -0.8294911826530785,
          -3.957301790349024,
          1.8379814178003657,
          -0.7764626984986013,
          -1.2346036303179135,
          -3.3956932882517834,
          -1.5585962811388363,
          -2.5869473047002085,
          -3.2681949943708704,
          -3.9798770944626916,
          1.0090680553070388,
          -3.8979223317247516,
          -2.4467459676524315,
          0.45623169452867657,
          0.7014489559462718,
          -1.703495647411854,
          -3.358289369484894,
          1.319439243213932,
          0.6167261814689046,
          0.142103476319319,
          -1.806344282060788,
          0.9632379950556094,
          -0.17368614084408218,
          -0.8817971303730326,
          -2.278668952554949,
          -0.20883347492250798,
          -4.1371192737578495,
          -1.798255436131611,
          0.577286447168417,
          -2.516053960653489,
          -2.080304479677096,
          -2.235261986912154,
          2.379209181311806,
          -0.9810386387256155,
          -4.513674590211477,
          -2.476185647486879,
          -2.3031066268364127,
          -1.3950324846593005,
          -1.60966849086335,
          -1.1691106471304482,
          -1.107185981351265,
          1.08254702289603,
          -0.6339789367463575,
          0.06682697116003906,
          -1.0339453980531708,
          -1.4529750600793452,
          1.177480851638377,
          -2.383767194224656,
          -2.6323443028774913,
          0.8370681749128026,
          -1.6399243106766288,
          -1.7877940082138686,
          -0.2694804374726657,
          1.6381720653037202,
          -1.197520520105835,
          1.5509415914497642,
          -0.7862686714014919,
          -3.014834620840537,
          -1.9953392250081543,
          -5.950362394864184,
          -4.850271013399605,
          -1.0443335558373517,
          -2.4921378158206817,
          -1.2605520140587292,
          0.9554681126804444,
          -3.0404270390251047,
          -2.98841675864117,
          1.242186417392079,
          -3.6557343170121865,
          -1.8713383172214333,
          -0.5721849027212915,
          -2.0332196082208056,
          -2.4556138214168746,
          -2.553919919092424,
          -1.6808219479099413,
          -2.0403647830967104,
          -0.6341400088199648,
          -0.7581986259343081,
          -0.32100414965561047,
          -2.194456318985957,
          0.27738686410026653,
          -0.43552477206736406,
          0.996942789141798,
          1.0631415815957799,
          -3.7132992894932135,
          -5.076808861629449,
          -0.7501114669547735,
          -3.0217121612080056,
          -2.7049837105692767,
          2.3141350140310433,
          0.24133666988654834,
          -2.656898283224405,
          -0.977206015376582,
          -0.4458592382697429,
          -1.4565801775483205,
          -5.040849062354742,
          -3.1514432302015476,
          -3.4116378357032597,
          -2.236329587229041,
          0.5943096671118339,
          1.011056724429359,
          -1.2281334024012942,
          -3.6925949252315378,
          -1.4959129531022017,
          2.1284618841101968,
          3.0833122773490893,
          -1.7073674238252994,
          -3.016214923953998,
          -0.17709736054892017,
          -1.8382701680466713,
          -0.8511429168806671,
          -0.10638556274589323,
          -1.361215695146325,
          -3.7617446562414245,
          0.7424142310035383,
          -1.5192189051018419,
          0.03759193159221755,
          -0.9070093652702036,
          -2.1147332133317507,
          -2.129635957263676,
          -3.6004384552462247,
          -2.2273628995545027
         ],
         "yaxis": "y"
        },
        {
         "hovertemplate": "label=NationalAnthem<br>0=%{x}<br>1=%{y}<extra></extra>",
         "legendgroup": "NationalAnthem",
         "marker": {
          "color": "#19d3f3",
          "symbol": "circle"
         },
         "mode": "markers",
         "name": "NationalAnthem",
         "orientation": "v",
         "showlegend": true,
         "type": "scatter",
         "x": [
          -9.201904957299869,
          6.169900549048207,
          -7.443209540131999,
          -2.1361173868414656,
          -7.390615545412798,
          -13.43369015063517,
          -2.536225341743035,
          -13.268052198812434,
          8.12175193217306,
          7.982650411543385,
          -10.014168365540268,
          -2.5812188373792693,
          -9.361222998973489,
          8.774804755133312,
          -12.951392823317292,
          -3.981571222468576,
          -9.601171962261283,
          -1.5088461011921066,
          -16.02443727699319,
          -13.798631707648944,
          -22.34875366065157,
          -0.9573570393253287,
          -3.5054097653149947,
          -2.101592523676556,
          -19.877066874148113,
          -8.998775412561763,
          -9.729128106489688,
          11.595781375208148,
          -0.677112294990494,
          -0.4804702447768752,
          -6.324486717880267,
          9.224785073397058,
          -8.824128869104445,
          -9.626507779655338,
          12.470294935030402,
          9.787941253851367,
          -9.065814261843899,
          6.789641840887185,
          0.8356128503424181,
          -0.41317850206823503,
          -1.4193547197641168,
          -8.37519659884633,
          -5.3397773398129,
          -1.0031789050181439,
          -1.1460556224300007,
          -4.342490827335082,
          -9.03532122260929,
          -2.769976272893134,
          -15.501733406931368,
          -8.592482993323978,
          -3.5707960970261965,
          -1.689787873990314,
          2.309630012238797,
          -7.975671788784379,
          -6.984495802825703,
          -13.38665067590779,
          -0.7521277290838799,
          -0.04022659352908487,
          -1.5746143427294272,
          -8.805739791465353,
          1.9734114705631922,
          -17.259279550199583,
          6.203717553692413,
          0.5195234686204698,
          -0.6057510096122928,
          9.745248026948302,
          -10.083970229123679,
          -11.010573048577545,
          -7.174850209277827,
          1.6254341450992325,
          -0.539751071354762,
          -6.900208466871302,
          -5.870149121304482,
          -5.2100545733361665,
          -14.32113196725739,
          -0.8768465320581452,
          5.75326689747094,
          -17.006053851640278,
          -2.3717725260190514,
          5.226247783717019,
          -5.574352082635272,
          0.5261691051594463,
          -14.279837313732386,
          1.0667603688062512,
          -6.221995645593728,
          -3.8960302332654377,
          -1.7485992223075126,
          6.490311781994041,
          4.442137509470507,
          4.930502823079593,
          4.4955608979905355,
          -1.2776724350279545,
          -7.074046211828465,
          -15.181495613094706,
          -5.75847927039196,
          -2.91901554592713,
          -11.1682324949258,
          -5.047054813478449,
          2.1796570912668862,
          12.200339732233306,
          -2.769976272893134,
          -26.40661456908824,
          -6.961168545343288,
          7.335825079294011,
          -2.6687385539909414,
          -3.698112400988444,
          -8.0816287280157,
          -5.518591671398321,
          -0.6330289481240198,
          -0.8052387172069835,
          -5.8540963664253,
          5.415941710950532,
          -4.980947995901544,
          3.639262582210494,
          -6.780292997262997,
          -11.898615761025424
         ],
         "xaxis": "x",
         "y": [
          -4.565941266275908,
          4.6882469260801125,
          -2.532390109310889,
          -2.412645438113953,
          -1.4769233678369162,
          -3.0592505081802708,
          -2.1771662873519597,
          -0.15676049977664513,
          2.946388737691745,
          5.241201774375257,
          -3.9252107031522367,
          -0.8481941830094453,
          -4.722297430749702,
          6.146890436779888,
          -5.74466224473508,
          -2.1050379529853456,
          -2.4770971883002977,
          0.05057214908298829,
          11.60049201597513,
          -5.579011857954686,
          2.269122005591042,
          1.2537649630483159,
          -1.4346410164528935,
          -1.3373581482792518,
          -2.4385435150386914,
          -4.552597811192037,
          -3.8150032368059543,
          5.749034998921907,
          -1.0424484427876466,
          -0.170495404316877,
          -1.5251328718918036,
          4.327040799766156,
          -3.318265595178712,
          -3.3842664721144864,
          5.997127650154218,
          5.224024666380436,
          -3.5786488570060393,
          3.1338396244604216,
          0.4647062189891732,
          0.4806504898185475,
          1.4950337917003527,
          -0.7521346903753409,
          -1.909453253861138,
          -0.9152907420309787,
          -0.6323678294957816,
          -2.3522463181262503,
          2.0282997323957095,
          -1.6895780443039135,
          -2.950290027772402,
          -2.1538657133701786,
          -1.2845697275396275,
          -1.349444272299549,
          0.2702000359138494,
          2.42872705253455,
          3.0661434376102203,
          -5.423524628058996,
          -0.5863986156659426,
          -0.6540692403570432,
          -0.017915282262248356,
          -3.4843555505380093,
          0.8949457474869273,
          -4.613293788072189,
          4.4085015934228,
          0.04641577969451083,
          -0.9804367897769543,
          5.01253724923414,
          -3.5209036895187,
          -4.7078641035156705,
          -3.292831416800919,
          0.6473561010975121,
          -0.421090642382868,
          -3.4020942318043144,
          -1.8732753686536372,
          3.305711127930864,
          -0.76878206295329,
          0.012585320733920427,
          2.3834404927747874,
          -4.428015119000404,
          -0.2713106670534991,
          3.6115237985376476,
          -2.3095276902640522,
          0.2368765131706212,
          -2.6283092114176596,
          0.8164260396252787,
          -3.1834568809283623,
          -0.1090930587639482,
          0.2790577635399253,
          3.2876472837937314,
          1.5344729893377311,
          2.755646486927126,
          0.22493712256880008,
          -0.6600849754638886,
          -2.9492320940040075,
          -0.2587368479314468,
          -3.1964999576534776,
          -2.0317948725371133,
          -4.335280007775101,
          -1.5209965557208034,
          0.38693378484291674,
          7.6829252657839415,
          -1.6895780443039135,
          11.351024042577356,
          -4.329468418015528,
          3.6756606919983823,
          -0.6672717241291907,
          -2.4147182648690406,
          -3.694475577287721,
          -2.868347545204313,
          -1.6591645971373206,
          2.2018059701844472,
          -3.138671443262869,
          2.891986369464571,
          -0.7366922992924584,
          2.42544810557637,
          -3.23483068332517,
          -5.540006671630362
         ],
         "yaxis": "y"
        }
       ],
       "layout": {
        "legend": {
         "title": {
          "text": "label"
         },
         "tracegroupgap": 0
        },
        "margin": {
         "t": 60
        },
        "template": {
         "data": {
          "bar": [
           {
            "error_x": {
             "color": "#2a3f5f"
            },
            "error_y": {
             "color": "#2a3f5f"
            },
            "marker": {
             "line": {
              "color": "#E5ECF6",
              "width": 0.5
             },
             "pattern": {
              "fillmode": "overlay",
              "size": 10,
              "solidity": 0.2
             }
            },
            "type": "bar"
           }
          ],
          "barpolar": [
           {
            "marker": {
             "line": {
              "color": "#E5ECF6",
              "width": 0.5
             },
             "pattern": {
              "fillmode": "overlay",
              "size": 10,
              "solidity": 0.2
             }
            },
            "type": "barpolar"
           }
          ],
          "carpet": [
           {
            "aaxis": {
             "endlinecolor": "#2a3f5f",
             "gridcolor": "white",
             "linecolor": "white",
             "minorgridcolor": "white",
             "startlinecolor": "#2a3f5f"
            },
            "baxis": {
             "endlinecolor": "#2a3f5f",
             "gridcolor": "white",
             "linecolor": "white",
             "minorgridcolor": "white",
             "startlinecolor": "#2a3f5f"
            },
            "type": "carpet"
           }
          ],
          "choropleth": [
           {
            "colorbar": {
             "outlinewidth": 0,
             "ticks": ""
            },
            "type": "choropleth"
           }
          ],
          "contour": [
           {
            "colorbar": {
             "outlinewidth": 0,
             "ticks": ""
            },
            "colorscale": [
             [
              0,
              "#0d0887"
             ],
             [
              0.1111111111111111,
              "#46039f"
             ],
             [
              0.2222222222222222,
              "#7201a8"
             ],
             [
              0.3333333333333333,
              "#9c179e"
             ],
             [
              0.4444444444444444,
              "#bd3786"
             ],
             [
              0.5555555555555556,
              "#d8576b"
             ],
             [
              0.6666666666666666,
              "#ed7953"
             ],
             [
              0.7777777777777778,
              "#fb9f3a"
             ],
             [
              0.8888888888888888,
              "#fdca26"
             ],
             [
              1,
              "#f0f921"
             ]
            ],
            "type": "contour"
           }
          ],
          "contourcarpet": [
           {
            "colorbar": {
             "outlinewidth": 0,
             "ticks": ""
            },
            "type": "contourcarpet"
           }
          ],
          "heatmap": [
           {
            "colorbar": {
             "outlinewidth": 0,
             "ticks": ""
            },
            "colorscale": [
             [
              0,
              "#0d0887"
             ],
             [
              0.1111111111111111,
              "#46039f"
             ],
             [
              0.2222222222222222,
              "#7201a8"
             ],
             [
              0.3333333333333333,
              "#9c179e"
             ],
             [
              0.4444444444444444,
              "#bd3786"
             ],
             [
              0.5555555555555556,
              "#d8576b"
             ],
             [
              0.6666666666666666,
              "#ed7953"
             ],
             [
              0.7777777777777778,
              "#fb9f3a"
             ],
             [
              0.8888888888888888,
              "#fdca26"
             ],
             [
              1,
              "#f0f921"
             ]
            ],
            "type": "heatmap"
           }
          ],
          "heatmapgl": [
           {
            "colorbar": {
             "outlinewidth": 0,
             "ticks": ""
            },
            "colorscale": [
             [
              0,
              "#0d0887"
             ],
             [
              0.1111111111111111,
              "#46039f"
             ],
             [
              0.2222222222222222,
              "#7201a8"
             ],
             [
              0.3333333333333333,
              "#9c179e"
             ],
             [
              0.4444444444444444,
              "#bd3786"
             ],
             [
              0.5555555555555556,
              "#d8576b"
             ],
             [
              0.6666666666666666,
              "#ed7953"
             ],
             [
              0.7777777777777778,
              "#fb9f3a"
             ],
             [
              0.8888888888888888,
              "#fdca26"
             ],
             [
              1,
              "#f0f921"
             ]
            ],
            "type": "heatmapgl"
           }
          ],
          "histogram": [
           {
            "marker": {
             "pattern": {
              "fillmode": "overlay",
              "size": 10,
              "solidity": 0.2
             }
            },
            "type": "histogram"
           }
          ],
          "histogram2d": [
           {
            "colorbar": {
             "outlinewidth": 0,
             "ticks": ""
            },
            "colorscale": [
             [
              0,
              "#0d0887"
             ],
             [
              0.1111111111111111,
              "#46039f"
             ],
             [
              0.2222222222222222,
              "#7201a8"
             ],
             [
              0.3333333333333333,
              "#9c179e"
             ],
             [
              0.4444444444444444,
              "#bd3786"
             ],
             [
              0.5555555555555556,
              "#d8576b"
             ],
             [
              0.6666666666666666,
              "#ed7953"
             ],
             [
              0.7777777777777778,
              "#fb9f3a"
             ],
             [
              0.8888888888888888,
              "#fdca26"
             ],
             [
              1,
              "#f0f921"
             ]
            ],
            "type": "histogram2d"
           }
          ],
          "histogram2dcontour": [
           {
            "colorbar": {
             "outlinewidth": 0,
             "ticks": ""
            },
            "colorscale": [
             [
              0,
              "#0d0887"
             ],
             [
              0.1111111111111111,
              "#46039f"
             ],
             [
              0.2222222222222222,
              "#7201a8"
             ],
             [
              0.3333333333333333,
              "#9c179e"
             ],
             [
              0.4444444444444444,
              "#bd3786"
             ],
             [
              0.5555555555555556,
              "#d8576b"
             ],
             [
              0.6666666666666666,
              "#ed7953"
             ],
             [
              0.7777777777777778,
              "#fb9f3a"
             ],
             [
              0.8888888888888888,
              "#fdca26"
             ],
             [
              1,
              "#f0f921"
             ]
            ],
            "type": "histogram2dcontour"
           }
          ],
          "mesh3d": [
           {
            "colorbar": {
             "outlinewidth": 0,
             "ticks": ""
            },
            "type": "mesh3d"
           }
          ],
          "parcoords": [
           {
            "line": {
             "colorbar": {
              "outlinewidth": 0,
              "ticks": ""
             }
            },
            "type": "parcoords"
           }
          ],
          "pie": [
           {
            "automargin": true,
            "type": "pie"
           }
          ],
          "scatter": [
           {
            "fillpattern": {
             "fillmode": "overlay",
             "size": 10,
             "solidity": 0.2
            },
            "type": "scatter"
           }
          ],
          "scatter3d": [
           {
            "line": {
             "colorbar": {
              "outlinewidth": 0,
              "ticks": ""
             }
            },
            "marker": {
             "colorbar": {
              "outlinewidth": 0,
              "ticks": ""
             }
            },
            "type": "scatter3d"
           }
          ],
          "scattercarpet": [
           {
            "marker": {
             "colorbar": {
              "outlinewidth": 0,
              "ticks": ""
             }
            },
            "type": "scattercarpet"
           }
          ],
          "scattergeo": [
           {
            "marker": {
             "colorbar": {
              "outlinewidth": 0,
              "ticks": ""
             }
            },
            "type": "scattergeo"
           }
          ],
          "scattergl": [
           {
            "marker": {
             "colorbar": {
              "outlinewidth": 0,
              "ticks": ""
             }
            },
            "type": "scattergl"
           }
          ],
          "scattermapbox": [
           {
            "marker": {
             "colorbar": {
              "outlinewidth": 0,
              "ticks": ""
             }
            },
            "type": "scattermapbox"
           }
          ],
          "scatterpolar": [
           {
            "marker": {
             "colorbar": {
              "outlinewidth": 0,
              "ticks": ""
             }
            },
            "type": "scatterpolar"
           }
          ],
          "scatterpolargl": [
           {
            "marker": {
             "colorbar": {
              "outlinewidth": 0,
              "ticks": ""
             }
            },
            "type": "scatterpolargl"
           }
          ],
          "scatterternary": [
           {
            "marker": {
             "colorbar": {
              "outlinewidth": 0,
              "ticks": ""
             }
            },
            "type": "scatterternary"
           }
          ],
          "surface": [
           {
            "colorbar": {
             "outlinewidth": 0,
             "ticks": ""
            },
            "colorscale": [
             [
              0,
              "#0d0887"
             ],
             [
              0.1111111111111111,
              "#46039f"
             ],
             [
              0.2222222222222222,
              "#7201a8"
             ],
             [
              0.3333333333333333,
              "#9c179e"
             ],
             [
              0.4444444444444444,
              "#bd3786"
             ],
             [
              0.5555555555555556,
              "#d8576b"
             ],
             [
              0.6666666666666666,
              "#ed7953"
             ],
             [
              0.7777777777777778,
              "#fb9f3a"
             ],
             [
              0.8888888888888888,
              "#fdca26"
             ],
             [
              1,
              "#f0f921"
             ]
            ],
            "type": "surface"
           }
          ],
          "table": [
           {
            "cells": {
             "fill": {
              "color": "#EBF0F8"
             },
             "line": {
              "color": "white"
             }
            },
            "header": {
             "fill": {
              "color": "#C8D4E3"
             },
             "line": {
              "color": "white"
             }
            },
            "type": "table"
           }
          ]
         },
         "layout": {
          "annotationdefaults": {
           "arrowcolor": "#2a3f5f",
           "arrowhead": 0,
           "arrowwidth": 1
          },
          "autotypenumbers": "strict",
          "coloraxis": {
           "colorbar": {
            "outlinewidth": 0,
            "ticks": ""
           }
          },
          "colorscale": {
           "diverging": [
            [
             0,
             "#8e0152"
            ],
            [
             0.1,
             "#c51b7d"
            ],
            [
             0.2,
             "#de77ae"
            ],
            [
             0.3,
             "#f1b6da"
            ],
            [
             0.4,
             "#fde0ef"
            ],
            [
             0.5,
             "#f7f7f7"
            ],
            [
             0.6,
             "#e6f5d0"
            ],
            [
             0.7,
             "#b8e186"
            ],
            [
             0.8,
             "#7fbc41"
            ],
            [
             0.9,
             "#4d9221"
            ],
            [
             1,
             "#276419"
            ]
           ],
           "sequential": [
            [
             0,
             "#0d0887"
            ],
            [
             0.1111111111111111,
             "#46039f"
            ],
            [
             0.2222222222222222,
             "#7201a8"
            ],
            [
             0.3333333333333333,
             "#9c179e"
            ],
            [
             0.4444444444444444,
             "#bd3786"
            ],
            [
             0.5555555555555556,
             "#d8576b"
            ],
            [
             0.6666666666666666,
             "#ed7953"
            ],
            [
             0.7777777777777778,
             "#fb9f3a"
            ],
            [
             0.8888888888888888,
             "#fdca26"
            ],
            [
             1,
             "#f0f921"
            ]
           ],
           "sequentialminus": [
            [
             0,
             "#0d0887"
            ],
            [
             0.1111111111111111,
             "#46039f"
            ],
            [
             0.2222222222222222,
             "#7201a8"
            ],
            [
             0.3333333333333333,
             "#9c179e"
            ],
            [
             0.4444444444444444,
             "#bd3786"
            ],
            [
             0.5555555555555556,
             "#d8576b"
            ],
            [
             0.6666666666666666,
             "#ed7953"
            ],
            [
             0.7777777777777778,
             "#fb9f3a"
            ],
            [
             0.8888888888888888,
             "#fdca26"
            ],
            [
             1,
             "#f0f921"
            ]
           ]
          },
          "colorway": [
           "#636efa",
           "#EF553B",
           "#00cc96",
           "#ab63fa",
           "#FFA15A",
           "#19d3f3",
           "#FF6692",
           "#B6E880",
           "#FF97FF",
           "#FECB52"
          ],
          "font": {
           "color": "#2a3f5f"
          },
          "geo": {
           "bgcolor": "white",
           "lakecolor": "white",
           "landcolor": "#E5ECF6",
           "showlakes": true,
           "showland": true,
           "subunitcolor": "white"
          },
          "hoverlabel": {
           "align": "left"
          },
          "hovermode": "closest",
          "mapbox": {
           "style": "light"
          },
          "paper_bgcolor": "white",
          "plot_bgcolor": "#E5ECF6",
          "polar": {
           "angularaxis": {
            "gridcolor": "white",
            "linecolor": "white",
            "ticks": ""
           },
           "bgcolor": "#E5ECF6",
           "radialaxis": {
            "gridcolor": "white",
            "linecolor": "white",
            "ticks": ""
           }
          },
          "scene": {
           "xaxis": {
            "backgroundcolor": "#E5ECF6",
            "gridcolor": "white",
            "gridwidth": 2,
            "linecolor": "white",
            "showbackground": true,
            "ticks": "",
            "zerolinecolor": "white"
           },
           "yaxis": {
            "backgroundcolor": "#E5ECF6",
            "gridcolor": "white",
            "gridwidth": 2,
            "linecolor": "white",
            "showbackground": true,
            "ticks": "",
            "zerolinecolor": "white"
           },
           "zaxis": {
            "backgroundcolor": "#E5ECF6",
            "gridcolor": "white",
            "gridwidth": 2,
            "linecolor": "white",
            "showbackground": true,
            "ticks": "",
            "zerolinecolor": "white"
           }
          },
          "shapedefaults": {
           "line": {
            "color": "#2a3f5f"
           }
          },
          "ternary": {
           "aaxis": {
            "gridcolor": "white",
            "linecolor": "white",
            "ticks": ""
           },
           "baxis": {
            "gridcolor": "white",
            "linecolor": "white",
            "ticks": ""
           },
           "bgcolor": "#E5ECF6",
           "caxis": {
            "gridcolor": "white",
            "linecolor": "white",
            "ticks": ""
           }
          },
          "title": {
           "x": 0.05
          },
          "xaxis": {
           "automargin": true,
           "gridcolor": "white",
           "linecolor": "white",
           "ticks": "",
           "title": {
            "standoff": 15
           },
           "zerolinecolor": "white",
           "zerolinewidth": 2
          },
          "yaxis": {
           "automargin": true,
           "gridcolor": "white",
           "linecolor": "white",
           "ticks": "",
           "title": {
            "standoff": 15
           },
           "zerolinecolor": "white",
           "zerolinewidth": 2
          }
         }
        },
        "title": {
         "text": "2D PCA Scatter Plot"
        },
        "xaxis": {
         "anchor": "y",
         "domain": [
          0,
          1
         ],
         "title": {
          "text": "PCA1"
         }
        },
        "yaxis": {
         "anchor": "x",
         "domain": [
          0,
          1
         ],
         "title": {
          "text": "PCA2"
         }
        }
       }
      }
     },
     "metadata": {},
     "output_type": "display_data"
    },
    {
     "data": {
      "application/vnd.plotly.v1+json": {
       "config": {
        "plotlyServerURL": "https://plot.ly"
       },
       "data": [
        {
         "hovertemplate": "label=Lavani<br>0=%{x}<br>1=%{y}<br>2=%{z}<extra></extra>",
         "legendgroup": "Lavani",
         "marker": {
          "color": "#636efa",
          "symbol": "circle"
         },
         "mode": "markers",
         "name": "Lavani",
         "scene": "scene",
         "showlegend": true,
         "type": "scatter3d",
         "x": [
          0.943441915000643,
          6.0981063870356795,
          -2.5010819133339894,
          7.169509619485111,
          8.605975011175936,
          1.5300199275170132,
          2.819352940071345,
          0.64175897049783,
          -5.8416712595570175,
          2.2034755676655187,
          1.103862411239812,
          -1.6011131612893506,
          12.02630113611691,
          -6.820250325105236,
          -2.0984994489532003,
          4.3020358651522175,
          3.8108037315246013,
          3.5402725244274067,
          3.0945112005298503,
          6.060916857741205,
          -0.6533231387633447,
          3.4485029902738584,
          1.9866338882195336,
          9.832982511492105,
          0.31593918664726195,
          2.2279081425449645,
          1.4581782504596246,
          2.0364779004246154,
          -1.7355438950653612,
          3.647764980949785,
          5.778963378196149,
          -4.600749027176575,
          1.733799986373149,
          9.66892695850221,
          7.614125557617187,
          -0.04863589886409675,
          1.7279925667778695,
          -2.131497706969654,
          7.801799017487303,
          -0.14710693644675787,
          6.26644811833575,
          0.028934256485109517,
          -4.3709888547286715,
          2.731455975816218,
          6.010532620419546,
          1.8432408597303045,
          -4.081230121585874,
          11.189240883625509,
          5.587016668269125,
          3.2231867606744484,
          0.04496659193755034,
          3.9889642599002295,
          0.9801718181312978,
          5.565907027128828,
          2.329648591816627,
          3.4588760091646575,
          -3.1407933097794194,
          0.6692508399910612,
          3.0624791806328835,
          5.57668969113564,
          1.152385394666143,
          6.535265211365645,
          0.5914913891553695,
          -1.2591813234288447,
          4.56117863793189,
          5.1683806496068305,
          10.726285425962407,
          7.679389211187679,
          2.0388287140714287,
          8.37515085930887,
          2.233274680533915,
          2.05441302467719,
          0.41514699798164656,
          0.7057485046672654,
          -0.9257871049960272,
          8.38739487578589,
          2.687447430724474,
          -0.837799678288372,
          -0.3626588516449281,
          7.047756275408669,
          3.2944287822573557,
          -1.822120743885196,
          4.616084071585151
         ],
         "y": [
          -0.14243689744760005,
          2.3786077677227366,
          -2.277667022655315,
          1.7256943090124557,
          3.7484001958130984,
          0.721704797201101,
          1.9775960546479099,
          -0.21318204233878135,
          -3.4006394122320094,
          0.7422732293956364,
          -1.4105580169345409,
          -2.3198695391886917,
          4.352616814692178,
          -4.132317328654416,
          -0.7500043487674769,
          1.0290466951051187,
          1.1352607747500154,
          0.7462566500474581,
          1.5896079604343094,
          2.1720137940109083,
          -2.298457397099556,
          1.064258460293581,
          -0.7383043446116625,
          4.135449053260595,
          1.607331670213219,
          -0.13388651442912486,
          -0.5771264178190367,
          -0.6752556709812948,
          -0.7906497403987672,
          1.5272373070353085,
          0.9632379950556094,
          -0.5095803096929443,
          -0.014015467555134118,
          2.664300463760655,
          2.344808097742088,
          -0.16346661683018163,
          -0.44042606286843294,
          -2.3739504077333033,
          2.966835683368086,
          -1.865022618250042,
          1.8821560188453808,
          1.6352829779536677,
          -3.3147878159428092,
          -0.3328082810921572,
          4.6843078566533,
          0.027637098693157378,
          -2.075951781612545,
          5.152460589239209,
          1.8298983907806896,
          0.8434912847703977,
          -0.5877678232895265,
          3.057589028250408,
          -0.37741301009252526,
          0.9707367271524088,
          0.20427771552458454,
          -0.2402555624389398,
          -1.866282440074358,
          -0.3770041384246148,
          1.0460591066177842,
          0.7722134537885218,
          -0.3302327724131594,
          2.98272605639157,
          -0.301225625473426,
          -1.0417307614829205,
          2.2466017759949803,
          2.6605708432132693,
          4.61874729781441,
          1.966762853744712,
          0.09993302382060625,
          2.472060645692474,
          1.394902447663917,
          0.06957532440583242,
          -0.05426204450860564,
          -1.093198579760776,
          -1.8563985296071737,
          2.2281138577968185,
          0.20406481074628827,
          -2.1505728603621503,
          -0.6112612919762466,
          1.712400496746868,
          0.40308396233263216,
          -2.1730663360465114,
          2.6591791018627133
         ],
         "z": [
          -3.23550548283285,
          1.0564143178603962,
          -4.129834299233022,
          -8.102811725509687,
          -1.4035766966038399,
          -1.40010746069811,
          0.672443931904908,
          -2.442153535814955,
          -3.6409191997773807,
          -2.27360340767937,
          -3.0454984759887394,
          -5.325688391110762,
          -6.270764040950927,
          -1.8608550719413939,
          -1.0705881807351534,
          -2.0865768224752763,
          -1.6755196496567757,
          -4.775716157528351,
          -2.3489841614466105,
          -2.652944601170582,
          -4.502572100555936,
          -2.3998286230918002,
          -2.4870474430125293,
          -3.46541817707516,
          1.6688299813480987,
          -5.313224478565489,
          -1.5518779790134656,
          -2.175696517669526,
          0.46542791695391544,
          0.19271769947560813,
          -7.856787347955343,
          3.3752652482243994,
          -1.8753853264647327,
          -8.270824636633177,
          -5.14258328567879,
          -3.434711834833557,
          -3.0596402312212407,
          -3.6541838576986345,
          0.4492931426589421,
          -5.5098013044020835,
          -4.454309960279394,
          0.7745191775944157,
          -5.062374238792821,
          -3.5644400188383214,
          0.9779688804181654,
          -1.7494912899969517,
          -4.413424844128721,
          -0.9431138770300802,
          -0.8216333753503456,
          -2.1135074248297205,
          -6.641101903999635,
          0.6033064068232673,
          -8.396168379128387,
          -4.234792657210249,
          -2.5013854671478555,
          -0.43020312370680286,
          -1.5744475530728321,
          -5.259564986038027,
          -7.284644893260904,
          -7.144024222611643,
          -2.3739194916132984,
          -2.677818781897527,
          -4.62720205609572,
          -2.270406311654763,
          -2.2861005532187213,
          -0.8379743932158887,
          -3.6240170413568107,
          -6.5782315620546665,
          -2.2247645522189576,
          -5.501231342966009,
          -0.13194511680761156,
          -0.050183620220706424,
          0.38300289625034545,
          -3.4815905729252066,
          -5.210043343492834,
          -5.090579625308061,
          -1.807201959800948,
          -4.732020517670153,
          -2.7642245189217687,
          -5.459225510563102,
          -3.0905592298278677,
          -2.3209825783994673,
          -2.529372147936809
         ]
        },
        {
         "hovertemplate": "label=AshaBhosle<br>0=%{x}<br>1=%{y}<br>2=%{z}<extra></extra>",
         "legendgroup": "AshaBhosle",
         "marker": {
          "color": "#EF553B",
          "symbol": "circle"
         },
         "mode": "markers",
         "name": "AshaBhosle",
         "scene": "scene",
         "showlegend": true,
         "type": "scatter3d",
         "x": [
          -5.400920666359715,
          2.993351743307385,
          -5.739067531897768,
          -5.895052012209124,
          5.534283651977485,
          -3.7055921283362654,
          -6.640315145911629,
          -4.678947743853682,
          -4.696588347537254,
          -3.3979260798874478,
          -1.8319630437253065,
          -1.2542386477907292,
          -2.515722552147003,
          -0.04670431458414764,
          0.20880535553586488,
          -0.28529726061960686,
          -0.4140873027418283,
          19.028992191828134,
          -3.687464969675353,
          2.715078482151547,
          1.3655307454521521,
          -0.19225093061281953,
          5.002118126972855,
          2.9300648296006933,
          -98.36409595421523,
          -6.184656048702725,
          1.1724648052698408,
          -3.1713739374248324,
          0.8274148227378058,
          -0.2549942990505669,
          0.11046346822353803,
          3.387175365855959,
          -0.16825190706911908,
          3.9374895063432245,
          6.434474922242905,
          6.312446938682564,
          0.720014342934402,
          -0.07559226014243542,
          -12.079905574723412,
          -0.8149561617710264,
          4.008933197266193,
          -3.2658121700629947,
          4.7906203683772635,
          -1.213684157013036,
          3.168826593165379,
          -2.208711621010985,
          0.17705718919618585,
          -2.3745845985626817,
          3.291965941905727,
          4.894418278938704,
          -1.9242998777245148,
          -2.102136841211434,
          2.777983214561428,
          -0.1796777473721979,
          6.964397499562806,
          4.73144123385234,
          4.554205272814,
          7.316872034726243,
          4.785038244376752,
          0.4461673208398114,
          -2.8410721942546053,
          -2.30357551505293,
          2.560283036838443,
          2.896836367786565,
          1.8615070075225204,
          -4.394654149592228,
          4.161055502707763,
          -4.32026121793205,
          -8.012995488749112,
          1.7079567583429456,
          -0.7732719399793437,
          -3.6579574317742463,
          -6.099392511531277,
          -2.812786798053764,
          -0.024209918464096612,
          0.020563837964457682,
          0.9665233111649055,
          -9.177950883347764,
          -12.956836923435155,
          -0.8349272241531595,
          2.8670185288350667,
          -2.558671771263614,
          7.2742800411469375,
          -4.353049500049609,
          -2.622541795086234,
          -0.7110041325876604,
          2.1669264808548805,
          -2.659979350980159,
          -0.9449490705878768,
          -3.8523922035026334,
          -2.917252348952018,
          1.6918673305952239,
          -0.382674919828589,
          2.7598640040829863,
          0.5385195045968824,
          6.095838212154498,
          -8.91922554750567,
          0.26514643967188506,
          0.1857152838185044,
          1.265761747079662,
          1.3899251079337804,
          0.24908856037890956,
          8.955489387474987,
          0.4957975572973204,
          -1.5787026763796044,
          -1.8778292501160156,
          2.7837566300266667,
          0.8418690621474699,
          -3.0396726018852123,
          3.703204464852468,
          1.7174858080242357,
          -1.2675558366636628,
          0.4541429736788751,
          0.6786188418458987,
          2.0659816614406195,
          0.9007440643904814,
          -0.7465247468588526,
          -2.760151687483964,
          6.12534915989041
         ],
         "y": [
          -3.427075369588353,
          0.6122434549938757,
          -2.0398912346335187,
          -3.3909156875922832,
          3.179535464376943,
          -2.272331353792879,
          -3.3035713218731497,
          -2.920592513206098,
          -2.531763720072616,
          -2.2355525866573664,
          -1.8742404693341674,
          -1.2872993391285155,
          -2.588019132193507,
          -0.8669061466688716,
          -1.2455597403780008,
          -1.1663879579408114,
          -0.36745203016570266,
          9.948083830543933,
          -2.263324252088311,
          0.06585191524258421,
          0.3631728197581872,
          -1.4817767976146934,
          1.9181618392381115,
          0.20674928623308944,
          83.90152852156118,
          -4.060546786959204,
          -0.24585365407791096,
          -2.5513385904277563,
          0.6694675869276311,
          -1.0921312123175846,
          -1.0679888120567635,
          1.3276889306209203,
          -0.1889699312227452,
          0.4263987594258118,
          0.8277963323865148,
          2.379045858209148,
          -0.7865965190618308,
          -0.7235236057008224,
          -5.394881330035734,
          -0.38772306668182055,
          1.7355031741171527,
          -1.8827537516764652,
          1.7413727243127128,
          -1.2997611103306501,
          1.0544472183494864,
          -1.4214366239099532,
          -0.5799503588989869,
          -2.448585047724344,
          1.4668121802020093,
          0.7195157393301369,
          -1.8935154998003358,
          -1.5694037738802686,
          0.7121612270239176,
          -0.8131212723505779,
          2.2114764246767424,
          1.3612366940319107,
          2.3064775471551466,
          3.3554911364386433,
          1.100309875223298,
          -0.6176562510483316,
          -1.2685742761455923,
          -1.7698043840339512,
          0.27739216137035955,
          0.5862347438699045,
          0.7475188169667509,
          -2.860845920579532,
          1.2125512381918977,
          -2.6767346659697346,
          -3.6821978358004457,
          0.04923252450286017,
          -2.3473020571370635,
          -0.8315915812544633,
          -3.2159160408994416,
          -2.1088607453674157,
          -0.8520510180838818,
          -0.451632259184624,
          -0.4098830771133669,
          -1.6144497967618405,
          -4.662360713665651,
          -1.5453064190953378,
          0.6984042435261166,
          -2.444712555155126,
          4.020456564363473,
          -2.8103068953547052,
          -2.047026315141631,
          -1.0242059728329058,
          1.1374174105146555,
          -2.8514041865925197,
          -0.9746335320414435,
          -3.1340038409606215,
          -1.866704362100937,
          -1.0560717692957495,
          -1.3034324711353689,
          1.0759587177525272,
          -1.1361437531142882,
          2.449735789032556,
          -4.184508162263271,
          -0.8947328729989145,
          1.5021305723228073,
          1.268246467412353,
          -1.056723825362162,
          -0.3291070348071731,
          3.597832450817208,
          -0.45291437745101804,
          -0.9564662557864664,
          -1.8937611691888236,
          0.5452455423605509,
          -0.41919787576039175,
          -2.7693982064688045,
          1.0958891906817672,
          -0.22215988817424845,
          -1.6932070969395137,
          -1.284896640732617,
          -0.8107955509013601,
          0.4213007150630599,
          -0.3599959733770631,
          -0.15477822339550126,
          -1.661504036020583,
          2.2278926308257248
         ],
         "z": [
          2.098198404651914,
          -2.8929251169823367,
          7.357070896142917,
          -2.225491112338758,
          -5.696761496228775,
          -4.601587127733695,
          0.02427495527007611,
          -2.6325348707485823,
          -2.9334114525857005,
          -3.5614529471480068,
          -3.727529109896406,
          -4.995331932592692,
          -3.6044984087064598,
          -3.681219281529954,
          -6.635668892067082,
          -5.380236583558463,
          -7.063929067113601,
          -3.598491293740726,
          -4.599197011255344,
          -2.126879256008814,
          -1.5079994259421752,
          -3.0145880335854653,
          -4.123066889733586,
          -5.897320029047207,
          -12.813588070475824,
          -3.815770044819255,
          -5.918350717746265,
          -3.950830993984173,
          -1.4578631420350845,
          -3.504668611026122,
          -3.359965623655845,
          -5.30511241600739,
          0.09892145057694764,
          -5.972372937190707,
          -7.366371655436936,
          -3.26769035887101,
          -5.14092600316364,
          -5.1521531905357305,
          -2.5906209914768925,
          -1.9696035490570245,
          -2.81959106669233,
          -1.8449086997993356,
          -3.726035366113625,
          -2.1763325473970276,
          -4.415862718233671,
          -1.9714715062542156,
          -0.9543161821561675,
          -5.144056105998291,
          -2.78848878377863,
          -5.585276765846893,
          -3.8742362307708778,
          -4.283746799422545,
          -5.483469725790177,
          -4.398297992156203,
          -2.097094462118331,
          -3.981917670104422,
          -2.5865690945778113,
          -1.9241975652814878,
          -6.511275047872602,
          -5.25793373963671,
          -4.102940288352845,
          -3.729201133729423,
          -3.815656095655841,
          -6.938887162648203,
          -2.665462080701916,
          -5.121814394363297,
          -3.126785729079678,
          1.6764794823775007,
          1.3780798401998442,
          -3.411058834133512,
          -7.527222606247375,
          -2.983774604033875,
          -3.7340252929391755,
          -2.1143852704558928,
          -1.4358818450208524,
          -3.0642133854188276,
          -4.4541142563150995,
          1.1967567982971603,
          -2.053725692835077,
          -1.402936867708743,
          -3.768648969328795,
          -2.8488325871163345,
          -5.303818221937468,
          -2.913216302044407,
          -3.805823123199631,
          -4.336507085767545,
          -2.34272346670368,
          -4.089946452467435,
          -5.05590730227709,
          -2.6239863796350607,
          -2.462707811520556,
          -7.06884917280496,
          -5.5641914833424915,
          -3.9522000969683124,
          -6.245693906797368,
          -6.02765507030292,
          -3.642375060488928,
          -3.569668044267941,
          -0.06255733055994996,
          -3.303636634978704,
          -4.522292348404399,
          -2.921004387108407,
          -4.830776515540066,
          -5.0839316467518465,
          0.6417454649177555,
          -3.0442488522926445,
          -5.933772527729197,
          -1.8334720273980556,
          -4.324770808352173,
          -4.474590910137167,
          -4.250241807811898,
          -4.208722347838744,
          -5.482513055020076,
          -3.032259250207711,
          -2.473556909538094,
          -5.326338222592645,
          -1.2931504110498568,
          1.8234526083019567,
          -6.934942764389007
         ]
        },
        {
         "hovertemplate": "label=MichaelJackson<br>0=%{x}<br>1=%{y}<br>2=%{z}<extra></extra>",
         "legendgroup": "MichaelJackson",
         "marker": {
          "color": "#00cc96",
          "symbol": "circle"
         },
         "mode": "markers",
         "name": "MichaelJackson",
         "scene": "scene",
         "showlegend": true,
         "type": "scatter3d",
         "x": [
          5.316926860940945,
          -1.5162314244128032,
          -1.668804293785164,
          -0.3248387753345579,
          5.302533298345437,
          -2.810019411744948,
          -0.6633901185203083,
          5.682578584430778,
          3.331433970349795,
          2.8167063044404874,
          5.7737340412572316,
          2.3570914320762633,
          -1.0252902851242516,
          0.2646093237851185,
          6.835895062983732,
          -4.762642374659408,
          2.4729321112028217,
          -6.616591113358561,
          -10.37859526174791,
          -3.692632644664178,
          2.0263821512646194,
          7.486010072251069,
          -5.489037113729783,
          -2.791910729662759,
          1.8301359590929855,
          5.388700797671346,
          -0.6899585310530272,
          -5.22194672528472,
          8.53562441956927,
          12.085428624082152,
          -1.935679773884236,
          1.670423859858333,
          9.452606418092769,
          0.32710388106416033,
          -3.765689164060221,
          8.096553947737252,
          8.63827930785619,
          1.5999690133217577,
          7.730332847584221,
          10.837104028866136,
          3.594732525015534,
          13.684065156801461,
          4.139491105022603,
          0.352730040030288,
          2.5416274282994666,
          -2.184561264751261,
          -0.9287599327594386,
          -3.4940916427050976,
          7.046449011455996,
          -11.71366135930494,
          7.174504253372257,
          -1.0243536373621602,
          -2.1875052901633225,
          7.217312516988139,
          2.6158125783364787,
          3.619374794502983,
          -5.081549533578769,
          5.705951536604278,
          0.7332257443945736,
          -2.3405485684190133,
          2.532246744682667,
          7.833695935928635,
          1.972033576769719,
          14.105825376355472,
          2.7236454217471695,
          -0.14070925649031102,
          2.2519740133576454,
          1.9454547968308484,
          -8.30463913323929,
          0.822344105917473,
          8.113800163213236,
          2.302080717562211,
          -4.4584770665021205,
          3.754503616771895,
          1.4783007774640193,
          12.642415163603959,
          -2.7996404720094348,
          -6.7661417021485555,
          7.1050740040532645,
          7.130806625788329,
          6.4241120451737,
          7.5687838621646435,
          12.71219599659015,
          3.2813363387594796,
          -2.9561767957266643,
          5.332762793227467,
          3.0544435446874028,
          10.876854908385303,
          3.9741801365759333,
          5.7737340412572316,
          0.7657657844530366,
          6.643269908819248,
          2.6365718766158994,
          -1.286666714106253,
          1.1917691390484584,
          2.701270308699318,
          -6.8331867494998715,
          5.841991080038038,
          5.620082072520568,
          0.7958888257448804,
          -0.34592364942504017,
          8.645414589110118,
          10.529916957269256,
          6.505323139724111,
          6.695514269754972,
          -4.9004458357813725,
          0.11139074183549337,
          8.448510408562557,
          1.3102390076718957,
          0.3269545491500512,
          3.221548143677164,
          4.198377870798813,
          4.738543095546913,
          9.151492112552859,
          0.488679451741074,
          4.603630826413211,
          4.809972889436893,
          -9.288516070277502,
          0.7263347052279949,
          5.543010363818464,
          4.324308099852701,
          12.999569062050027,
          -6.477367481983938,
          5.38299699704925,
          -1.5314017212881612,
          7.268129670469814,
          7.017539615142171,
          1.0296921966194796,
          5.215813725520139,
          12.625026125473559,
          -3.2964885921514853,
          4.258649408414573,
          -2.871561255296837,
          7.775912957843065,
          8.343442514097392,
          -0.7844864056328007,
          7.152908907456843,
          0.7105761096750275,
          3.2093571945613877,
          4.195329587306724,
          3.1122779376061716,
          2.0745427251537403,
          2.1789147110224776,
          6.2513083341964375,
          -2.2172982375257733,
          3.745997678873252,
          9.201020001485404,
          1.9714240130863607
         ],
         "y": [
          2.103192696546041,
          -1.1816878056910887,
          -1.1335302430385188,
          -0.5660231290622467,
          2.42578765770975,
          -1.634479777115921,
          -1.119892790135029,
          3.6817526570179906,
          1.121621302017399,
          1.0935216624090969,
          2.9653028071683663,
          0.3507404471315133,
          -0.6830683210965652,
          0.7602039703861434,
          2.938337870522879,
          -2.710296812542074,
          1.1294669060166806,
          -2.8889355355155613,
          -3.523609253112597,
          -2.491600703318006,
          1.0222950919861296,
          4.462897225501453,
          -2.6339942229375324,
          -1.1698404338255828,
          2.710975863197591,
          1.8130492973525636,
          -0.6306351534167773,
          -2.093150655670132,
          5.168513006537435,
          6.041871469967299,
          0.022352020734278076,
          0.5243253600842548,
          4.825817270300711,
          -0.0845990018616397,
          -0.446762741000387,
          4.829314077587492,
          3.854128015663283,
          1.486190713060425,
          4.256283925932803,
          5.560583903690974,
          1.8794506306771304,
          7.280990660224473,
          1.4077803456011142,
          0.4083151724295215,
          1.6025219948025122,
          -1.0449290413863033,
          -0.528269122935151,
          -1.662337799575559,
          3.3478598459911515,
          -5.3791145196918455,
          3.344284477192147,
          -0.8971463556023302,
          -0.9193589234916828,
          2.9337815890356267,
          0.2335581008521165,
          0.43720474938364023,
          -1.2972054116237581,
          2.059338626210114,
          -0.2829446149529823,
          -0.759671870285431,
          1.3482875791284399,
          3.73707729718582,
          1.826621688844798,
          7.991736936344644,
          2.3868351158149554,
          -0.4720752297888393,
          1.8610952328467103,
          0.1697015763553114,
          -3.8158631600970008,
          0.21510148876315618,
          4.186649428105825,
          0.7623533642128388,
          -1.190335362704848,
          1.0209404596214735,
          0.49334793978318114,
          6.318429537542667,
          -0.9508817185607239,
          -3.29878549012416,
          3.475744346774822,
          2.854774820303841,
          3.509284657211271,
          3.34529573518734,
          7.573647180441781,
          1.2442641386834705,
          -1.957701040309043,
          2.493509613872596,
          1.590120692737534,
          5.873298497819166,
          1.125696945477396,
          2.9653028071683663,
          0.5669948729790133,
          3.363570265746862,
          0.4930278608270612,
          -1.0062779362836587,
          0.28650048555324925,
          0.3666183997739295,
          -3.429231442377307,
          4.293580728176742,
          2.4861942911058756,
          0.5118351569298113,
          -0.43628883105614796,
          3.9940574245463387,
          5.066679859475122,
          2.633125682678228,
          3.7165491588865596,
          -2.4486674073202392,
          -0.8402343416821169,
          4.600724547498273,
          1.3435541119254983,
          -0.32893785278236115,
          0.9146023050333353,
          2.0682391460917513,
          1.406033316904309,
          4.731316066651844,
          0.7292335635017565,
          2.775992552758628,
          1.6394246701631967,
          -4.063796657489053,
          -0.030930609025542972,
          3.174727398991839,
          2.6017685746237507,
          7.019210928601559,
          -2.856146875039098,
          2.3149172983724986,
          -0.751965862342729,
          3.9338230304785573,
          2.9331611914864353,
          0.8261567309047012,
          1.6473740027858363,
          6.719021564057983,
          -1.609142272818517,
          1.5905138611157348,
          -2.005049873729497,
          3.8290445522087064,
          5.39855191076586,
          0.01515860393353106,
          3.774244468335939,
          -1.0410282082885054,
          0.6061182358581076,
          2.1791699071201083,
          0.7195812936003695,
          2.021199301349326,
          1.0636340149291899,
          3.5268440822974148,
          -0.23050390461581724,
          1.6171595989902476,
          3.7043188062560617,
          1.1545549424061963
         ],
         "z": [
          2.7903564725029164,
          3.7219053605660806,
          0.8825968123730185,
          3.200350284906646,
          1.7338729180668797,
          1.7144441562476989,
          0.28509399530285306,
          4.466401066327656,
          2.0810691417040283,
          4.027811874795845,
          4.692331291208941,
          2.8623461396980137,
          5.125907564173486,
          5.8691029927149625,
          1.1535626536813608,
          2.7331195602179768,
          -1.0770027180287123,
          4.652056233018685,
          3.4305866406749908,
          3.099497624047382,
          4.089050426277899,
          3.7470843992972047,
          -1.221110469277578,
          4.452408719372659,
          6.424145843202736,
          2.3731586968383422,
          4.825260159564296,
          1.205682403432862,
          4.247543300548213,
          1.9718457382322998,
          5.740632704890298,
          1.8303762288471457,
          3.324254280713868,
          0.9048004773376592,
          2.6275360133930703,
          2.594115821023881,
          0.6282459696358186,
          3.477502242675469,
          4.032289019517328,
          2.5883832079416873,
          4.5521561596344275,
          1.2629839934959286,
          4.2453797863780345,
          3.8279080516363924,
          2.4226099470000912,
          2.6790172770307477,
          1.0783767826775446,
          1.4181236977509284,
          -0.09503619077456021,
          3.1523896108178273,
          5.112778619761494,
          0.22573594887028206,
          2.205020243729415,
          2.354446512779953,
          -0.4851759413833374,
          1.77020926314691,
          0.3643694925998183,
          1.6092504474543188,
          2.159577657107069,
          3.3244742219825385,
          3.4318465071552646,
          1.5885279782529342,
          7.48318361748367,
          2.143432140951112,
          7.112390553176608,
          3.612155170581326,
          5.356322182883328,
          3.204245463656245,
          0.6641965901766133,
          1.2530522982083212,
          1.2442772406636375,
          0.6778369821672595,
          3.4837838249307858,
          1.3826327708656139,
          0.7546247158264678,
          0.668085757057297,
          3.2104761806496938,
          2.547383621238466,
          3.615088541962993,
          0.8861181222735632,
          3.328043947717003,
          2.858574838148035,
          -0.5838691057787458,
          1.974762416774122,
          2.4424309869919867,
          3.0898155425563076,
          3.7542050866713903,
          0.9368931663910502,
          2.3691544150646195,
          4.692331291208941,
          0.38722795662875775,
          6.567164568198973,
          2.3503597929515965,
          4.1464057113234,
          0.3397135410730972,
          2.071191429229832,
          4.1701010060587755,
          4.995742622797407,
          0.991966448501401,
          -0.04080710897269953,
          3.0821780367573073,
          0.6115604564760017,
          -1.1542998617493285,
          1.9963280749209797,
          4.248732439861444,
          4.320732817506054,
          -0.39076495763784314,
          2.964229668449599,
          7.047820684596217,
          1.1736782954128908,
          0.7368242912050244,
          2.8913200731613826,
          2.1251713512573382,
          2.2102947618719817,
          1.8916307282724083,
          6.849889279060588,
          0.2029347103754943,
          4.265495287273829,
          0.6592982433195544,
          5.010962956417503,
          3.0877220413296547,
          3.8132826477575565,
          2.9275935965663673,
          2.0323277129505817,
          4.04084852293525,
          1.9889847473386433,
          2.1075649677509594,
          5.844480786343753,
          0.6687431473337994,
          2.098795804204506,
          3.094772496421437,
          3.23127289382569,
          2.807646623972781,
          3.768349096629275,
          4.687895204627691,
          2.606721017141143,
          0.35330858484670935,
          1.3607416202771219,
          0.05415495767037085,
          5.117998677050052,
          -0.004118512151437956,
          3.5277742079713783,
          4.43564476400179,
          4.815573997935961,
          1.5175854660256058,
          3.1210549969471333,
          -2.155326900788328,
          -0.40662626771947064
         ]
        },
        {
         "hovertemplate": "label=KishoreKumar<br>0=%{x}<br>1=%{y}<br>2=%{z}<extra></extra>",
         "legendgroup": "KishoreKumar",
         "marker": {
          "color": "#ab63fa",
          "symbol": "circle"
         },
         "mode": "markers",
         "name": "KishoreKumar",
         "scene": "scene",
         "showlegend": true,
         "type": "scatter3d",
         "x": [
          -1.0038780012035458,
          3.370797381174954,
          6.467855582040141,
          1.550084922527332,
          5.273724455918813,
          -7.83105186799007,
          -2.005319034006184,
          -0.6603821250942129,
          -1.2912451945305186,
          -1.3688840936653395,
          2.427833515287214,
          -6.3039671301485924,
          0.1553422742075465,
          4.451673726003802,
          -12.14315749079621,
          5.405705134452872,
          3.8217145437835156,
          1.4195007573847096,
          1.3271191683466823,
          4.248459740620909,
          -6.26701913657516,
          -7.824460326304248,
          -3.214503551058217,
          -7.137147745401596,
          -0.7214754081075805,
          7.656223041372729,
          -1.1461399245026096,
          4.31412605224629,
          -1.228789087094244,
          -0.02628632787006296,
          -3.979044850991158,
          -3.12525232078295,
          -0.9091108425095269,
          6.82075087788753,
          5.593998167525323,
          1.0189045550225095,
          1.264568351633494,
          0.3383653343896378,
          4.1349256681539615,
          1.6420093395063526,
          0.8560215985911963,
          7.571728268617937,
          8.09301349979646,
          0.8495425543209388,
          3.412772534300835,
          1.520088426641496,
          -2.2130520231629958,
          -1.0827229615864786,
          1.4195007573847096,
          4.2315096549501225,
          -1.3786120455316133,
          -0.978391857513814,
          0.575900457790556,
          -1.1314314681596447,
          1.3877501894727566,
          -3.990185831581972,
          -0.18854306447574232,
          -2.734835402341457,
          1.2848300121916052,
          -3.177728632843809,
          -2.5055424666055774,
          -13.013086801104713,
          8.153248393686436,
          -4.248652010466881,
          1.5870535921546012,
          -0.05005680830771469,
          -1.9694783921220043,
          3.021277832230264,
          -3.0818355544942255,
          1.8961591420282167,
          -8.456391384528418,
          -1.1762268835372183,
          -1.2635340802743122,
          -3.766746743759283,
          0.09350115186677642,
          -3.053384632728152,
          -4.680061391738009,
          2.1346498841261643,
          1.2335118003841559,
          5.203725996618856,
          -8.95497725874704,
          1.0092639629035316,
          5.380934871793783,
          4.990991723198387,
          -1.0120491262266487,
          -12.041270028131576,
          -1.3118220771951565,
          2.1343011664085023,
          1.4947944578828583,
          -4.620753390762568,
          3.061063199053856,
          -1.1640845287308788,
          2.817540030420194,
          -7.495103260453699,
          4.109459114966472,
          -1.493440190204171,
          -2.860659929201277,
          -7.066127751347803,
          -4.31770157612803,
          -4.96831968058272,
          3.3710120712118465,
          -1.5388821819898462,
          -8.409272267184466,
          0.590404908145428,
          1.8233003252018278,
          4.428031777690799,
          3.509303138970813,
          4.406872315230506,
          -2.4981228887835867,
          -3.836108527733404,
          -1.4787656599100918,
          5.081827085811652,
          3.4877001868843447,
          0.036569983156985175,
          4.431683942554156,
          3.713989804990585,
          0.3527546615640986,
          -0.3771996899175362,
          -0.16052849980378647,
          -7.1140213670226125,
          0.49091496813744184,
          3.5148033732701185,
          2.09937300906614,
          -1.234965936949328,
          2.4396370564224616,
          -7.546520110650892,
          0.9223619848528529,
          -5.224947166018321,
          9.039258941377936,
          1.7828532699689899,
          0.4997209024938914,
          1.9060799851949461,
          3.063756775046938,
          -7.0696454220997875,
          5.67888015127655,
          6.9398320997254315,
          1.6135487564303073,
          -6.386092616053359,
          3.1876357731221185,
          1.846054797906592,
          -1.9034389029576237,
          0.14422150063840927,
          2.096216142746593,
          3.6417695620971893,
          6.276622851398478,
          2.412354107820218,
          0.5883220721334244,
          3.5391225938090316,
          5.120573056868238,
          5.837798025842294,
          3.2328869366842192,
          3.2994382517416323,
          5.380934871793783,
          4.173555592963484,
          4.131609210066538,
          2.459024988628676,
          -2.298360930519931,
          -2.6601411132698813,
          4.663869604799866,
          2.977269822076439,
          3.8048259527393857,
          5.146915392281439,
          -0.39483304969236976,
          1.7463799358758454,
          1.6762744574272765,
          3.3710120712118465,
          4.270608458884394,
          0.7660706197473028,
          10.635871889535283,
          -5.198252468113212,
          6.889394182595558,
          -4.607529393362101,
          3.9093188630911766,
          2.891550403639487
         ],
         "y": [
          -1.0447031499152648,
          1.241738543802418,
          2.4306384350708212,
          -0.10190768819261577,
          2.621896245254257,
          -3.788179845385803,
          -2.3064103782606624,
          -0.6579164286823378,
          -1.0686281398204336,
          -0.5037275485747758,
          0.283241627666218,
          -2.9083646307151088,
          0.19915991369859687,
          1.985245840973433,
          -4.4483274414033795,
          2.0583742925471005,
          1.5254273610944504,
          -1.1137313791778551,
          -0.18174021041928326,
          2.5041831567638955,
          -2.500529313846016,
          -4.4701281613461825,
          -1.9955814386270405,
          -4.629445822331766,
          -0.24844453644798362,
          3.6322284957569524,
          -1.5027096222989293,
          1.5219001219801287,
          -1.3579577687928786,
          -1.1073541914420024,
          -3.118039441532,
          -1.240359210289828,
          -0.6219085924501804,
          2.8967353907963327,
          2.6991313384098317,
          -0.09257189273886372,
          -0.6498931020333487,
          -1.223507278399586,
          2.19483971299753,
          0.35735750743219613,
          -0.2804856955545412,
          3.835671119627587,
          3.4485355987896122,
          0.3276392042386409,
          0.9684746600088727,
          -0.6850594833563017,
          -1.9317298179225844,
          -0.8257130009273056,
          -1.1137313791778551,
          1.6534649575797529,
          -0.31864435250534606,
          -1.1542391866449018,
          -0.3375645626806696,
          -0.2231462136491761,
          0.4688480496270591,
          -1.4081648579273116,
          -0.1698314109785272,
          -2.275470630365152,
          1.7531589267726695,
          -1.5341570490427174,
          -2.0421106460811407,
          -4.6496962165176585,
          2.316457471250262,
          -3.565438674777787,
          -0.4087925207639442,
          -0.6347232727904047,
          -1.4785169248148122,
          0.3167988638854525,
          -0.2935974860187768,
          0.8691203898498531,
          -3.6863585219931934,
          -0.7367456881707775,
          -1.3937135224050883,
          -2.33029203223285,
          0.35580367560996984,
          -0.8987312439863255,
          -2.5002740593833424,
          -0.06983334879240811,
          0.795725132319933,
          1.9514476391478115,
          -3.4381951863757383,
          0.7771350017457354,
          3.5344218409007655,
          1.4004214275089824,
          -1.2482113415373957,
          -0.5882649487682232,
          -0.9803190146903542,
          1.0590674181088486,
          -0.18761648054632063,
          -3.2848730785104974,
          1.057894630178284,
          -1.3507307230218997,
          1.086373920852042,
          -3.782265559339029,
          1.296432495858114,
          -1.342854543411829,
          -1.6424917806703905,
          -2.228507176699226,
          -1.0922859711814146,
          -0.549596721547778,
          1.4516299794060923,
          -0.16013112302409402,
          -3.400324273525169,
          0.3653008587507935,
          1.5344956076580225,
          1.180345453973767,
          0.7802562219905189,
          1.7967299243577974,
          -1.2193501419379011,
          -2.393388397787698,
          -0.8682473217128277,
          1.7581940835194392,
          0.9538416953414804,
          -0.45247326769726487,
          1.455655978985706,
          1.3937989594375553,
          -1.0074943543502746,
          -0.39915737212704294,
          -0.6755832692601188,
          -3.9101497004991326,
          1.569360710583459,
          0.5238055410646634,
          -0.37287549833416567,
          -1.0680753126901745,
          1.4960070079178451,
          -3.5658981798118528,
          0.5843102970422471,
          -1.728471771717942,
          3.8834403396990402,
          0.22672787854977342,
          -0.02840057059087119,
          0.5497925915910945,
          0.8686620584387015,
          -3.3650519188318175,
          2.518667346485337,
          2.3836886751826882,
          1.3480911995160187,
          -2.1784590951703393,
          1.6237913184678636,
          0.600694329011119,
          -0.545031641237818,
          -0.6851937976406492,
          -0.26062428436210205,
          0.23689110804324393,
          3.4310331938246463,
          0.5988623077846662,
          0.12482664204238635,
          1.0830210651503673,
          1.7606423020057371,
          2.405931714803427,
          1.5197094437731726,
          1.982230592359717,
          3.5344218409007655,
          1.6060121582792306,
          2.0026356673337258,
          0.711989788593057,
          -1.7702928292970845,
          -1.1670713703004345,
          0.9813463775582247,
          1.766592970823019,
          1.275895921248902,
          2.074267403894212,
          -0.2810388132552436,
          0.3496309556616335,
          0.272077904245926,
          1.4516299794060923,
          1.5062850089241493,
          -0.5411612426940726,
          5.064081050021392,
          -2.8721312229646636,
          1.2973611546732864,
          -2.908171359736569,
          5.4822068232979895,
          1.512265537413116
         ],
         "z": [
          2.1826731592919124,
          0.9641888662602515,
          -1.401606021169714,
          -1.5811422702780147,
          1.7501214316317795,
          3.631567303021152,
          1.4679119563589278,
          0.9149102091183332,
          0.11338747998504442,
          0.016891790886087936,
          1.4711036584489927,
          1.8519320057138882,
          0.2970626401194573,
          1.369975000297184,
          0.6987757999488772,
          0.1671481972918424,
          3.597841813396256,
          -0.016794679141619265,
          1.0310796841560863,
          2.884233439398872,
          3.25684569255025,
          -3.7106981702692665,
          2.476538170529424,
          0.744492683478853,
          0.9428826442916827,
          1.8384857184329093,
          2.157045567907003,
          1.9878516470010241,
          1.7535629170234468,
          2.6222911011212693,
          2.172855051526197,
          3.7554443714329793,
          1.791713972870097,
          0.7876947798722902,
          2.421652511512187,
          1.7076046672516771,
          0.7417183170546953,
          -3.054127893984939,
          1.2027611254331685,
          2.658266160682014,
          -2.0480236025112855,
          -2.6733384307819676,
          -0.5672749513722452,
          -0.24940862103355402,
          -0.15303045820373995,
          2.4653299719010198,
          1.6773327572903185,
          2.5110634976490513,
          -0.016794679141619265,
          0.9095750057333284,
          1.0438397427639732,
          0.5576424710622588,
          -1.3188825755333164,
          -0.47867052452564357,
          1.9581310977108575,
          -0.8571084237052395,
          0.33267343817090533,
          2.8985406398625377,
          4.698180581892832,
          2.9093344547223055,
          2.256115496863435,
          2.551007576986289,
          -1.0570278744021415,
          4.362398714107355,
          2.1552005013629327,
          0.6717452400197369,
          0.3917799224851549,
          1.6825339142448352,
          4.292862179963368,
          1.3264366815785227,
          -0.1662717120255074,
          0.7427833720348687,
          2.0065803807474665,
          2.8566185501621653,
          0.15134322045343496,
          -1.564548177781814,
          0.5426966790661953,
          0.336553661652409,
          0.9451868999057365,
          -0.17696819053330629,
          4.416059050977395,
          2.4001977377325328,
          1.6899970869021592,
          0.5029358494574696,
          0.049421758755144284,
          -0.5778888856235184,
          1.737573891790934,
          -0.9370554908240232,
          0.27090008699180856,
          3.591715880534146,
          3.8614120178548257,
          -0.7062229796079156,
          0.10886886195378662,
          3.148741559718305,
          -1.1589321453299941,
          0.23224608873013122,
          2.544177734106967,
          2.477993841326688,
          3.5429073699472293,
          0.9670919548599006,
          1.9732262841298274,
          -0.2948611300015047,
          1.6632125054090048,
          -0.3357708945402605,
          3.671581162600607,
          -1.600780306105037,
          2.016144587939271,
          2.1337036457939793,
          -0.7768780896152242,
          1.1108209964473585,
          2.2240870404314816,
          0.3192843540822194,
          1.2730191611749346,
          2.1454306845828794,
          0.17475236368726396,
          2.002719191039717,
          -0.42549056556585746,
          0.3652154363195792,
          2.5163712788803134,
          1.2675108325536442,
          3.315488445030717,
          0.5290556951515245,
          1.910185303965575,
          -0.9252409382713074,
          1.8035946048513718,
          2.932430427099114,
          3.345485932960476,
          0.698192808059684,
          -0.6357775862905195,
          -0.5888365669667689,
          0.9629686895122223,
          0.5280072199583576,
          1.4635387935048603,
          0.30696591156048697,
          -0.06267584419480068,
          0.5359826422083543,
          2.481313288521497,
          4.322883086022509,
          0.5439931219317885,
          0.15069532700906144,
          -1.0910051814638582,
          0.38237313945143364,
          0.64626410626954,
          1.9776331458023673,
          2.28950045509144,
          0.5971560215622889,
          1.1954812965736499,
          0.03275551674437545,
          0.9274161092923288,
          -1.0887335890883796,
          0.41212356655570104,
          -0.2204769397892039,
          1.6899970869021592,
          1.8974785566722676,
          3.6611440694260775,
          1.313980826185753,
          0.820865324738959,
          3.035930816027918,
          2.191012706435589,
          0.38946528431530686,
          0.6240559876148205,
          2.1003447056498263,
          1.4439859401080886,
          -0.43689600908133813,
          1.006450548301672,
          1.9732262841298274,
          -0.9563028056629401,
          0.19658691753317872,
          1.4535687075869879,
          -0.6131563889828813,
          -0.5323229585903542,
          -2.37518498411304,
          4.385194630805801,
          -0.0037656648006118994
         ]
        },
        {
         "hovertemplate": "label=BhavGeet<br>0=%{x}<br>1=%{y}<br>2=%{z}<extra></extra>",
         "legendgroup": "BhavGeet",
         "marker": {
          "color": "#FFA15A",
          "symbol": "circle"
         },
         "mode": "markers",
         "name": "BhavGeet",
         "scene": "scene",
         "showlegend": true,
         "type": "scatter3d",
         "x": [
          0.667625475532914,
          10.593159973663553,
          -4.831078721253813,
          -5.134372885469827,
          1.8063417673224895,
          1.189143960202559,
          5.830731486229659,
          -4.216114047257381,
          -0.1210775563732567,
          -7.827894003606212,
          -2.700906098962298,
          -2.9229982987237104,
          -3.869713944237315,
          -9.416480362193127,
          0.561092779111909,
          2.767036060679975,
          0.41265141535618194,
          -1.4881990701405605,
          -3.398442474133119,
          -3.0031042317638894,
          -4.788289996200002,
          -0.018988598604320738,
          -1.486206324884688,
          4.1098748099180185,
          -4.4620067040145095,
          -0.3646233400791979,
          -1.7049276565562945,
          -1.9826061823866166,
          -1.618800914383137,
          -6.903173543073954,
          3.5043480386283243,
          2.0354952779591753,
          -1.5869171187598134,
          -4.783735503661894,
          -2.4762008584307327,
          -2.897240482949908,
          -6.268061228211419,
          -6.819240904909338,
          3.4811785016595787,
          -7.60039317544213,
          -4.797136607030124,
          2.948594741051103,
          3.739853193800151,
          -1.6149614365746798,
          -7.733025412768709,
          5.753787815189477,
          3.132832965565983,
          1.4273637204694452,
          -1.2635080099553857,
          5.778963378196149,
          1.8245796924743558,
          0.46597635058730985,
          -3.2446784044603167,
          2.7596254438096155,
          -6.820144527568795,
          -3.5007778289648286,
          2.4172356537309074,
          -4.054566726789555,
          -0.7541564713812692,
          -0.7430527514041779,
          8.374537343559746,
          1.3125505972376228,
          -7.1381214171018454,
          -2.9873246224661445,
          -1.7705129282426415,
          -0.3250469719555799,
          0.278516433363287,
          -1.1503464482343164,
          -1.5543104179850054,
          2.9350089410318754,
          1.1938180768167421,
          3.0220462170719258,
          -0.7890703816050383,
          -0.5977687933513497,
          3.622370088734934,
          -6.645008332767202,
          -2.8543435214962205,
          3.006489646971551,
          -1.383076086609906,
          -3.4441762252987616,
          1.2056082705837041,
          6.280041873962726,
          -0.4056786580048224,
          4.411576597673812,
          -0.535520871646752,
          -5.935054902830992,
          -3.0949580077540455,
          -9.202706012393493,
          -7.788123511438156,
          0.618339472375439,
          -4.022363304624956,
          0.21960858610585138,
          2.716808493330656,
          -4.334810126488077,
          -3.2764578386560896,
          6.025269799897431,
          -4.278082511355468,
          -2.1570898070894904,
          0.7045550573582164,
          -0.7528024502186783,
          -2.2170437554752898,
          -2.973700378706817,
          -2.688165948640635,
          -1.9266429677798724,
          0.2551069370845786,
          -0.31853255135487446,
          -2.7190235043695066,
          -6.055775690138842,
          4.492739650580008,
          0.7468077746820613,
          2.474042196785876,
          4.939552873537881,
          -6.111267432623078,
          -12.720230808689772,
          0.6359651847452213,
          -4.205010809450225,
          -5.685203485571403,
          7.182832030105785,
          3.2829341458747736,
          -3.9617308519027943,
          1.2033017752385198,
          0.5532780856653534,
          -2.157672947116981,
          -8.560182799606794,
          -4.32536297287961,
          -4.662435169807573,
          -1.7654231570588597,
          2.207818400709835,
          3.581918203330669,
          -3.0760249621035407,
          -6.546130326860471,
          0.5446572499576607,
          6.287707282969187,
          10.522438875163926,
          -1.241979747362066,
          -3.9458750963804556,
          3.1184662935235874,
          -3.2369758084134372,
          0.11824008116034022,
          1.3812136506624457,
          0.1262223286379199,
          -6.073783161191449,
          3.1114655784550003,
          -0.1588040843767874,
          3.2510165384249206,
          -1.2642866062670133,
          -3.002799620940567,
          -4.032034580726863,
          -6.579384934320776,
          -2.099881404012083
         ],
         "y": [
          -0.6692925909875969,
          3.6783290977215635,
          -2.585078109130165,
          -1.3380734588578906,
          1.2461704709665171,
          -0.6392973359202304,
          1.840966969242447,
          -2.3204395889367704,
          -1.313627093973232,
          -3.857269062972787,
          -1.4755476682795474,
          -2.966036546318727,
          -2.4499737491548874,
          -5.313451001988304,
          -1.6704429844833728,
          0.78940766062365,
          0.27887776220752586,
          -1.5329446361869015,
          -2.699136496785349,
          -1.3818121141151443,
          -2.4253517855609776,
          -0.928363271803068,
          -1.4342790553708478,
          0.8052106404487586,
          -2.9697267211099114,
          -1.3396790540007912,
          -1.6611292607831167,
          -1.721274900930261,
          -0.8294911826530785,
          -3.957301790349024,
          1.8379814178003657,
          -0.7764626984986013,
          -1.2346036303179135,
          -3.3956932882517834,
          -1.5585962811388363,
          -2.5869473047002085,
          -3.2681949943708704,
          -3.9798770944626916,
          1.0090680553070388,
          -3.8979223317247516,
          -2.4467459676524315,
          0.45623169452867657,
          0.7014489559462718,
          -1.703495647411854,
          -3.358289369484894,
          1.319439243213932,
          0.6167261814689046,
          0.142103476319319,
          -1.806344282060788,
          0.9632379950556094,
          -0.17368614084408218,
          -0.8817971303730326,
          -2.278668952554949,
          -0.20883347492250798,
          -4.1371192737578495,
          -1.798255436131611,
          0.577286447168417,
          -2.516053960653489,
          -2.080304479677096,
          -2.235261986912154,
          2.379209181311806,
          -0.9810386387256155,
          -4.513674590211477,
          -2.476185647486879,
          -2.3031066268364127,
          -1.3950324846593005,
          -1.60966849086335,
          -1.1691106471304482,
          -1.107185981351265,
          1.08254702289603,
          -0.6339789367463575,
          0.06682697116003906,
          -1.0339453980531708,
          -1.4529750600793452,
          1.177480851638377,
          -2.383767194224656,
          -2.6323443028774913,
          0.8370681749128026,
          -1.6399243106766288,
          -1.7877940082138686,
          -0.2694804374726657,
          1.6381720653037202,
          -1.197520520105835,
          1.5509415914497642,
          -0.7862686714014919,
          -3.014834620840537,
          -1.9953392250081543,
          -5.950362394864184,
          -4.850271013399605,
          -1.0443335558373517,
          -2.4921378158206817,
          -1.2605520140587292,
          0.9554681126804444,
          -3.0404270390251047,
          -2.98841675864117,
          1.242186417392079,
          -3.6557343170121865,
          -1.8713383172214333,
          -0.5721849027212915,
          -2.0332196082208056,
          -2.4556138214168746,
          -2.553919919092424,
          -1.6808219479099413,
          -2.0403647830967104,
          -0.6341400088199648,
          -0.7581986259343081,
          -0.32100414965561047,
          -2.194456318985957,
          0.27738686410026653,
          -0.43552477206736406,
          0.996942789141798,
          1.0631415815957799,
          -3.7132992894932135,
          -5.076808861629449,
          -0.7501114669547735,
          -3.0217121612080056,
          -2.7049837105692767,
          2.3141350140310433,
          0.24133666988654834,
          -2.656898283224405,
          -0.977206015376582,
          -0.4458592382697429,
          -1.4565801775483205,
          -5.040849062354742,
          -3.1514432302015476,
          -3.4116378357032597,
          -2.236329587229041,
          0.5943096671118339,
          1.011056724429359,
          -1.2281334024012942,
          -3.6925949252315378,
          -1.4959129531022017,
          2.1284618841101968,
          3.0833122773490893,
          -1.7073674238252994,
          -3.016214923953998,
          -0.17709736054892017,
          -1.8382701680466713,
          -0.8511429168806671,
          -0.10638556274589323,
          -1.361215695146325,
          -3.7617446562414245,
          0.7424142310035383,
          -1.5192189051018419,
          0.03759193159221755,
          -0.9070093652702036,
          -2.1147332133317507,
          -2.129635957263676,
          -3.6004384552462247,
          -2.2273628995545027
         ],
         "z": [
          -1.7874121911221894,
          -5.38411666665258,
          3.1018630862413334,
          -1.7549999819154347,
          -0.7213390264250839,
          -0.8473391761388425,
          -0.6415284373464394,
          1.976554052357259,
          -4.402719752968633,
          -3.2631459844909227,
          0.8693130458990589,
          -3.1282392584702543,
          2.712102721358112,
          -5.003962411690297,
          -6.551441932256693,
          -2.8258062275446454,
          -1.0997724759793654,
          -1.4951365006018649,
          -5.200200399204298,
          -0.7127254306469378,
          -5.987632043008584,
          -1.9493892945812528,
          0.09945431375429128,
          -2.538020091871178,
          -3.5270042639233847,
          -6.608517531721041,
          0.9683911695278783,
          1.2006925382703222,
          -5.923295108444827,
          -2.734898546370009,
          -1.9243929400303432,
          0.6432069752102202,
          -6.116519361265354,
          -4.418339145960049,
          -1.4937789106036252,
          2.983590687238294,
          -3.179131684179318,
          2.0075185489296237,
          -4.342297363739992,
          2.137479879472268,
          1.476190879380492,
          -6.374847125221203,
          -0.09330724026019666,
          0.47457289837534844,
          1.1446351287746743,
          1.4773722456782974,
          -3.4623335173307543,
          1.2645148571466083,
          -1.105792957810954,
          -7.856787347955343,
          -1.3343731294915386,
          -5.334851201186707,
          -3.1733165357737474,
          -0.7204902630635467,
          -3.6710285169752828,
          -5.400800817680405,
          -0.8263814683291086,
          -2.2909568791540598,
          -4.699663820725788,
          -4.569849078655548,
          -4.7263458176297455,
          -4.440103847617326,
          -5.096114706969103,
          -2.875076636639959,
          0.21494397800847997,
          -6.518650404705194,
          -2.979310227605303,
          -2.503615695671842,
          -4.531817357184878,
          0.5087150048510345,
          -0.8404375231007905,
          -0.17143473337929896,
          1.5722932103904754,
          -4.628504000878996,
          -1.8032736144379806,
          4.67013748221009,
          -5.316587657542326,
          -3.286458063807514,
          -4.3100657799667745,
          -5.9868741617483145,
          -6.910409554726994,
          -1.7919222545384168,
          -1.5320862794089491,
          -1.7521416299549617,
          2.8107295482391996,
          -2.7930800506795554,
          -1.7472962835655026,
          -0.5002233049516175,
          -0.6717097745319915,
          -5.693090055829164,
          1.6846639870644027,
          -4.95143542273228,
          1.3068946231222058,
          -5.2685146450699385,
          -2.182266808387201,
          -1.8943382380059477,
          -4.070310235723855,
          -2.849890513785886,
          -0.1083085755749054,
          -5.391205089492301,
          -0.8524926670438691,
          1.4165922940173192,
          0.8146494413604635,
          2.0893754435127896,
          -5.245426553028103,
          -2.9398314419630287,
          2.894450419169297,
          -1.530599657191173,
          -8.238999901015202,
          0.131872974404344,
          3.924368511720007,
          -4.7949450509707505,
          -4.618111709672087,
          -4.944384566367331,
          -5.5714657566769645,
          2.270341663412375,
          1.0622589635728181,
          -1.8909356716927674,
          -1.3967460495866542,
          -1.3390019304050078,
          -0.7836627058735514,
          -7.622003839500381,
          2.110928003432316,
          -3.9495230672098227,
          -3.414810801622009,
          1.264122518710789,
          0.7537072107675221,
          -3.34948251792003,
          -2.2055823881455,
          -1.6409593069521973,
          -3.0241971008779505,
          -0.9160483113562383,
          -2.117159669439493,
          -5.6709661891059575,
          -4.975437733072239,
          -2.832326477508197,
          -1.499604997872047,
          3.4629617416450307,
          -6.850546114057901,
          -0.3885283483746089,
          1.9228233324447734,
          3.2184635876312147,
          -0.9776893963364155,
          -2.5730947312359223,
          -0.309914606184117,
          -2.9637035171859014,
          -0.7168018106585705,
          0.10578491058261885,
          0.2845605328212126,
          -5.547736501790197
         ]
        },
        {
         "hovertemplate": "label=NationalAnthem<br>0=%{x}<br>1=%{y}<br>2=%{z}<extra></extra>",
         "legendgroup": "NationalAnthem",
         "marker": {
          "color": "#19d3f3",
          "symbol": "circle"
         },
         "mode": "markers",
         "name": "NationalAnthem",
         "scene": "scene",
         "showlegend": true,
         "type": "scatter3d",
         "x": [
          -9.201904957299869,
          6.169900549048207,
          -7.443209540131999,
          -2.1361173868414656,
          -7.390615545412798,
          -13.43369015063517,
          -2.536225341743035,
          -13.268052198812434,
          8.12175193217306,
          7.982650411543385,
          -10.014168365540268,
          -2.5812188373792693,
          -9.361222998973489,
          8.774804755133312,
          -12.951392823317292,
          -3.981571222468576,
          -9.601171962261283,
          -1.5088461011921066,
          -16.02443727699319,
          -13.798631707648944,
          -22.34875366065157,
          -0.9573570393253287,
          -3.5054097653149947,
          -2.101592523676556,
          -19.877066874148113,
          -8.998775412561763,
          -9.729128106489688,
          11.595781375208148,
          -0.677112294990494,
          -0.4804702447768752,
          -6.324486717880267,
          9.224785073397058,
          -8.824128869104445,
          -9.626507779655338,
          12.470294935030402,
          9.787941253851367,
          -9.065814261843899,
          6.789641840887185,
          0.8356128503424181,
          -0.41317850206823503,
          -1.4193547197641168,
          -8.37519659884633,
          -5.3397773398129,
          -1.0031789050181439,
          -1.1460556224300007,
          -4.342490827335082,
          -9.03532122260929,
          -2.769976272893134,
          -15.501733406931368,
          -8.592482993323978,
          -3.5707960970261965,
          -1.689787873990314,
          2.309630012238797,
          -7.975671788784379,
          -6.984495802825703,
          -13.38665067590779,
          -0.7521277290838799,
          -0.04022659352908487,
          -1.5746143427294272,
          -8.805739791465353,
          1.9734114705631922,
          -17.259279550199583,
          6.203717553692413,
          0.5195234686204698,
          -0.6057510096122928,
          9.745248026948302,
          -10.083970229123679,
          -11.010573048577545,
          -7.174850209277827,
          1.6254341450992325,
          -0.539751071354762,
          -6.900208466871302,
          -5.870149121304482,
          -5.2100545733361665,
          -14.32113196725739,
          -0.8768465320581452,
          5.75326689747094,
          -17.006053851640278,
          -2.3717725260190514,
          5.226247783717019,
          -5.574352082635272,
          0.5261691051594463,
          -14.279837313732386,
          1.0667603688062512,
          -6.221995645593728,
          -3.8960302332654377,
          -1.7485992223075126,
          6.490311781994041,
          4.442137509470507,
          4.930502823079593,
          4.4955608979905355,
          -1.2776724350279545,
          -7.074046211828465,
          -15.181495613094706,
          -5.75847927039196,
          -2.91901554592713,
          -11.1682324949258,
          -5.047054813478449,
          2.1796570912668862,
          12.200339732233306,
          -2.769976272893134,
          -26.40661456908824,
          -6.961168545343288,
          7.335825079294011,
          -2.6687385539909414,
          -3.698112400988444,
          -8.0816287280157,
          -5.518591671398321,
          -0.6330289481240198,
          -0.8052387172069835,
          -5.8540963664253,
          5.415941710950532,
          -4.980947995901544,
          3.639262582210494,
          -6.780292997262997,
          -11.898615761025424
         ],
         "y": [
          -4.565941266275908,
          4.6882469260801125,
          -2.532390109310889,
          -2.412645438113953,
          -1.4769233678369162,
          -3.0592505081802708,
          -2.1771662873519597,
          -0.15676049977664513,
          2.946388737691745,
          5.241201774375257,
          -3.9252107031522367,
          -0.8481941830094453,
          -4.722297430749702,
          6.146890436779888,
          -5.74466224473508,
          -2.1050379529853456,
          -2.4770971883002977,
          0.05057214908298829,
          11.60049201597513,
          -5.579011857954686,
          2.269122005591042,
          1.2537649630483159,
          -1.4346410164528935,
          -1.3373581482792518,
          -2.4385435150386914,
          -4.552597811192037,
          -3.8150032368059543,
          5.749034998921907,
          -1.0424484427876466,
          -0.170495404316877,
          -1.5251328718918036,
          4.327040799766156,
          -3.318265595178712,
          -3.3842664721144864,
          5.997127650154218,
          5.224024666380436,
          -3.5786488570060393,
          3.1338396244604216,
          0.4647062189891732,
          0.4806504898185475,
          1.4950337917003527,
          -0.7521346903753409,
          -1.909453253861138,
          -0.9152907420309787,
          -0.6323678294957816,
          -2.3522463181262503,
          2.0282997323957095,
          -1.6895780443039135,
          -2.950290027772402,
          -2.1538657133701786,
          -1.2845697275396275,
          -1.349444272299549,
          0.2702000359138494,
          2.42872705253455,
          3.0661434376102203,
          -5.423524628058996,
          -0.5863986156659426,
          -0.6540692403570432,
          -0.017915282262248356,
          -3.4843555505380093,
          0.8949457474869273,
          -4.613293788072189,
          4.4085015934228,
          0.04641577969451083,
          -0.9804367897769543,
          5.01253724923414,
          -3.5209036895187,
          -4.7078641035156705,
          -3.292831416800919,
          0.6473561010975121,
          -0.421090642382868,
          -3.4020942318043144,
          -1.8732753686536372,
          3.305711127930864,
          -0.76878206295329,
          0.012585320733920427,
          2.3834404927747874,
          -4.428015119000404,
          -0.2713106670534991,
          3.6115237985376476,
          -2.3095276902640522,
          0.2368765131706212,
          -2.6283092114176596,
          0.8164260396252787,
          -3.1834568809283623,
          -0.1090930587639482,
          0.2790577635399253,
          3.2876472837937314,
          1.5344729893377311,
          2.755646486927126,
          0.22493712256880008,
          -0.6600849754638886,
          -2.9492320940040075,
          -0.2587368479314468,
          -3.1964999576534776,
          -2.0317948725371133,
          -4.335280007775101,
          -1.5209965557208034,
          0.38693378484291674,
          7.6829252657839415,
          -1.6895780443039135,
          11.351024042577356,
          -4.329468418015528,
          3.6756606919983823,
          -0.6672717241291907,
          -2.4147182648690406,
          -3.694475577287721,
          -2.868347545204313,
          -1.6591645971373206,
          2.2018059701844472,
          -3.138671443262869,
          2.891986369464571,
          -0.7366922992924584,
          2.42544810557637,
          -3.23483068332517,
          -5.540006671630362
         ],
         "z": [
          2.7574366954142513,
          3.812866046585664,
          2.6153100711913964,
          -0.9114551897214682,
          5.752306302824756,
          3.3728548136925056,
          1.1392695348570794,
          4.817751668504604,
          3.050511157000317,
          6.785480407882752,
          5.314629914631041,
          3.486121439297185,
          -0.2355062378901071,
          6.293975109602485,
          -1.1141638611171891,
          4.727018984827357,
          1.9102679310082513,
          4.626785324707194,
          3.609194226952474,
          -1.2660881066305585,
          2.0478661104132048,
          4.700317451536247,
          6.866661284737087,
          2.6229138050678307,
          1.9921030231237504,
          -0.04571068672056457,
          2.047723114893071,
          3.7495319725191227,
          -0.019849894092450082,
          6.105787384902135,
          2.460987182714359,
          3.940527158940787,
          1.7609857343920254,
          2.743276865061698,
          3.1924587126589308,
          7.055121303158848,
          1.4751848958436051,
          3.4403453084154063,
          4.328290714427533,
          5.704212345531958,
          5.1861271080163265,
          4.9890532411967845,
          2.8871973100414143,
          4.17551190616702,
          5.430488253555217,
          2.5157082666920805,
          2.280850298598241,
          2.8093402656349378,
          -0.10309225012780314,
          6.695372774236187,
          7.006561146209897,
          3.002333824473619,
          1.74007467080431,
          4.737707932818061,
          4.235939222325069,
          2.8590279971786843,
          0.04694246950014886,
          -1.6697061694281239,
          5.375043148598087,
          1.3886781351648385,
          3.5437496991756205,
          -1.1316644973619712,
          8.850473123084267,
          4.733548135441556,
          3.343669484186901,
          5.7065844906986944,
          0.37714538104450174,
          3.474879029085691,
          3.7767832141584132,
          6.491996989806741,
          -1.0689139313929001,
          5.316249528564575,
          4.719104232884063,
          6.5581703398355335,
          3.0991002435518804,
          6.46123174986677,
          2.171118136909651,
          5.109997711345285,
          4.405725434341586,
          6.5637352810279515,
          2.3168799945268375,
          4.33524798883721,
          5.187288727160539,
          4.545347458250103,
          4.7683549122900075,
          0.42523928708150016,
          3.526488086587191,
          1.7985258994070492,
          5.483324939092961,
          4.6611378831730885,
          -3.1566692349088767,
          4.267134620118314,
          3.2300376252006573,
          4.505913954453826,
          3.1444205196105623,
          2.594212998879129,
          4.117430743287788,
          -4.856513651967005,
          4.221407842286676,
          5.767461375584143,
          2.8093402656349378,
          4.137614432839312,
          -1.3527358422853386,
          6.817335165354367,
          2.8210366644571354,
          2.762425936846631,
          4.304952769206279,
          3.1599215038689294,
          1.3566311081104145,
          0.43317841177673755,
          2.8786927722280176,
          5.561367097819371,
          6.102736865104811,
          6.435964947240391,
          3.4343109799222504,
          1.2026236546899822
         ]
        }
       ],
       "layout": {
        "legend": {
         "title": {
          "text": "label"
         },
         "tracegroupgap": 0
        },
        "margin": {
         "t": 60
        },
        "scene": {
         "domain": {
          "x": [
           0,
           1
          ],
          "y": [
           0,
           1
          ]
         },
         "xaxis": {
          "title": {
           "text": "PCA1"
          }
         },
         "yaxis": {
          "title": {
           "text": "PCA2"
          }
         },
         "zaxis": {
          "title": {
           "text": "PCA3"
          }
         }
        },
        "template": {
         "data": {
          "bar": [
           {
            "error_x": {
             "color": "#2a3f5f"
            },
            "error_y": {
             "color": "#2a3f5f"
            },
            "marker": {
             "line": {
              "color": "#E5ECF6",
              "width": 0.5
             },
             "pattern": {
              "fillmode": "overlay",
              "size": 10,
              "solidity": 0.2
             }
            },
            "type": "bar"
           }
          ],
          "barpolar": [
           {
            "marker": {
             "line": {
              "color": "#E5ECF6",
              "width": 0.5
             },
             "pattern": {
              "fillmode": "overlay",
              "size": 10,
              "solidity": 0.2
             }
            },
            "type": "barpolar"
           }
          ],
          "carpet": [
           {
            "aaxis": {
             "endlinecolor": "#2a3f5f",
             "gridcolor": "white",
             "linecolor": "white",
             "minorgridcolor": "white",
             "startlinecolor": "#2a3f5f"
            },
            "baxis": {
             "endlinecolor": "#2a3f5f",
             "gridcolor": "white",
             "linecolor": "white",
             "minorgridcolor": "white",
             "startlinecolor": "#2a3f5f"
            },
            "type": "carpet"
           }
          ],
          "choropleth": [
           {
            "colorbar": {
             "outlinewidth": 0,
             "ticks": ""
            },
            "type": "choropleth"
           }
          ],
          "contour": [
           {
            "colorbar": {
             "outlinewidth": 0,
             "ticks": ""
            },
            "colorscale": [
             [
              0,
              "#0d0887"
             ],
             [
              0.1111111111111111,
              "#46039f"
             ],
             [
              0.2222222222222222,
              "#7201a8"
             ],
             [
              0.3333333333333333,
              "#9c179e"
             ],
             [
              0.4444444444444444,
              "#bd3786"
             ],
             [
              0.5555555555555556,
              "#d8576b"
             ],
             [
              0.6666666666666666,
              "#ed7953"
             ],
             [
              0.7777777777777778,
              "#fb9f3a"
             ],
             [
              0.8888888888888888,
              "#fdca26"
             ],
             [
              1,
              "#f0f921"
             ]
            ],
            "type": "contour"
           }
          ],
          "contourcarpet": [
           {
            "colorbar": {
             "outlinewidth": 0,
             "ticks": ""
            },
            "type": "contourcarpet"
           }
          ],
          "heatmap": [
           {
            "colorbar": {
             "outlinewidth": 0,
             "ticks": ""
            },
            "colorscale": [
             [
              0,
              "#0d0887"
             ],
             [
              0.1111111111111111,
              "#46039f"
             ],
             [
              0.2222222222222222,
              "#7201a8"
             ],
             [
              0.3333333333333333,
              "#9c179e"
             ],
             [
              0.4444444444444444,
              "#bd3786"
             ],
             [
              0.5555555555555556,
              "#d8576b"
             ],
             [
              0.6666666666666666,
              "#ed7953"
             ],
             [
              0.7777777777777778,
              "#fb9f3a"
             ],
             [
              0.8888888888888888,
              "#fdca26"
             ],
             [
              1,
              "#f0f921"
             ]
            ],
            "type": "heatmap"
           }
          ],
          "heatmapgl": [
           {
            "colorbar": {
             "outlinewidth": 0,
             "ticks": ""
            },
            "colorscale": [
             [
              0,
              "#0d0887"
             ],
             [
              0.1111111111111111,
              "#46039f"
             ],
             [
              0.2222222222222222,
              "#7201a8"
             ],
             [
              0.3333333333333333,
              "#9c179e"
             ],
             [
              0.4444444444444444,
              "#bd3786"
             ],
             [
              0.5555555555555556,
              "#d8576b"
             ],
             [
              0.6666666666666666,
              "#ed7953"
             ],
             [
              0.7777777777777778,
              "#fb9f3a"
             ],
             [
              0.8888888888888888,
              "#fdca26"
             ],
             [
              1,
              "#f0f921"
             ]
            ],
            "type": "heatmapgl"
           }
          ],
          "histogram": [
           {
            "marker": {
             "pattern": {
              "fillmode": "overlay",
              "size": 10,
              "solidity": 0.2
             }
            },
            "type": "histogram"
           }
          ],
          "histogram2d": [
           {
            "colorbar": {
             "outlinewidth": 0,
             "ticks": ""
            },
            "colorscale": [
             [
              0,
              "#0d0887"
             ],
             [
              0.1111111111111111,
              "#46039f"
             ],
             [
              0.2222222222222222,
              "#7201a8"
             ],
             [
              0.3333333333333333,
              "#9c179e"
             ],
             [
              0.4444444444444444,
              "#bd3786"
             ],
             [
              0.5555555555555556,
              "#d8576b"
             ],
             [
              0.6666666666666666,
              "#ed7953"
             ],
             [
              0.7777777777777778,
              "#fb9f3a"
             ],
             [
              0.8888888888888888,
              "#fdca26"
             ],
             [
              1,
              "#f0f921"
             ]
            ],
            "type": "histogram2d"
           }
          ],
          "histogram2dcontour": [
           {
            "colorbar": {
             "outlinewidth": 0,
             "ticks": ""
            },
            "colorscale": [
             [
              0,
              "#0d0887"
             ],
             [
              0.1111111111111111,
              "#46039f"
             ],
             [
              0.2222222222222222,
              "#7201a8"
             ],
             [
              0.3333333333333333,
              "#9c179e"
             ],
             [
              0.4444444444444444,
              "#bd3786"
             ],
             [
              0.5555555555555556,
              "#d8576b"
             ],
             [
              0.6666666666666666,
              "#ed7953"
             ],
             [
              0.7777777777777778,
              "#fb9f3a"
             ],
             [
              0.8888888888888888,
              "#fdca26"
             ],
             [
              1,
              "#f0f921"
             ]
            ],
            "type": "histogram2dcontour"
           }
          ],
          "mesh3d": [
           {
            "colorbar": {
             "outlinewidth": 0,
             "ticks": ""
            },
            "type": "mesh3d"
           }
          ],
          "parcoords": [
           {
            "line": {
             "colorbar": {
              "outlinewidth": 0,
              "ticks": ""
             }
            },
            "type": "parcoords"
           }
          ],
          "pie": [
           {
            "automargin": true,
            "type": "pie"
           }
          ],
          "scatter": [
           {
            "fillpattern": {
             "fillmode": "overlay",
             "size": 10,
             "solidity": 0.2
            },
            "type": "scatter"
           }
          ],
          "scatter3d": [
           {
            "line": {
             "colorbar": {
              "outlinewidth": 0,
              "ticks": ""
             }
            },
            "marker": {
             "colorbar": {
              "outlinewidth": 0,
              "ticks": ""
             }
            },
            "type": "scatter3d"
           }
          ],
          "scattercarpet": [
           {
            "marker": {
             "colorbar": {
              "outlinewidth": 0,
              "ticks": ""
             }
            },
            "type": "scattercarpet"
           }
          ],
          "scattergeo": [
           {
            "marker": {
             "colorbar": {
              "outlinewidth": 0,
              "ticks": ""
             }
            },
            "type": "scattergeo"
           }
          ],
          "scattergl": [
           {
            "marker": {
             "colorbar": {
              "outlinewidth": 0,
              "ticks": ""
             }
            },
            "type": "scattergl"
           }
          ],
          "scattermapbox": [
           {
            "marker": {
             "colorbar": {
              "outlinewidth": 0,
              "ticks": ""
             }
            },
            "type": "scattermapbox"
           }
          ],
          "scatterpolar": [
           {
            "marker": {
             "colorbar": {
              "outlinewidth": 0,
              "ticks": ""
             }
            },
            "type": "scatterpolar"
           }
          ],
          "scatterpolargl": [
           {
            "marker": {
             "colorbar": {
              "outlinewidth": 0,
              "ticks": ""
             }
            },
            "type": "scatterpolargl"
           }
          ],
          "scatterternary": [
           {
            "marker": {
             "colorbar": {
              "outlinewidth": 0,
              "ticks": ""
             }
            },
            "type": "scatterternary"
           }
          ],
          "surface": [
           {
            "colorbar": {
             "outlinewidth": 0,
             "ticks": ""
            },
            "colorscale": [
             [
              0,
              "#0d0887"
             ],
             [
              0.1111111111111111,
              "#46039f"
             ],
             [
              0.2222222222222222,
              "#7201a8"
             ],
             [
              0.3333333333333333,
              "#9c179e"
             ],
             [
              0.4444444444444444,
              "#bd3786"
             ],
             [
              0.5555555555555556,
              "#d8576b"
             ],
             [
              0.6666666666666666,
              "#ed7953"
             ],
             [
              0.7777777777777778,
              "#fb9f3a"
             ],
             [
              0.8888888888888888,
              "#fdca26"
             ],
             [
              1,
              "#f0f921"
             ]
            ],
            "type": "surface"
           }
          ],
          "table": [
           {
            "cells": {
             "fill": {
              "color": "#EBF0F8"
             },
             "line": {
              "color": "white"
             }
            },
            "header": {
             "fill": {
              "color": "#C8D4E3"
             },
             "line": {
              "color": "white"
             }
            },
            "type": "table"
           }
          ]
         },
         "layout": {
          "annotationdefaults": {
           "arrowcolor": "#2a3f5f",
           "arrowhead": 0,
           "arrowwidth": 1
          },
          "autotypenumbers": "strict",
          "coloraxis": {
           "colorbar": {
            "outlinewidth": 0,
            "ticks": ""
           }
          },
          "colorscale": {
           "diverging": [
            [
             0,
             "#8e0152"
            ],
            [
             0.1,
             "#c51b7d"
            ],
            [
             0.2,
             "#de77ae"
            ],
            [
             0.3,
             "#f1b6da"
            ],
            [
             0.4,
             "#fde0ef"
            ],
            [
             0.5,
             "#f7f7f7"
            ],
            [
             0.6,
             "#e6f5d0"
            ],
            [
             0.7,
             "#b8e186"
            ],
            [
             0.8,
             "#7fbc41"
            ],
            [
             0.9,
             "#4d9221"
            ],
            [
             1,
             "#276419"
            ]
           ],
           "sequential": [
            [
             0,
             "#0d0887"
            ],
            [
             0.1111111111111111,
             "#46039f"
            ],
            [
             0.2222222222222222,
             "#7201a8"
            ],
            [
             0.3333333333333333,
             "#9c179e"
            ],
            [
             0.4444444444444444,
             "#bd3786"
            ],
            [
             0.5555555555555556,
             "#d8576b"
            ],
            [
             0.6666666666666666,
             "#ed7953"
            ],
            [
             0.7777777777777778,
             "#fb9f3a"
            ],
            [
             0.8888888888888888,
             "#fdca26"
            ],
            [
             1,
             "#f0f921"
            ]
           ],
           "sequentialminus": [
            [
             0,
             "#0d0887"
            ],
            [
             0.1111111111111111,
             "#46039f"
            ],
            [
             0.2222222222222222,
             "#7201a8"
            ],
            [
             0.3333333333333333,
             "#9c179e"
            ],
            [
             0.4444444444444444,
             "#bd3786"
            ],
            [
             0.5555555555555556,
             "#d8576b"
            ],
            [
             0.6666666666666666,
             "#ed7953"
            ],
            [
             0.7777777777777778,
             "#fb9f3a"
            ],
            [
             0.8888888888888888,
             "#fdca26"
            ],
            [
             1,
             "#f0f921"
            ]
           ]
          },
          "colorway": [
           "#636efa",
           "#EF553B",
           "#00cc96",
           "#ab63fa",
           "#FFA15A",
           "#19d3f3",
           "#FF6692",
           "#B6E880",
           "#FF97FF",
           "#FECB52"
          ],
          "font": {
           "color": "#2a3f5f"
          },
          "geo": {
           "bgcolor": "white",
           "lakecolor": "white",
           "landcolor": "#E5ECF6",
           "showlakes": true,
           "showland": true,
           "subunitcolor": "white"
          },
          "hoverlabel": {
           "align": "left"
          },
          "hovermode": "closest",
          "mapbox": {
           "style": "light"
          },
          "paper_bgcolor": "white",
          "plot_bgcolor": "#E5ECF6",
          "polar": {
           "angularaxis": {
            "gridcolor": "white",
            "linecolor": "white",
            "ticks": ""
           },
           "bgcolor": "#E5ECF6",
           "radialaxis": {
            "gridcolor": "white",
            "linecolor": "white",
            "ticks": ""
           }
          },
          "scene": {
           "xaxis": {
            "backgroundcolor": "#E5ECF6",
            "gridcolor": "white",
            "gridwidth": 2,
            "linecolor": "white",
            "showbackground": true,
            "ticks": "",
            "zerolinecolor": "white"
           },
           "yaxis": {
            "backgroundcolor": "#E5ECF6",
            "gridcolor": "white",
            "gridwidth": 2,
            "linecolor": "white",
            "showbackground": true,
            "ticks": "",
            "zerolinecolor": "white"
           },
           "zaxis": {
            "backgroundcolor": "#E5ECF6",
            "gridcolor": "white",
            "gridwidth": 2,
            "linecolor": "white",
            "showbackground": true,
            "ticks": "",
            "zerolinecolor": "white"
           }
          },
          "shapedefaults": {
           "line": {
            "color": "#2a3f5f"
           }
          },
          "ternary": {
           "aaxis": {
            "gridcolor": "white",
            "linecolor": "white",
            "ticks": ""
           },
           "baxis": {
            "gridcolor": "white",
            "linecolor": "white",
            "ticks": ""
           },
           "bgcolor": "#E5ECF6",
           "caxis": {
            "gridcolor": "white",
            "linecolor": "white",
            "ticks": ""
           }
          },
          "title": {
           "x": 0.05
          },
          "xaxis": {
           "automargin": true,
           "gridcolor": "white",
           "linecolor": "white",
           "ticks": "",
           "title": {
            "standoff": 15
           },
           "zerolinecolor": "white",
           "zerolinewidth": 2
          },
          "yaxis": {
           "automargin": true,
           "gridcolor": "white",
           "linecolor": "white",
           "ticks": "",
           "title": {
            "standoff": 15
           },
           "zerolinecolor": "white",
           "zerolinewidth": 2
          }
         }
        },
        "title": {
         "text": "3D PCA Scatter Plot"
        }
       }
      }
     },
     "metadata": {},
     "output_type": "display_data"
    }
   ],
   "source": [
    "import plotly.express as px\n",
    "import plotly.graph_objects as go\n",
    "\n",
    "\n",
    "# Add a 'label' column to pca_df_optimal_labeled for coloring\n",
    "pca_df_optimal_labeled['label'] = features_df.index\n",
    "\n",
    "# 2D Scatter plot\n",
    "fig_2d = px.scatter(pca_df_optimal_labeled, x=pca_df_optimal_labeled.columns[0], y=pca_df_optimal_labeled.columns[1], color='label')\n",
    "fig_2d.update_layout(title='2D PCA Scatter Plot', xaxis_title='PCA1', yaxis_title='PCA2')\n",
    "fig_2d.show()\n",
    "\n",
    "# 3D Scatter plot\n",
    "fig_3d = px.scatter_3d(pca_df_optimal_labeled, x=pca_df_optimal_labeled.columns[0], y=pca_df_optimal_labeled.columns[1], z=pca_df_optimal_labeled.columns[2], color='label')\n",
    "fig_3d.update_layout(title='3D PCA Scatter Plot', scene=dict(xaxis_title='PCA1', yaxis_title='PCA2', zaxis_title='PCA3'))\n",
    "fig_3d.show()"
   ]
  },
  {
   "cell_type": "code",
   "execution_count": 29,
   "metadata": {},
   "outputs": [],
   "source": [
    "from sklearn.model_selection import train_test_split\n",
    "\n",
    "# Assuming the target column is named 'label'\n",
    "X = pca_df_optimal_labeled.drop('label', axis=1)\n",
    "y = pca_df_optimal_labeled['label']\n",
    "\n",
    "# Split the data\n",
    "X_train, X_test, y_train, y_test = train_test_split(X, y, test_size=0.2, random_state=42)"
   ]
  },
  {
   "cell_type": "code",
   "execution_count": 38,
   "metadata": {},
   "outputs": [
    {
     "name": "stdout",
     "output_type": "stream",
     "text": [
      "Logistic Regression model trained.\n",
      "Decision Tree model trained.\n",
      "Random Forest model trained.\n",
      "Support Vector Machine model trained.\n",
      "K-Nearest Neighbors model trained.\n"
     ]
    }
   ],
   "source": [
    "from sklearn.linear_model import LogisticRegression\n",
    "from sklearn.tree import DecisionTreeClassifier\n",
    "from sklearn.ensemble import RandomForestClassifier\n",
    "from sklearn.svm import SVC\n",
    "from sklearn.neighbors import KNeighborsClassifier\n",
    "\n",
    "# Initialize classifiers\n",
    "classifiers = {\n",
    "    'Logistic Regression': LogisticRegression(max_iter=1000),\n",
    "    'Decision Tree': DecisionTreeClassifier(),\n",
    "    'Random Forest': RandomForestClassifier(),\n",
    "    'Support Vector Machine': SVC(),\n",
    "    'K-Nearest Neighbors': KNeighborsClassifier()\n",
    "}\n",
    "\n",
    "# Train the models\n",
    "for name, model in classifiers.items():\n",
    "    model.fit(X_train, y_train)\n",
    "    print(f\"{name} model trained.\")"
   ]
  },
  {
   "cell_type": "code",
   "execution_count": 39,
   "metadata": {},
   "outputs": [
    {
     "name": "stdout",
     "output_type": "stream",
     "text": [
      "Logistic Regression Training Metrics: Accuracy=0.8496835443037974, Precision=0.8482071689666819, Recall=0.8496835443037974, F1 Score=0.848580051404314\n",
      "Logistic Regression Testing Metrics: Accuracy=0.7531645569620253, Precision=0.7699754186341435, Recall=0.7531645569620253, F1 Score=0.7530786581717803\n"
     ]
    },
    {
     "data": {
      "image/png": "[encoded data removed]",
      "text/plain": [
       "<Figure size 1000x700 with 2 Axes>"
      ]
     },
     "metadata": {},
     "output_type": "display_data"
    },
    {
     "data": {
      "image/png": "[encoded data removed]",
      "text/plain": [
       "<Figure size 1000x700 with 2 Axes>"
      ]
     },
     "metadata": {},
     "output_type": "display_data"
    },
    {
     "name": "stdout",
     "output_type": "stream",
     "text": [
      "Decision Tree Training Metrics: Accuracy=1.0, Precision=1.0, Recall=1.0, F1 Score=1.0\n",
      "Decision Tree Testing Metrics: Accuracy=0.6582278481012658, Precision=0.6784640380231824, Recall=0.6582278481012658, F1 Score=0.6613537397017005\n"
     ]
    },
    {
     "data": {
      "image/png": "[encoded data removed]",
      "text/plain": [
       "<Figure size 1000x700 with 2 Axes>"
      ]
     },
     "metadata": {},
     "output_type": "display_data"
    },
    {
     "data": {
      "image/png": "[encoded data removed]",
      "text/plain": [
       "<Figure size 1000x700 with 2 Axes>"
      ]
     },
     "metadata": {},
     "output_type": "display_data"
    },
    {
     "name": "stdout",
     "output_type": "stream",
     "text": [
      "Random Forest Training Metrics: Accuracy=1.0, Precision=1.0, Recall=1.0, F1 Score=1.0\n",
      "Random Forest Testing Metrics: Accuracy=0.7721518987341772, Precision=0.7887319596223338, Recall=0.7721518987341772, F1 Score=0.7626751056896929\n"
     ]
    },
    {
     "data": {
      "image/png": "[encoded data removed]",
      "text/plain": [
       "<Figure size 1000x700 with 2 Axes>"
      ]
     },
     "metadata": {},
     "output_type": "display_data"
    },
    {
     "data": {
      "image/png": "[encoded data removed]",
      "text/plain": [
       "<Figure size 1000x700 with 2 Axes>"
      ]
     },
     "metadata": {},
     "output_type": "display_data"
    },
    {
     "name": "stdout",
     "output_type": "stream",
     "text": [
      "Support Vector Machine Training Metrics: Accuracy=0.8924050632911392, Precision=0.898267433826057, Recall=0.8924050632911392, F1 Score=0.8895364453428822\n",
      "Support Vector Machine Testing Metrics: Accuracy=0.7911392405063291, Precision=0.8023676856121893, Recall=0.7911392405063291, F1 Score=0.7888112427139266\n"
     ]
    },
    {
     "data": {
      "image/png": "[encoded data removed]",
      "text/plain": [
       "<Figure size 1000x700 with 2 Axes>"
      ]
     },
     "metadata": {},
     "output_type": "display_data"
    },
    {
     "data": {
      "image/png": "[encoded data removed]",
      "text/plain": [
       "<Figure size 1000x700 with 2 Axes>"
      ]
     },
     "metadata": {},
     "output_type": "display_data"
    },
    {
     "name": "stdout",
     "output_type": "stream",
     "text": [
      "K-Nearest Neighbors Training Metrics: Accuracy=0.7800632911392406, Precision=0.8031978466844514, Recall=0.7800632911392406, F1 Score=0.7730125443652507\n",
      "K-Nearest Neighbors Testing Metrics: Accuracy=0.6645569620253164, Precision=0.7304386391185668, Recall=0.6645569620253164, F1 Score=0.6525604879373761\n"
     ]
    },
    {
     "data": {
      "image/png": "[encoded data removed]",
      "text/plain": [
       "<Figure size 1000x700 with 2 Axes>"
      ]
     },
     "metadata": {},
     "output_type": "display_data"
    },
    {
     "data": {
      "image/png": "[encoded data removed]",
      "text/plain": [
       "<Figure size 1000x700 with 2 Axes>"
      ]
     },
     "metadata": {},
     "output_type": "display_data"
    }
   ],
   "source": [
    "from sklearn.metrics import accuracy_score, precision_score, recall_score, f1_score, confusion_matrix\n",
    "import seaborn as sns\n",
    "import matplotlib.pyplot as plt\n",
    "\n",
    "# Function to evaluate the model\n",
    "def evaluate_model(model, X, y):\n",
    "    y_pred = model.predict(X)\n",
    "    accuracy = accuracy_score(y, y_pred)\n",
    "    precision = precision_score(y, y_pred, average='weighted')\n",
    "    recall = recall_score(y, y_pred, average='weighted')\n",
    "    f1 = f1_score(y, y_pred, average='weighted')\n",
    "    conf_matrix = confusion_matrix(y, y_pred)\n",
    "    return accuracy, precision, recall, f1, conf_matrix\n",
    "\n",
    "# Evaluate the models on the training set\n",
    "train_metrics = {name: evaluate_model(model, X_train, y_train) for name, model in classifiers.items()}\n",
    "\n",
    "# Evaluate the models on the testing set\n",
    "test_metrics = {name: evaluate_model(model, X_test, y_test) for name, model in classifiers.items()}\n",
    "\n",
    "# Print the metrics and plot confusion matrices\n",
    "for name in classifiers.keys():\n",
    "    print(f\"{name} Training Metrics: Accuracy={train_metrics[name][0]}, Precision={train_metrics[name][1]}, Recall={train_metrics[name][2]}, F1 Score={train_metrics[name][3]}\")\n",
    "    print(f\"{name} Testing Metrics: Accuracy={test_metrics[name][0]}, Precision={test_metrics[name][1]}, Recall={test_metrics[name][2]}, F1 Score={test_metrics[name][3]}\")\n",
    "    \n",
    "    # Plot confusion matrix for training set\n",
    "    plt.figure(figsize=(10, 7))\n",
    "    sns.heatmap(train_metrics[name][4], annot=True, fmt='d', cmap='Blues')\n",
    "    plt.title(f'{name} Training Confusion Matrix')\n",
    "    plt.xlabel('Predicted')\n",
    "    plt.ylabel('Actual')\n",
    "    plt.show()\n",
    "    \n",
    "    # Plot confusion matrix for testing set\n",
    "    plt.figure(figsize=(10, 7))\n",
    "    sns.heatmap(test_metrics[name][4], annot=True, fmt='d', cmap='Blues')\n",
    "    plt.title(f'{name} Testing Confusion Matrix')\n",
    "    plt.xlabel('Predicted')\n",
    "    plt.ylabel('Actual')\n",
    "    plt.show()"
   ]
  },
  {
   "cell_type": "markdown",
   "metadata": {},
   "source": [
    "From above it is visible that SVM is giving best results. So procedding with SVM model"
   ]
  },
  {
   "cell_type": "code",
   "execution_count": 40,
   "metadata": {},
   "outputs": [
    {
     "name": "stdout",
     "output_type": "stream",
     "text": [
      "SVM Training Metrics: Accuracy=0.8924050632911392, Precision=0.898267433826057, Recall=0.8924050632911392, F1 Score=0.8895364453428822\n",
      "SVM Testing Metrics: Accuracy=0.7911392405063291, Precision=0.8023676856121893, Recall=0.7911392405063291, F1 Score=0.7888112427139266\n"
     ]
    },
    {
     "data": {
      "image/png": "[encoded data removed]",
      "text/plain": [
       "<Figure size 1000x700 with 2 Axes>"
      ]
     },
     "metadata": {},
     "output_type": "display_data"
    },
    {
     "data": {
      "image/png": "[encoded data removed]",
      "text/plain": [
       "<Figure size 1000x700 with 2 Axes>"
      ]
     },
     "metadata": {},
     "output_type": "display_data"
    }
   ],
   "source": [
    "from sklearn.svm import SVC\n",
    "from sklearn.metrics import accuracy_score, precision_score, recall_score, f1_score, confusion_matrix\n",
    "import seaborn as sns\n",
    "import matplotlib.pyplot as plt\n",
    "\n",
    "# Define the SVM model\n",
    "svm_model = SVC()\n",
    "\n",
    "# Train the SVM model\n",
    "svm_model.fit(X_train, y_train)\n",
    "\n",
    "# Function to evaluate the model\n",
    "def evaluate_model(model, X, y):\n",
    "    y_pred = model.predict(X)\n",
    "    accuracy = accuracy_score(y, y_pred)\n",
    "    precision = precision_score(y, y_pred, average='weighted')\n",
    "    recall = recall_score(y, y_pred, average='weighted')\n",
    "    f1 = f1_score(y, y_pred, average='weighted')\n",
    "    conf_matrix = confusion_matrix(y, y_pred)\n",
    "    return accuracy, precision, recall, f1, conf_matrix\n",
    "\n",
    "# Evaluate the SVM model on the training set\n",
    "train_metrics = evaluate_model(svm_model, X_train, y_train)\n",
    "\n",
    "# Evaluate the SVM model on the testing set\n",
    "test_metrics = evaluate_model(svm_model, X_test, y_test)\n",
    "\n",
    "# Print the metrics\n",
    "print(f\"SVM Training Metrics: Accuracy={train_metrics[0]}, Precision={train_metrics[1]}, Recall={train_metrics[2]}, F1 Score={train_metrics[3]}\")\n",
    "print(f\"SVM Testing Metrics: Accuracy={test_metrics[0]}, Precision={test_metrics[1]}, Recall={test_metrics[2]}, F1 Score={test_metrics[3]}\")\n",
    "\n",
    "# Plot confusion matrix for training set\n",
    "plt.figure(figsize=(10, 7))\n",
    "sns.heatmap(train_metrics[4], annot=True, fmt='d', cmap='Blues')\n",
    "plt.title('SVM Training Confusion Matrix')\n",
    "plt.xlabel('Predicted')\n",
    "plt.ylabel('Actual')\n",
    "plt.show()\n",
    "\n",
    "# Plot confusion matrix for testing set\n",
    "plt.figure(figsize=(10, 7))\n",
    "sns.heatmap(test_metrics[4], annot=True, fmt='d', cmap='Blues')\n",
    "plt.title('SVM Testing Confusion Matrix')\n",
    "plt.xlabel('Predicted')\n",
    "plt.ylabel('Actual')\n",
    "plt.show()"
   ]
  },
  {
   "cell_type": "markdown",
   "metadata": {},
   "source": [
    "### Prediction on the unlabeled data"
   ]
  },
  {
   "cell_type": "code",
   "execution_count": 44,
   "metadata": {},
   "outputs": [],
   "source": [
    "from sklearn.decomposition import PCA\n",
    "import matplotlib.pyplot as plt\n",
    "import seaborn as sns\n",
    "\n",
    "# Standardize the features \n",
    "test_features_standardized = (data_df - data_df.mean()) / data_df.std()\n",
    "\n",
    "# Perform PCA\n",
    "pca = PCA()\n",
    "principal_components = pca.fit_transform(test_features_standardized)\n"
   ]
  },
  {
   "cell_type": "code",
   "execution_count": 45,
   "metadata": {},
   "outputs": [],
   "source": [
    "#optimal number of components from training data\n",
    "optimal_components = 28\n",
    "\n",
    "# Perform PCA with the optimal number of components\n",
    "pca_optimal = PCA(n_components=optimal_components)\n",
    "principal_components_optimal = pca_optimal.fit_transform(test_features_standardized)\n",
    "\n",
    "# Create a DataFrame with the optimal principal components\n",
    "pca_df_optimal_unlabeled = pd.DataFrame(data=principal_components_optimal)"
   ]
  },
  {
   "cell_type": "code",
   "execution_count": 46,
   "metadata": {},
   "outputs": [
    {
     "name": "stdout",
     "output_type": "stream",
     "text": [
      "           0         1         2         3         4         5         6   \\\n",
      "0    1.583136  3.742376 -1.406306 -0.965336  1.692501 -0.628264  1.934912   \n",
      "1    7.684954  2.830343  1.139662  0.488741 -0.121536  0.250052  1.593665   \n",
      "2   -1.698946  7.089917 -0.846227  0.381829  0.356498  0.795038  0.570979   \n",
      "3   -3.863518  5.934021  5.786588  1.109857  1.432975 -0.825058 -2.151544   \n",
      "4   -3.499106  1.747188 -1.337211  0.444653  0.926369  2.021732  1.208181   \n",
      "..        ...       ...       ...       ...       ...       ...       ...   \n",
      "111 -7.172992 -4.770277 -2.118115 -4.325524 -0.287083 -1.864648 -1.939023   \n",
      "112  0.951232  2.125388 -0.180446 -0.419413 -0.591865  0.191688  0.518281   \n",
      "113 -3.076726  4.396585 -1.380449 -1.536100 -0.779221 -0.433773  3.055005   \n",
      "114 -0.932747 -2.189276  3.899899 -0.623509  0.492922  3.217223  1.695973   \n",
      "115 -1.810995  0.466068  1.952063 -2.254097 -2.072505 -2.922973  1.123995   \n",
      "\n",
      "           7         8         9   ...        18        19        20  \\\n",
      "0    2.691424  0.427965 -0.155992  ...  1.252259 -0.608445  0.721420   \n",
      "1    1.604525  0.757178 -0.703199  ... -1.616680 -1.361299 -0.602183   \n",
      "2   -0.085550 -0.396892 -0.343933  ... -0.584836  0.002772  0.317574   \n",
      "3   -1.207384 -0.526897  1.549713  ... -0.369090  0.032050 -2.307241   \n",
      "4   -2.503789  1.833223 -0.380514  ...  0.774371  2.296316  0.376234   \n",
      "..        ...       ...       ...  ...       ...       ...       ...   \n",
      "111 -2.026413 -2.254355 -0.486170  ...  0.544228 -0.508657 -0.050779   \n",
      "112 -0.642788  1.178365 -0.264980  ...  0.715820 -0.584140 -0.541297   \n",
      "113  1.620244  1.123761  1.142744  ... -1.965369  0.351274 -0.695098   \n",
      "114 -0.123752 -2.049098  1.239858  ... -0.831306 -0.745760  0.362980   \n",
      "115 -0.846762  2.063662 -0.139927  ...  0.933046 -0.240432 -0.138175   \n",
      "\n",
      "           21        22        23        24        25        26        27  \n",
      "0    1.407509 -0.740145  0.674311 -0.513702 -0.089009 -1.068289  0.964639  \n",
      "1    0.782180  0.905488  0.767492  0.757364 -0.635065  0.658656 -0.937842  \n",
      "2   -1.353965  0.038195 -0.740840  0.408896 -0.136118  1.412317 -0.065782  \n",
      "3    0.833377 -0.231859 -0.185311  0.977923  1.575819  0.794488 -0.328438  \n",
      "4   -0.230215 -0.136988 -1.778046  2.160830  1.639229  0.757086  0.748091  \n",
      "..        ...       ...       ...       ...       ...       ...       ...  \n",
      "111 -0.223888  1.039302  0.119691  0.411718  0.210283 -0.815193  1.480099  \n",
      "112 -1.877793  0.596363 -0.914440 -0.038415  0.111784  1.421628 -0.834472  \n",
      "113  0.857331  1.290918 -0.400555  0.261627 -1.446001 -0.742654  0.044143  \n",
      "114  2.073678 -1.036818  0.966715  0.577428  0.538286  0.125550  0.216131  \n",
      "115  1.134068  0.065460  0.666680  0.221140  0.202500 -1.373199 -0.934257  \n",
      "\n",
      "[116 rows x 28 columns]\n"
     ]
    }
   ],
   "source": [
    "print(pca_df_optimal_unlabeled)"
   ]
  },
  {
   "cell_type": "code",
   "execution_count": 47,
   "metadata": {},
   "outputs": [
    {
     "name": "stdout",
     "output_type": "stream",
     "text": [
      "                       0         1         2         3         4         5  \\\n",
      "Lavani          1.583136  3.742376 -1.406306 -0.965336  1.692501 -0.628264   \n",
      "MichaelJackson  7.684954  2.830343  1.139662  0.488741 -0.121536  0.250052   \n",
      "KishoreKumar   -1.698946  7.089917 -0.846227  0.381829  0.356498  0.795038   \n",
      "NationalAnthem -3.863518  5.934021  5.786588  1.109857  1.432975 -0.825058   \n",
      "BhavGeet       -3.499106  1.747188 -1.337211  0.444653  0.926369  2.021732   \n",
      "...                  ...       ...       ...       ...       ...       ...   \n",
      "AshaBhosle     -7.172992 -4.770277 -2.118115 -4.325524 -0.287083 -1.864648   \n",
      "MichaelJackson  0.951232  2.125388 -0.180446 -0.419413 -0.591865  0.191688   \n",
      "AshaBhosle     -3.076726  4.396585 -1.380449 -1.536100 -0.779221 -0.433773   \n",
      "NationalAnthem -0.932747 -2.189276  3.899899 -0.623509  0.492922  3.217223   \n",
      "MichaelJackson -1.810995  0.466068  1.952063 -2.254097 -2.072505 -2.922973   \n",
      "\n",
      "                       6         7         8         9  ...        19  \\\n",
      "Lavani          1.934912  2.691424  0.427965 -0.155992  ... -0.608445   \n",
      "MichaelJackson  1.593665  1.604525  0.757178 -0.703199  ... -1.361299   \n",
      "KishoreKumar    0.570979 -0.085550 -0.396892 -0.343933  ...  0.002772   \n",
      "NationalAnthem -2.151544 -1.207384 -0.526897  1.549713  ...  0.032050   \n",
      "BhavGeet        1.208181 -2.503789  1.833223 -0.380514  ...  2.296316   \n",
      "...                  ...       ...       ...       ...  ...       ...   \n",
      "AshaBhosle     -1.939023 -2.026413 -2.254355 -0.486170  ... -0.508657   \n",
      "MichaelJackson  0.518281 -0.642788  1.178365 -0.264980  ... -0.584140   \n",
      "AshaBhosle      3.055005  1.620244  1.123761  1.142744  ...  0.351274   \n",
      "NationalAnthem  1.695973 -0.123752 -2.049098  1.239858  ... -0.745760   \n",
      "MichaelJackson  1.123995 -0.846762  2.063662 -0.139927  ... -0.240432   \n",
      "\n",
      "                      20        21        22        23        24        25  \\\n",
      "Lavani          0.721420  1.407509 -0.740145  0.674311 -0.513702 -0.089009   \n",
      "MichaelJackson -0.602183  0.782180  0.905488  0.767492  0.757364 -0.635065   \n",
      "KishoreKumar    0.317574 -1.353965  0.038195 -0.740840  0.408896 -0.136118   \n",
      "NationalAnthem -2.307241  0.833377 -0.231859 -0.185311  0.977923  1.575819   \n",
      "BhavGeet        0.376234 -0.230215 -0.136988 -1.778046  2.160830  1.639229   \n",
      "...                  ...       ...       ...       ...       ...       ...   \n",
      "AshaBhosle     -0.050779 -0.223888  1.039302  0.119691  0.411718  0.210283   \n",
      "MichaelJackson -0.541297 -1.877793  0.596363 -0.914440 -0.038415  0.111784   \n",
      "AshaBhosle     -0.695098  0.857331  1.290918 -0.400555  0.261627 -1.446001   \n",
      "NationalAnthem  0.362980  2.073678 -1.036818  0.966715  0.577428  0.538286   \n",
      "MichaelJackson -0.138175  1.134068  0.065460  0.666680  0.221140  0.202500   \n",
      "\n",
      "                      26        27           label  \n",
      "Lavani         -1.068289  0.964639          Lavani  \n",
      "MichaelJackson  0.658656 -0.937842  MichaelJackson  \n",
      "KishoreKumar    1.412317 -0.065782    KishoreKumar  \n",
      "NationalAnthem  0.794488 -0.328438  NationalAnthem  \n",
      "BhavGeet        0.757086  0.748091        BhavGeet  \n",
      "...                  ...       ...             ...  \n",
      "AshaBhosle     -0.815193  1.480099      AshaBhosle  \n",
      "MichaelJackson  1.421628 -0.834472  MichaelJackson  \n",
      "AshaBhosle     -0.742654  0.044143      AshaBhosle  \n",
      "NationalAnthem  0.125550  0.216131  NationalAnthem  \n",
      "MichaelJackson -1.373199 -0.934257  MichaelJackson  \n",
      "\n",
      "[116 rows x 29 columns]\n"
     ]
    }
   ],
   "source": [
    "X_unlabeled = pca_df_optimal_unlabeled\n",
    "\n",
    "# Predict the labels for the unlabeled data\n",
    "y_pred_unlabeled = svm_model.predict(X_unlabeled)\n",
    "\n",
    "#Set the index of the DataFrame as the predicted labels\n",
    "pca_df_optimal_unlabeled.index = y_pred_unlabeled\n",
    "\n",
    "# Add the predicted labels to the DataFrame\n",
    "pca_df_optimal_unlabeled['label'] = y_pred_unlabeled\n",
    "\n",
    "# Display the DataFrame with predicted labels\n",
    "print(pca_df_optimal_unlabeled)"
   ]
  },
  {
   "cell_type": "code",
   "execution_count": 48,
   "metadata": {},
   "outputs": [
    {
     "data": {
      "application/vnd.plotly.v1+json": {
       "config": {
        "plotlyServerURL": "https://plot.ly"
       },
       "data": [
        {
         "hovertemplate": "label=Lavani<br>0=%{x}<br>1=%{y}<extra></extra>",
         "legendgroup": "Lavani",
         "marker": {
          "color": "#636efa",
          "symbol": "circle"
         },
         "mode": "markers",
         "name": "Lavani",
         "orientation": "v",
         "showlegend": true,
         "type": "scatter",
         "x": [
          1.58313622645534,
          7.909144352782533,
          6.243605314489865,
          7.285461939636932,
          10.596772721246179
         ],
         "xaxis": "x",
         "y": [
          3.742376391413824,
          1.1927744924953336,
          2.2098087827566117,
          2.7489782867335406,
          -3.6897757338225805
         ],
         "yaxis": "y"
        },
        {
         "hovertemplate": "label=MichaelJackson<br>0=%{x}<br>1=%{y}<extra></extra>",
         "legendgroup": "MichaelJackson",
         "marker": {
          "color": "#EF553B",
          "symbol": "circle"
         },
         "mode": "markers",
         "name": "MichaelJackson",
         "orientation": "v",
         "showlegend": true,
         "type": "scatter",
         "x": [
          7.684953674382409,
          -1.7409250892857153,
          -2.1447514240930876,
          -2.375524777735565,
          3.6023736986385373,
          0.9823578673276044,
          6.854259231446571,
          -2.231976029294944,
          1.885988921174004,
          -3.1045461840083672,
          0.9756299831578981,
          0.44192869301937254,
          -2.2133345395944373,
          -5.990611975274,
          -2.157606624107391,
          6.817039806520816,
          0.9512315720895016,
          -1.8109953646157209
         ],
         "xaxis": "x",
         "y": [
          2.8303432568941096,
          3.3408714567535336,
          0.20811712635508486,
          -1.6896304016330246,
          -3.102072873463092,
          2.757548635753806,
          -1.6449322887992024,
          4.303728930009285,
          4.221164890980409,
          1.4564631451683416,
          0.7504006568361181,
          -6.2951051514594845,
          5.836601526185568,
          -1.4157028200923234,
          -0.9320882350431302,
          -3.2178478114443934,
          2.125388385452401,
          0.46606803209603076
         ],
         "yaxis": "y"
        },
        {
         "hovertemplate": "label=KishoreKumar<br>0=%{x}<br>1=%{y}<extra></extra>",
         "legendgroup": "KishoreKumar",
         "marker": {
          "color": "#00cc96",
          "symbol": "circle"
         },
         "mode": "markers",
         "name": "KishoreKumar",
         "orientation": "v",
         "showlegend": true,
         "type": "scatter",
         "x": [
          -1.6989459175273964,
          -2.0850762588999463,
          3.7160854828560987,
          3.842085189169752,
          1.2224218906247668,
          1.989153470131461,
          4.6821148998105,
          1.1801462200145676,
          5.4540638057244335,
          0.98424847657033,
          2.625249400332583,
          -7.425906796951597,
          0.5840666765452683,
          -1.9945410098033192,
          7.807390232811178,
          1.188266381632578,
          6.122072739848543,
          3.423523727068008,
          6.6101820271750595,
          -5.535458708891257,
          2.147765791339301,
          -5.563258843184488
         ],
         "xaxis": "x",
         "y": [
          7.089917099569046,
          -9.070576823262225,
          1.909139178911261,
          3.734097386774834,
          0.960385882055681,
          0.6531855603904861,
          -1.2548342344725905,
          1.814231413449728,
          2.5207739052589337,
          -0.03466913259704902,
          -1.0253980670460412,
          3.4131263121846684,
          -6.344011552001213,
          2.2903475350037312,
          -0.8609604145462126,
          4.337336274736167,
          1.7436424931344698,
          0.4296177742257036,
          -0.8509570995790559,
          5.509691234674357,
          1.1342589021229712,
          3.437250486199016
         ],
         "yaxis": "y"
        },
        {
         "hovertemplate": "label=NationalAnthem<br>0=%{x}<br>1=%{y}<extra></extra>",
         "legendgroup": "NationalAnthem",
         "marker": {
          "color": "#ab63fa",
          "symbol": "circle"
         },
         "mode": "markers",
         "name": "NationalAnthem",
         "orientation": "v",
         "showlegend": true,
         "type": "scatter",
         "x": [
          -3.8635176782774594,
          -14.884150288673002,
          -6.166547927797232,
          -0.80650890719822,
          1.4020627928550289,
          -0.5429714814129801,
          -6.047544052566354,
          2.2854582962089727,
          6.406945016688735,
          -12.664992379018635,
          -28.316935154323616,
          -4.613523733555841,
          -6.626678261657642,
          -4.721072324868048,
          -4.365534844327934,
          -10.32748883860372,
          13.855899584936054,
          12.734067742478418,
          -6.987467302240202,
          -1.3636381308882386,
          16.95532123535594,
          -11.413948978481917,
          0.80154026881535,
          12.320338301744462,
          1.7151281912322696,
          0.032854265779497266,
          -3.967450172916904,
          -9.748279876408196,
          -4.1356208077498176,
          -8.75929269068149,
          -9.55517629841421,
          13.97593680526083,
          -0.9327474240106698
         ],
         "xaxis": "x",
         "y": [
          5.934021068165784,
          5.3512628476511965,
          0.7484853345629477,
          -5.58598615999906,
          1.4290555131454314,
          -3.9006272951466596,
          6.630460043780153,
          -4.59777522514056,
          2.711859200111458,
          -8.719254796906279,
          -7.968347451952742,
          -1.433826938834252,
          5.959142712107558,
          4.034737160557527,
          4.224933354422518,
          1.8062349043089356,
          4.706722497695173,
          -1.5933044268304113,
          -6.307400493602299,
          1.234392211245411,
          -0.1256059536067643,
          4.418681977364563,
          -2.8383405653005505,
          0.18651533148329655,
          2.3405321011315987,
          -4.310692530334934,
          1.873754713636565,
          -5.314764982593554,
          -7.162792049521017,
          -7.187593123511535,
          3.0601402985636024,
          -2.2374754986775662,
          -2.189276303109223
         ],
         "yaxis": "y"
        },
        {
         "hovertemplate": "label=BhavGeet<br>0=%{x}<br>1=%{y}<extra></extra>",
         "legendgroup": "BhavGeet",
         "marker": {
          "color": "#FFA15A",
          "symbol": "circle"
         },
         "mode": "markers",
         "name": "BhavGeet",
         "orientation": "v",
         "showlegend": true,
         "type": "scatter",
         "x": [
          -3.499105678739154,
          -2.113680570001176,
          8.056291136555807,
          -0.5282835632063324,
          -0.8905367788979305,
          0.15428551067515664,
          5.45839249530576,
          -0.6350191913045368,
          -3.8299072685262794,
          6.476622033212366,
          -1.2887829446934453,
          -7.723688217253925,
          2.5084684367199337,
          -2.621809472562827,
          5.605747499958722,
          13.602958494557866
         ],
         "xaxis": "x",
         "y": [
          1.7471881533700209,
          3.3649223696907353,
          -4.671924112365709,
          -6.640293933545843,
          -0.7490666879641532,
          -2.315778973580094,
          2.2104962253006497,
          -5.0293886953901,
          -3.6712089691369894,
          -1.1569936293898113,
          -0.4273038227648576,
          -4.108507361673134,
          3.8164795004546432,
          4.32694872881201,
          -4.013635566474865,
          -3.019333009593944
         ],
         "yaxis": "y"
        },
        {
         "hovertemplate": "label=AshaBhosle<br>0=%{x}<br>1=%{y}<extra></extra>",
         "legendgroup": "AshaBhosle",
         "marker": {
          "color": "#19d3f3",
          "symbol": "circle"
         },
         "mode": "markers",
         "name": "AshaBhosle",
         "orientation": "v",
         "showlegend": true,
         "type": "scatter",
         "x": [
          -3.749411651849742,
          -7.717722089614958,
          7.448804370665931,
          -2.932075797307551,
          7.839519079493964,
          -0.6473426912195162,
          0.08553918701797691,
          0.8195118599601579,
          -7.8898546830681795,
          -5.342859714025262,
          -5.631606567980883,
          1.9266185381162617,
          0.7718590174320762,
          7.586762377547896,
          -3.0888759187646233,
          -5.067116113936934,
          11.114623978776363,
          11.67676038431367,
          -2.077706173070948,
          -4.601386695107696,
          -7.172992470296141,
          -3.076725966919866
         ],
         "xaxis": "x",
         "y": [
          2.3950945709428,
          -1.033877471005429,
          -1.9417129486430271,
          6.158614647866165,
          -3.837555505297172,
          2.684408290727471,
          0.4194808138330464,
          -1.96140370020295,
          -0.32474349028748273,
          4.405385178953691,
          3.971510202214471,
          1.961404397367403,
          -2.944248730429095,
          -3.2428375330799613,
          2.163528894196923,
          -6.489755099999145,
          -0.10620945937396817,
          -2.9468627072386386,
          0.08415819508286211,
          -1.6202261190767744,
          -4.770277465357768,
          4.396584552878283
         ],
         "yaxis": "y"
        }
       ],
       "layout": {
        "legend": {
         "title": {
          "text": "label"
         },
         "tracegroupgap": 0
        },
        "margin": {
         "t": 60
        },
        "template": {
         "data": {
          "bar": [
           {
            "error_x": {
             "color": "#2a3f5f"
            },
            "error_y": {
             "color": "#2a3f5f"
            },
            "marker": {
             "line": {
              "color": "#E5ECF6",
              "width": 0.5
             },
             "pattern": {
              "fillmode": "overlay",
              "size": 10,
              "solidity": 0.2
             }
            },
            "type": "bar"
           }
          ],
          "barpolar": [
           {
            "marker": {
             "line": {
              "color": "#E5ECF6",
              "width": 0.5
             },
             "pattern": {
              "fillmode": "overlay",
              "size": 10,
              "solidity": 0.2
             }
            },
            "type": "barpolar"
           }
          ],
          "carpet": [
           {
            "aaxis": {
             "endlinecolor": "#2a3f5f",
             "gridcolor": "white",
             "linecolor": "white",
             "minorgridcolor": "white",
             "startlinecolor": "#2a3f5f"
            },
            "baxis": {
             "endlinecolor": "#2a3f5f",
             "gridcolor": "white",
             "linecolor": "white",
             "minorgridcolor": "white",
             "startlinecolor": "#2a3f5f"
            },
            "type": "carpet"
           }
          ],
          "choropleth": [
           {
            "colorbar": {
             "outlinewidth": 0,
             "ticks": ""
            },
            "type": "choropleth"
           }
          ],
          "contour": [
           {
            "colorbar": {
             "outlinewidth": 0,
             "ticks": ""
            },
            "colorscale": [
             [
              0,
              "#0d0887"
             ],
             [
              0.1111111111111111,
              "#46039f"
             ],
             [
              0.2222222222222222,
              "#7201a8"
             ],
             [
              0.3333333333333333,
              "#9c179e"
             ],
             [
              0.4444444444444444,
              "#bd3786"
             ],
             [
              0.5555555555555556,
              "#d8576b"
             ],
             [
              0.6666666666666666,
              "#ed7953"
             ],
             [
              0.7777777777777778,
              "#fb9f3a"
             ],
             [
              0.8888888888888888,
              "#fdca26"
             ],
             [
              1,
              "#f0f921"
             ]
            ],
            "type": "contour"
           }
          ],
          "contourcarpet": [
           {
            "colorbar": {
             "outlinewidth": 0,
             "ticks": ""
            },
            "type": "contourcarpet"
           }
          ],
          "heatmap": [
           {
            "colorbar": {
             "outlinewidth": 0,
             "ticks": ""
            },
            "colorscale": [
             [
              0,
              "#0d0887"
             ],
             [
              0.1111111111111111,
              "#46039f"
             ],
             [
              0.2222222222222222,
              "#7201a8"
             ],
             [
              0.3333333333333333,
              "#9c179e"
             ],
             [
              0.4444444444444444,
              "#bd3786"
             ],
             [
              0.5555555555555556,
              "#d8576b"
             ],
             [
              0.6666666666666666,
              "#ed7953"
             ],
             [
              0.7777777777777778,
              "#fb9f3a"
             ],
             [
              0.8888888888888888,
              "#fdca26"
             ],
             [
              1,
              "#f0f921"
             ]
            ],
            "type": "heatmap"
           }
          ],
          "heatmapgl": [
           {
            "colorbar": {
             "outlinewidth": 0,
             "ticks": ""
            },
            "colorscale": [
             [
              0,
              "#0d0887"
             ],
             [
              0.1111111111111111,
              "#46039f"
             ],
             [
              0.2222222222222222,
              "#7201a8"
             ],
             [
              0.3333333333333333,
              "#9c179e"
             ],
             [
              0.4444444444444444,
              "#bd3786"
             ],
             [
              0.5555555555555556,
              "#d8576b"
             ],
             [
              0.6666666666666666,
              "#ed7953"
             ],
             [
              0.7777777777777778,
              "#fb9f3a"
             ],
             [
              0.8888888888888888,
              "#fdca26"
             ],
             [
              1,
              "#f0f921"
             ]
            ],
            "type": "heatmapgl"
           }
          ],
          "histogram": [
           {
            "marker": {
             "pattern": {
              "fillmode": "overlay",
              "size": 10,
              "solidity": 0.2
             }
            },
            "type": "histogram"
           }
          ],
          "histogram2d": [
           {
            "colorbar": {
             "outlinewidth": 0,
             "ticks": ""
            },
            "colorscale": [
             [
              0,
              "#0d0887"
             ],
             [
              0.1111111111111111,
              "#46039f"
             ],
             [
              0.2222222222222222,
              "#7201a8"
             ],
             [
              0.3333333333333333,
              "#9c179e"
             ],
             [
              0.4444444444444444,
              "#bd3786"
             ],
             [
              0.5555555555555556,
              "#d8576b"
             ],
             [
              0.6666666666666666,
              "#ed7953"
             ],
             [
              0.7777777777777778,
              "#fb9f3a"
             ],
             [
              0.8888888888888888,
              "#fdca26"
             ],
             [
              1,
              "#f0f921"
             ]
            ],
            "type": "histogram2d"
           }
          ],
          "histogram2dcontour": [
           {
            "colorbar": {
             "outlinewidth": 0,
             "ticks": ""
            },
            "colorscale": [
             [
              0,
              "#0d0887"
             ],
             [
              0.1111111111111111,
              "#46039f"
             ],
             [
              0.2222222222222222,
              "#7201a8"
             ],
             [
              0.3333333333333333,
              "#9c179e"
             ],
             [
              0.4444444444444444,
              "#bd3786"
             ],
             [
              0.5555555555555556,
              "#d8576b"
             ],
             [
              0.6666666666666666,
              "#ed7953"
             ],
             [
              0.7777777777777778,
              "#fb9f3a"
             ],
             [
              0.8888888888888888,
              "#fdca26"
             ],
             [
              1,
              "#f0f921"
             ]
            ],
            "type": "histogram2dcontour"
           }
          ],
          "mesh3d": [
           {
            "colorbar": {
             "outlinewidth": 0,
             "ticks": ""
            },
            "type": "mesh3d"
           }
          ],
          "parcoords": [
           {
            "line": {
             "colorbar": {
              "outlinewidth": 0,
              "ticks": ""
             }
            },
            "type": "parcoords"
           }
          ],
          "pie": [
           {
            "automargin": true,
            "type": "pie"
           }
          ],
          "scatter": [
           {
            "fillpattern": {
             "fillmode": "overlay",
             "size": 10,
             "solidity": 0.2
            },
            "type": "scatter"
           }
          ],
          "scatter3d": [
           {
            "line": {
             "colorbar": {
              "outlinewidth": 0,
              "ticks": ""
             }
            },
            "marker": {
             "colorbar": {
              "outlinewidth": 0,
              "ticks": ""
             }
            },
            "type": "scatter3d"
           }
          ],
          "scattercarpet": [
           {
            "marker": {
             "colorbar": {
              "outlinewidth": 0,
              "ticks": ""
             }
            },
            "type": "scattercarpet"
           }
          ],
          "scattergeo": [
           {
            "marker": {
             "colorbar": {
              "outlinewidth": 0,
              "ticks": ""
             }
            },
            "type": "scattergeo"
           }
          ],
          "scattergl": [
           {
            "marker": {
             "colorbar": {
              "outlinewidth": 0,
              "ticks": ""
             }
            },
            "type": "scattergl"
           }
          ],
          "scattermapbox": [
           {
            "marker": {
             "colorbar": {
              "outlinewidth": 0,
              "ticks": ""
             }
            },
            "type": "scattermapbox"
           }
          ],
          "scatterpolar": [
           {
            "marker": {
             "colorbar": {
              "outlinewidth": 0,
              "ticks": ""
             }
            },
            "type": "scatterpolar"
           }
          ],
          "scatterpolargl": [
           {
            "marker": {
             "colorbar": {
              "outlinewidth": 0,
              "ticks": ""
             }
            },
            "type": "scatterpolargl"
           }
          ],
          "scatterternary": [
           {
            "marker": {
             "colorbar": {
              "outlinewidth": 0,
              "ticks": ""
             }
            },
            "type": "scatterternary"
           }
          ],
          "surface": [
           {
            "colorbar": {
             "outlinewidth": 0,
             "ticks": ""
            },
            "colorscale": [
             [
              0,
              "#0d0887"
             ],
             [
              0.1111111111111111,
              "#46039f"
             ],
             [
              0.2222222222222222,
              "#7201a8"
             ],
             [
              0.3333333333333333,
              "#9c179e"
             ],
             [
              0.4444444444444444,
              "#bd3786"
             ],
             [
              0.5555555555555556,
              "#d8576b"
             ],
             [
              0.6666666666666666,
              "#ed7953"
             ],
             [
              0.7777777777777778,
              "#fb9f3a"
             ],
             [
              0.8888888888888888,
              "#fdca26"
             ],
             [
              1,
              "#f0f921"
             ]
            ],
            "type": "surface"
           }
          ],
          "table": [
           {
            "cells": {
             "fill": {
              "color": "#EBF0F8"
             },
             "line": {
              "color": "white"
             }
            },
            "header": {
             "fill": {
              "color": "#C8D4E3"
             },
             "line": {
              "color": "white"
             }
            },
            "type": "table"
           }
          ]
         },
         "layout": {
          "annotationdefaults": {
           "arrowcolor": "#2a3f5f",
           "arrowhead": 0,
           "arrowwidth": 1
          },
          "autotypenumbers": "strict",
          "coloraxis": {
           "colorbar": {
            "outlinewidth": 0,
            "ticks": ""
           }
          },
          "colorscale": {
           "diverging": [
            [
             0,
             "#8e0152"
            ],
            [
             0.1,
             "#c51b7d"
            ],
            [
             0.2,
             "#de77ae"
            ],
            [
             0.3,
             "#f1b6da"
            ],
            [
             0.4,
             "#fde0ef"
            ],
            [
             0.5,
             "#f7f7f7"
            ],
            [
             0.6,
             "#e6f5d0"
            ],
            [
             0.7,
             "#b8e186"
            ],
            [
             0.8,
             "#7fbc41"
            ],
            [
             0.9,
             "#4d9221"
            ],
            [
             1,
             "#276419"
            ]
           ],
           "sequential": [
            [
             0,
             "#0d0887"
            ],
            [
             0.1111111111111111,
             "#46039f"
            ],
            [
             0.2222222222222222,
             "#7201a8"
            ],
            [
             0.3333333333333333,
             "#9c179e"
            ],
            [
             0.4444444444444444,
             "#bd3786"
            ],
            [
             0.5555555555555556,
             "#d8576b"
            ],
            [
             0.6666666666666666,
             "#ed7953"
            ],
            [
             0.7777777777777778,
             "#fb9f3a"
            ],
            [
             0.8888888888888888,
             "#fdca26"
            ],
            [
             1,
             "#f0f921"
            ]
           ],
           "sequentialminus": [
            [
             0,
             "#0d0887"
            ],
            [
             0.1111111111111111,
             "#46039f"
            ],
            [
             0.2222222222222222,
             "#7201a8"
            ],
            [
             0.3333333333333333,
             "#9c179e"
            ],
            [
             0.4444444444444444,
             "#bd3786"
            ],
            [
             0.5555555555555556,
             "#d8576b"
            ],
            [
             0.6666666666666666,
             "#ed7953"
            ],
            [
             0.7777777777777778,
             "#fb9f3a"
            ],
            [
             0.8888888888888888,
             "#fdca26"
            ],
            [
             1,
             "#f0f921"
            ]
           ]
          },
          "colorway": [
           "#636efa",
           "#EF553B",
           "#00cc96",
           "#ab63fa",
           "#FFA15A",
           "#19d3f3",
           "#FF6692",
           "#B6E880",
           "#FF97FF",
           "#FECB52"
          ],
          "font": {
           "color": "#2a3f5f"
          },
          "geo": {
           "bgcolor": "white",
           "lakecolor": "white",
           "landcolor": "#E5ECF6",
           "showlakes": true,
           "showland": true,
           "subunitcolor": "white"
          },
          "hoverlabel": {
           "align": "left"
          },
          "hovermode": "closest",
          "mapbox": {
           "style": "light"
          },
          "paper_bgcolor": "white",
          "plot_bgcolor": "#E5ECF6",
          "polar": {
           "angularaxis": {
            "gridcolor": "white",
            "linecolor": "white",
            "ticks": ""
           },
           "bgcolor": "#E5ECF6",
           "radialaxis": {
            "gridcolor": "white",
            "linecolor": "white",
            "ticks": ""
           }
          },
          "scene": {
           "xaxis": {
            "backgroundcolor": "#E5ECF6",
            "gridcolor": "white",
            "gridwidth": 2,
            "linecolor": "white",
            "showbackground": true,
            "ticks": "",
            "zerolinecolor": "white"
           },
           "yaxis": {
            "backgroundcolor": "#E5ECF6",
            "gridcolor": "white",
            "gridwidth": 2,
            "linecolor": "white",
            "showbackground": true,
            "ticks": "",
            "zerolinecolor": "white"
           },
           "zaxis": {
            "backgroundcolor": "#E5ECF6",
            "gridcolor": "white",
            "gridwidth": 2,
            "linecolor": "white",
            "showbackground": true,
            "ticks": "",
            "zerolinecolor": "white"
           }
          },
          "shapedefaults": {
           "line": {
            "color": "#2a3f5f"
           }
          },
          "ternary": {
           "aaxis": {
            "gridcolor": "white",
            "linecolor": "white",
            "ticks": ""
           },
           "baxis": {
            "gridcolor": "white",
            "linecolor": "white",
            "ticks": ""
           },
           "bgcolor": "#E5ECF6",
           "caxis": {
            "gridcolor": "white",
            "linecolor": "white",
            "ticks": ""
           }
          },
          "title": {
           "x": 0.05
          },
          "xaxis": {
           "automargin": true,
           "gridcolor": "white",
           "linecolor": "white",
           "ticks": "",
           "title": {
            "standoff": 15
           },
           "zerolinecolor": "white",
           "zerolinewidth": 2
          },
          "yaxis": {
           "automargin": true,
           "gridcolor": "white",
           "linecolor": "white",
           "ticks": "",
           "title": {
            "standoff": 15
           },
           "zerolinecolor": "white",
           "zerolinewidth": 2
          }
         }
        },
        "title": {
         "text": "2D PCA Scatter Plot"
        },
        "xaxis": {
         "anchor": "y",
         "domain": [
          0,
          1
         ],
         "title": {
          "text": "PCA1"
         }
        },
        "yaxis": {
         "anchor": "x",
         "domain": [
          0,
          1
         ],
         "title": {
          "text": "PCA2"
         }
        }
       }
      }
     },
     "metadata": {},
     "output_type": "display_data"
    },
    {
     "data": {
      "application/vnd.plotly.v1+json": {
       "config": {
        "plotlyServerURL": "https://plot.ly"
       },
       "data": [
        {
         "hovertemplate": "label=Lavani<br>0=%{x}<br>1=%{y}<br>2=%{z}<extra></extra>",
         "legendgroup": "Lavani",
         "marker": {
          "color": "#636efa",
          "symbol": "circle"
         },
         "mode": "markers",
         "name": "Lavani",
         "scene": "scene",
         "showlegend": true,
         "type": "scatter3d",
         "x": [
          1.58313622645534,
          7.909144352782533,
          6.243605314489865,
          7.285461939636932,
          10.596772721246179
         ],
         "y": [
          3.742376391413824,
          1.1927744924953336,
          2.2098087827566117,
          2.7489782867335406,
          -3.6897757338225805
         ],
         "z": [
          -1.4063064716908371,
          -4.536426386141378,
          -1.048583491227537,
          -2.8835900299592754,
          -4.475405889805005
         ]
        },
        {
         "hovertemplate": "label=MichaelJackson<br>0=%{x}<br>1=%{y}<br>2=%{z}<extra></extra>",
         "legendgroup": "MichaelJackson",
         "marker": {
          "color": "#EF553B",
          "symbol": "circle"
         },
         "mode": "markers",
         "name": "MichaelJackson",
         "scene": "scene",
         "showlegend": true,
         "type": "scatter3d",
         "x": [
          7.684953674382409,
          -1.7409250892857153,
          -2.1447514240930876,
          -2.375524777735565,
          3.6023736986385373,
          0.9823578673276044,
          6.854259231446571,
          -2.231976029294944,
          1.885988921174004,
          -3.1045461840083672,
          0.9756299831578981,
          0.44192869301937254,
          -2.2133345395944373,
          -5.990611975274,
          -2.157606624107391,
          6.817039806520816,
          0.9512315720895016,
          -1.8109953646157209
         ],
         "y": [
          2.8303432568941096,
          3.3408714567535336,
          0.20811712635508486,
          -1.6896304016330246,
          -3.102072873463092,
          2.757548635753806,
          -1.6449322887992024,
          4.303728930009285,
          4.221164890980409,
          1.4564631451683416,
          0.7504006568361181,
          -6.2951051514594845,
          5.836601526185568,
          -1.4157028200923234,
          -0.9320882350431302,
          -3.2178478114443934,
          2.125388385452401,
          0.46606803209603076
         ],
         "z": [
          1.1396620960361539,
          1.385220331360372,
          2.05739344044606,
          3.8243063395546946,
          1.8995427583497253,
          1.8050308255743612,
          4.662811929008022,
          3.7822435818767364,
          2.3478969610371023,
          -0.2924910818304986,
          0.04370702860212059,
          3.2548329309357147,
          -0.09236435017632219,
          0.735704926005853,
          0.8355069184246166,
          2.547053621485328,
          -0.18044553245810668,
          1.95206329090518
         ]
        },
        {
         "hovertemplate": "label=KishoreKumar<br>0=%{x}<br>1=%{y}<br>2=%{z}<extra></extra>",
         "legendgroup": "KishoreKumar",
         "marker": {
          "color": "#00cc96",
          "symbol": "circle"
         },
         "mode": "markers",
         "name": "KishoreKumar",
         "scene": "scene",
         "showlegend": true,
         "type": "scatter3d",
         "x": [
          -1.6989459175273964,
          -2.0850762588999463,
          3.7160854828560987,
          3.842085189169752,
          1.2224218906247668,
          1.989153470131461,
          4.6821148998105,
          1.1801462200145676,
          5.4540638057244335,
          0.98424847657033,
          2.625249400332583,
          -7.425906796951597,
          0.5840666765452683,
          -1.9945410098033192,
          7.807390232811178,
          1.188266381632578,
          6.122072739848543,
          3.423523727068008,
          6.6101820271750595,
          -5.535458708891257,
          2.147765791339301,
          -5.563258843184488
         ],
         "y": [
          7.089917099569046,
          -9.070576823262225,
          1.909139178911261,
          3.734097386774834,
          0.960385882055681,
          0.6531855603904861,
          -1.2548342344725905,
          1.814231413449728,
          2.5207739052589337,
          -0.03466913259704902,
          -1.0253980670460412,
          3.4131263121846684,
          -6.344011552001213,
          2.2903475350037312,
          -0.8609604145462126,
          4.337336274736167,
          1.7436424931344698,
          0.4296177742257036,
          -0.8509570995790559,
          5.509691234674357,
          1.1342589021229712,
          3.437250486199016
         ],
         "z": [
          -0.8462268799584006,
          3.5069424213031186,
          -0.5305964682430908,
          -0.9264481713796848,
          -0.6251061054900343,
          -0.7811365227137071,
          3.641468430395901,
          -0.4224935414453687,
          0.27649727597356666,
          -0.5846464695563325,
          0.22833207809972736,
          -0.8457314729093288,
          4.7359454183530385,
          0.42198283866233627,
          3.664693245400434,
          0.31197629371609414,
          0.5825287714493953,
          5.0241845500132625,
          2.748969484599882,
          -0.5505461092772815,
          -0.63189116202761,
          -1.050103124588971
         ]
        },
        {
         "hovertemplate": "label=NationalAnthem<br>0=%{x}<br>1=%{y}<br>2=%{z}<extra></extra>",
         "legendgroup": "NationalAnthem",
         "marker": {
          "color": "#ab63fa",
          "symbol": "circle"
         },
         "mode": "markers",
         "name": "NationalAnthem",
         "scene": "scene",
         "showlegend": true,
         "type": "scatter3d",
         "x": [
          -3.8635176782774594,
          -14.884150288673002,
          -6.166547927797232,
          -0.80650890719822,
          1.4020627928550289,
          -0.5429714814129801,
          -6.047544052566354,
          2.2854582962089727,
          6.406945016688735,
          -12.664992379018635,
          -28.316935154323616,
          -4.613523733555841,
          -6.626678261657642,
          -4.721072324868048,
          -4.365534844327934,
          -10.32748883860372,
          13.855899584936054,
          12.734067742478418,
          -6.987467302240202,
          -1.3636381308882386,
          16.95532123535594,
          -11.413948978481917,
          0.80154026881535,
          12.320338301744462,
          1.7151281912322696,
          0.032854265779497266,
          -3.967450172916904,
          -9.748279876408196,
          -4.1356208077498176,
          -8.75929269068149,
          -9.55517629841421,
          13.97593680526083,
          -0.9327474240106698
         ],
         "y": [
          5.934021068165784,
          5.3512628476511965,
          0.7484853345629477,
          -5.58598615999906,
          1.4290555131454314,
          -3.9006272951466596,
          6.630460043780153,
          -4.59777522514056,
          2.711859200111458,
          -8.719254796906279,
          -7.968347451952742,
          -1.433826938834252,
          5.959142712107558,
          4.034737160557527,
          4.224933354422518,
          1.8062349043089356,
          4.706722497695173,
          -1.5933044268304113,
          -6.307400493602299,
          1.234392211245411,
          -0.1256059536067643,
          4.418681977364563,
          -2.8383405653005505,
          0.18651533148329655,
          2.3405321011315987,
          -4.310692530334934,
          1.873754713636565,
          -5.314764982593554,
          -7.162792049521017,
          -7.187593123511535,
          3.0601402985636024,
          -2.2374754986775662,
          -2.189276303109223
         ],
         "z": [
          5.786588197742303,
          -0.7091343725021956,
          -0.22204975791313694,
          4.555994950467486,
          0.19544500339785018,
          3.9965770194167423,
          3.4419038336476393,
          7.635021194151451,
          -0.963718162355685,
          -1.8630496051536576,
          -3.923777145116759,
          -1.2573597022163523,
          -0.15446636648712805,
          -0.540468888742657,
          0.8132538940685611,
          1.8695432452666745,
          3.023606011573098,
          2.88181452381741,
          -1.3736747404461138,
          3.4559181334407545,
          -5.483251256294467,
          -1.138420899408234,
          5.539632055845753,
          5.116653778574402,
          0.0009061823668109421,
          4.909903219203525,
          0.21792100490153107,
          1.2629133643184203,
          3.123398348404613,
          -1.3845246966238534,
          0.33059950030564367,
          3.7623485239430328,
          3.8998987535174674
         ]
        },
        {
         "hovertemplate": "label=BhavGeet<br>0=%{x}<br>1=%{y}<br>2=%{z}<extra></extra>",
         "legendgroup": "BhavGeet",
         "marker": {
          "color": "#FFA15A",
          "symbol": "circle"
         },
         "mode": "markers",
         "name": "BhavGeet",
         "scene": "scene",
         "showlegend": true,
         "type": "scatter3d",
         "x": [
          -3.499105678739154,
          -2.113680570001176,
          8.056291136555807,
          -0.5282835632063324,
          -0.8905367788979305,
          0.15428551067515664,
          5.45839249530576,
          -0.6350191913045368,
          -3.8299072685262794,
          6.476622033212366,
          -1.2887829446934453,
          -7.723688217253925,
          2.5084684367199337,
          -2.621809472562827,
          5.605747499958722,
          13.602958494557866
         ],
         "y": [
          1.7471881533700209,
          3.3649223696907353,
          -4.671924112365709,
          -6.640293933545843,
          -0.7490666879641532,
          -2.315778973580094,
          2.2104962253006497,
          -5.0293886953901,
          -3.6712089691369894,
          -1.1569936293898113,
          -0.4273038227648576,
          -4.108507361673134,
          3.8164795004546432,
          4.32694872881201,
          -4.013635566474865,
          -3.019333009593944
         ],
         "z": [
          -1.3372114507310093,
          -1.7393562815067165,
          -5.665784178000303,
          -3.447157877517383,
          -1.1001610123407106,
          -0.7479065045123747,
          -0.8104623835291571,
          -2.701806518227413,
          -0.44896646873854784,
          -4.337742809631203,
          -2.8121816514920708,
          -2.9317879629263595,
          1.152049138764735,
          -4.265958078336859,
          -3.0347522424377766,
          -3.6775056796453915
         ]
        },
        {
         "hovertemplate": "label=AshaBhosle<br>0=%{x}<br>1=%{y}<br>2=%{z}<extra></extra>",
         "legendgroup": "AshaBhosle",
         "marker": {
          "color": "#19d3f3",
          "symbol": "circle"
         },
         "mode": "markers",
         "name": "AshaBhosle",
         "scene": "scene",
         "showlegend": true,
         "type": "scatter3d",
         "x": [
          -3.749411651849742,
          -7.717722089614958,
          7.448804370665931,
          -2.932075797307551,
          7.839519079493964,
          -0.6473426912195162,
          0.08553918701797691,
          0.8195118599601579,
          -7.8898546830681795,
          -5.342859714025262,
          -5.631606567980883,
          1.9266185381162617,
          0.7718590174320762,
          7.586762377547896,
          -3.0888759187646233,
          -5.067116113936934,
          11.114623978776363,
          11.67676038431367,
          -2.077706173070948,
          -4.601386695107696,
          -7.172992470296141,
          -3.076725966919866
         ],
         "y": [
          2.3950945709428,
          -1.033877471005429,
          -1.9417129486430271,
          6.158614647866165,
          -3.837555505297172,
          2.684408290727471,
          0.4194808138330464,
          -1.96140370020295,
          -0.32474349028748273,
          4.405385178953691,
          3.971510202214471,
          1.961404397367403,
          -2.944248730429095,
          -3.2428375330799613,
          2.163528894196923,
          -6.489755099999145,
          -0.10620945937396817,
          -2.9468627072386386,
          0.08415819508286211,
          -1.6202261190767744,
          -4.770277465357768,
          4.396584552878283
         ],
         "z": [
          -1.3811217398285143,
          -2.049933461256472,
          -1.7752117204083804,
          -1.2473206905366272,
          -5.618521006314474,
          -0.9445260878485534,
          0.19095570409067394,
          -0.21617646291350645,
          -1.0238108519080769,
          -1.5327527511479384,
          -1.5862936984762157,
          -1.2651846419823811,
          -0.8025516609755136,
          -3.57894359821131,
          -0.7806533832296226,
          -1.6780009156009548,
          -5.837785871244888,
          -5.310529246514765,
          -2.3033847124859856,
          -1.3649009567868269,
          -2.1181150308841303,
          -1.3804489265279714
         ]
        }
       ],
       "layout": {
        "legend": {
         "title": {
          "text": "label"
         },
         "tracegroupgap": 0
        },
        "margin": {
         "t": 60
        },
        "scene": {
         "domain": {
          "x": [
           0,
           1
          ],
          "y": [
           0,
           1
          ]
         },
         "xaxis": {
          "title": {
           "text": "PCA1"
          }
         },
         "yaxis": {
          "title": {
           "text": "PCA2"
          }
         },
         "zaxis": {
          "title": {
           "text": "PCA3"
          }
         }
        },
        "template": {
         "data": {
          "bar": [
           {
            "error_x": {
             "color": "#2a3f5f"
            },
            "error_y": {
             "color": "#2a3f5f"
            },
            "marker": {
             "line": {
              "color": "#E5ECF6",
              "width": 0.5
             },
             "pattern": {
              "fillmode": "overlay",
              "size": 10,
              "solidity": 0.2
             }
            },
            "type": "bar"
           }
          ],
          "barpolar": [
           {
            "marker": {
             "line": {
              "color": "#E5ECF6",
              "width": 0.5
             },
             "pattern": {
              "fillmode": "overlay",
              "size": 10,
              "solidity": 0.2
             }
            },
            "type": "barpolar"
           }
          ],
          "carpet": [
           {
            "aaxis": {
             "endlinecolor": "#2a3f5f",
             "gridcolor": "white",
             "linecolor": "white",
             "minorgridcolor": "white",
             "startlinecolor": "#2a3f5f"
            },
            "baxis": {
             "endlinecolor": "#2a3f5f",
             "gridcolor": "white",
             "linecolor": "white",
             "minorgridcolor": "white",
             "startlinecolor": "#2a3f5f"
            },
            "type": "carpet"
           }
          ],
          "choropleth": [
           {
            "colorbar": {
             "outlinewidth": 0,
             "ticks": ""
            },
            "type": "choropleth"
           }
          ],
          "contour": [
           {
            "colorbar": {
             "outlinewidth": 0,
             "ticks": ""
            },
            "colorscale": [
             [
              0,
              "#0d0887"
             ],
             [
              0.1111111111111111,
              "#46039f"
             ],
             [
              0.2222222222222222,
              "#7201a8"
             ],
             [
              0.3333333333333333,
              "#9c179e"
             ],
             [
              0.4444444444444444,
              "#bd3786"
             ],
             [
              0.5555555555555556,
              "#d8576b"
             ],
             [
              0.6666666666666666,
              "#ed7953"
             ],
             [
              0.7777777777777778,
              "#fb9f3a"
             ],
             [
              0.8888888888888888,
              "#fdca26"
             ],
             [
              1,
              "#f0f921"
             ]
            ],
            "type": "contour"
           }
          ],
          "contourcarpet": [
           {
            "colorbar": {
             "outlinewidth": 0,
             "ticks": ""
            },
            "type": "contourcarpet"
           }
          ],
          "heatmap": [
           {
            "colorbar": {
             "outlinewidth": 0,
             "ticks": ""
            },
            "colorscale": [
             [
              0,
              "#0d0887"
             ],
             [
              0.1111111111111111,
              "#46039f"
             ],
             [
              0.2222222222222222,
              "#7201a8"
             ],
             [
              0.3333333333333333,
              "#9c179e"
             ],
             [
              0.4444444444444444,
              "#bd3786"
             ],
             [
              0.5555555555555556,
              "#d8576b"
             ],
             [
              0.6666666666666666,
              "#ed7953"
             ],
             [
              0.7777777777777778,
              "#fb9f3a"
             ],
             [
              0.8888888888888888,
              "#fdca26"
             ],
             [
              1,
              "#f0f921"
             ]
            ],
            "type": "heatmap"
           }
          ],
          "heatmapgl": [
           {
            "colorbar": {
             "outlinewidth": 0,
             "ticks": ""
            },
            "colorscale": [
             [
              0,
              "#0d0887"
             ],
             [
              0.1111111111111111,
              "#46039f"
             ],
             [
              0.2222222222222222,
              "#7201a8"
             ],
             [
              0.3333333333333333,
              "#9c179e"
             ],
             [
              0.4444444444444444,
              "#bd3786"
             ],
             [
              0.5555555555555556,
              "#d8576b"
             ],
             [
              0.6666666666666666,
              "#ed7953"
             ],
             [
              0.7777777777777778,
              "#fb9f3a"
             ],
             [
              0.8888888888888888,
              "#fdca26"
             ],
             [
              1,
              "#f0f921"
             ]
            ],
            "type": "heatmapgl"
           }
          ],
          "histogram": [
           {
            "marker": {
             "pattern": {
              "fillmode": "overlay",
              "size": 10,
              "solidity": 0.2
             }
            },
            "type": "histogram"
           }
          ],
          "histogram2d": [
           {
            "colorbar": {
             "outlinewidth": 0,
             "ticks": ""
            },
            "colorscale": [
             [
              0,
              "#0d0887"
             ],
             [
              0.1111111111111111,
              "#46039f"
             ],
             [
              0.2222222222222222,
              "#7201a8"
             ],
             [
              0.3333333333333333,
              "#9c179e"
             ],
             [
              0.4444444444444444,
              "#bd3786"
             ],
             [
              0.5555555555555556,
              "#d8576b"
             ],
             [
              0.6666666666666666,
              "#ed7953"
             ],
             [
              0.7777777777777778,
              "#fb9f3a"
             ],
             [
              0.8888888888888888,
              "#fdca26"
             ],
             [
              1,
              "#f0f921"
             ]
            ],
            "type": "histogram2d"
           }
          ],
          "histogram2dcontour": [
           {
            "colorbar": {
             "outlinewidth": 0,
             "ticks": ""
            },
            "colorscale": [
             [
              0,
              "#0d0887"
             ],
             [
              0.1111111111111111,
              "#46039f"
             ],
             [
              0.2222222222222222,
              "#7201a8"
             ],
             [
              0.3333333333333333,
              "#9c179e"
             ],
             [
              0.4444444444444444,
              "#bd3786"
             ],
             [
              0.5555555555555556,
              "#d8576b"
             ],
             [
              0.6666666666666666,
              "#ed7953"
             ],
             [
              0.7777777777777778,
              "#fb9f3a"
             ],
             [
              0.8888888888888888,
              "#fdca26"
             ],
             [
              1,
              "#f0f921"
             ]
            ],
            "type": "histogram2dcontour"
           }
          ],
          "mesh3d": [
           {
            "colorbar": {
             "outlinewidth": 0,
             "ticks": ""
            },
            "type": "mesh3d"
           }
          ],
          "parcoords": [
           {
            "line": {
             "colorbar": {
              "outlinewidth": 0,
              "ticks": ""
             }
            },
            "type": "parcoords"
           }
          ],
          "pie": [
           {
            "automargin": true,
            "type": "pie"
           }
          ],
          "scatter": [
           {
            "fillpattern": {
             "fillmode": "overlay",
             "size": 10,
             "solidity": 0.2
            },
            "type": "scatter"
           }
          ],
          "scatter3d": [
           {
            "line": {
             "colorbar": {
              "outlinewidth": 0,
              "ticks": ""
             }
            },
            "marker": {
             "colorbar": {
              "outlinewidth": 0,
              "ticks": ""
             }
            },
            "type": "scatter3d"
           }
          ],
          "scattercarpet": [
           {
            "marker": {
             "colorbar": {
              "outlinewidth": 0,
              "ticks": ""
             }
            },
            "type": "scattercarpet"
           }
          ],
          "scattergeo": [
           {
            "marker": {
             "colorbar": {
              "outlinewidth": 0,
              "ticks": ""
             }
            },
            "type": "scattergeo"
           }
          ],
          "scattergl": [
           {
            "marker": {
             "colorbar": {
              "outlinewidth": 0,
              "ticks": ""
             }
            },
            "type": "scattergl"
           }
          ],
          "scattermapbox": [
           {
            "marker": {
             "colorbar": {
              "outlinewidth": 0,
              "ticks": ""
             }
            },
            "type": "scattermapbox"
           }
          ],
          "scatterpolar": [
           {
            "marker": {
             "colorbar": {
              "outlinewidth": 0,
              "ticks": ""
             }
            },
            "type": "scatterpolar"
           }
          ],
          "scatterpolargl": [
           {
            "marker": {
             "colorbar": {
              "outlinewidth": 0,
              "ticks": ""
             }
            },
            "type": "scatterpolargl"
           }
          ],
          "scatterternary": [
           {
            "marker": {
             "colorbar": {
              "outlinewidth": 0,
              "ticks": ""
             }
            },
            "type": "scatterternary"
           }
          ],
          "surface": [
           {
            "colorbar": {
             "outlinewidth": 0,
             "ticks": ""
            },
            "colorscale": [
             [
              0,
              "#0d0887"
             ],
             [
              0.1111111111111111,
              "#46039f"
             ],
             [
              0.2222222222222222,
              "#7201a8"
             ],
             [
              0.3333333333333333,
              "#9c179e"
             ],
             [
              0.4444444444444444,
              "#bd3786"
             ],
             [
              0.5555555555555556,
              "#d8576b"
             ],
             [
              0.6666666666666666,
              "#ed7953"
             ],
             [
              0.7777777777777778,
              "#fb9f3a"
             ],
             [
              0.8888888888888888,
              "#fdca26"
             ],
             [
              1,
              "#f0f921"
             ]
            ],
            "type": "surface"
           }
          ],
          "table": [
           {
            "cells": {
             "fill": {
              "color": "#EBF0F8"
             },
             "line": {
              "color": "white"
             }
            },
            "header": {
             "fill": {
              "color": "#C8D4E3"
             },
             "line": {
              "color": "white"
             }
            },
            "type": "table"
           }
          ]
         },
         "layout": {
          "annotationdefaults": {
           "arrowcolor": "#2a3f5f",
           "arrowhead": 0,
           "arrowwidth": 1
          },
          "autotypenumbers": "strict",
          "coloraxis": {
           "colorbar": {
            "outlinewidth": 0,
            "ticks": ""
           }
          },
          "colorscale": {
           "diverging": [
            [
             0,
             "#8e0152"
            ],
            [
             0.1,
             "#c51b7d"
            ],
            [
             0.2,
             "#de77ae"
            ],
            [
             0.3,
             "#f1b6da"
            ],
            [
             0.4,
             "#fde0ef"
            ],
            [
             0.5,
             "#f7f7f7"
            ],
            [
             0.6,
             "#e6f5d0"
            ],
            [
             0.7,
             "#b8e186"
            ],
            [
             0.8,
             "#7fbc41"
            ],
            [
             0.9,
             "#4d9221"
            ],
            [
             1,
             "#276419"
            ]
           ],
           "sequential": [
            [
             0,
             "#0d0887"
            ],
            [
             0.1111111111111111,
             "#46039f"
            ],
            [
             0.2222222222222222,
             "#7201a8"
            ],
            [
             0.3333333333333333,
             "#9c179e"
            ],
            [
             0.4444444444444444,
             "#bd3786"
            ],
            [
             0.5555555555555556,
             "#d8576b"
            ],
            [
             0.6666666666666666,
             "#ed7953"
            ],
            [
             0.7777777777777778,
             "#fb9f3a"
            ],
            [
             0.8888888888888888,
             "#fdca26"
            ],
            [
             1,
             "#f0f921"
            ]
           ],
           "sequentialminus": [
            [
             0,
             "#0d0887"
            ],
            [
             0.1111111111111111,
             "#46039f"
            ],
            [
             0.2222222222222222,
             "#7201a8"
            ],
            [
             0.3333333333333333,
             "#9c179e"
            ],
            [
             0.4444444444444444,
             "#bd3786"
            ],
            [
             0.5555555555555556,
             "#d8576b"
            ],
            [
             0.6666666666666666,
             "#ed7953"
            ],
            [
             0.7777777777777778,
             "#fb9f3a"
            ],
            [
             0.8888888888888888,
             "#fdca26"
            ],
            [
             1,
             "#f0f921"
            ]
           ]
          },
          "colorway": [
           "#636efa",
           "#EF553B",
           "#00cc96",
           "#ab63fa",
           "#FFA15A",
           "#19d3f3",
           "#FF6692",
           "#B6E880",
           "#FF97FF",
           "#FECB52"
          ],
          "font": {
           "color": "#2a3f5f"
          },
          "geo": {
           "bgcolor": "white",
           "lakecolor": "white",
           "landcolor": "#E5ECF6",
           "showlakes": true,
           "showland": true,
           "subunitcolor": "white"
          },
          "hoverlabel": {
           "align": "left"
          },
          "hovermode": "closest",
          "mapbox": {
           "style": "light"
          },
          "paper_bgcolor": "white",
          "plot_bgcolor": "#E5ECF6",
          "polar": {
           "angularaxis": {
            "gridcolor": "white",
            "linecolor": "white",
            "ticks": ""
           },
           "bgcolor": "#E5ECF6",
           "radialaxis": {
            "gridcolor": "white",
            "linecolor": "white",
            "ticks": ""
           }
          },
          "scene": {
           "xaxis": {
            "backgroundcolor": "#E5ECF6",
            "gridcolor": "white",
            "gridwidth": 2,
            "linecolor": "white",
            "showbackground": true,
            "ticks": "",
            "zerolinecolor": "white"
           },
           "yaxis": {
            "backgroundcolor": "#E5ECF6",
            "gridcolor": "white",
            "gridwidth": 2,
            "linecolor": "white",
            "showbackground": true,
            "ticks": "",
            "zerolinecolor": "white"
           },
           "zaxis": {
            "backgroundcolor": "#E5ECF6",
            "gridcolor": "white",
            "gridwidth": 2,
            "linecolor": "white",
            "showbackground": true,
            "ticks": "",
            "zerolinecolor": "white"
           }
          },
          "shapedefaults": {
           "line": {
            "color": "#2a3f5f"
           }
          },
          "ternary": {
           "aaxis": {
            "gridcolor": "white",
            "linecolor": "white",
            "ticks": ""
           },
           "baxis": {
            "gridcolor": "white",
            "linecolor": "white",
            "ticks": ""
           },
           "bgcolor": "#E5ECF6",
           "caxis": {
            "gridcolor": "white",
            "linecolor": "white",
            "ticks": ""
           }
          },
          "title": {
           "x": 0.05
          },
          "xaxis": {
           "automargin": true,
           "gridcolor": "white",
           "linecolor": "white",
           "ticks": "",
           "title": {
            "standoff": 15
           },
           "zerolinecolor": "white",
           "zerolinewidth": 2
          },
          "yaxis": {
           "automargin": true,
           "gridcolor": "white",
           "linecolor": "white",
           "ticks": "",
           "title": {
            "standoff": 15
           },
           "zerolinecolor": "white",
           "zerolinewidth": 2
          }
         }
        },
        "title": {
         "text": "3D PCA Scatter Plot"
        }
       }
      }
     },
     "metadata": {},
     "output_type": "display_data"
    }
   ],
   "source": [
    "#Visualize the predicted labels using a 2D scatter plot\n",
    "fig_2d = px.scatter(pca_df_optimal_unlabeled, x=pca_df_optimal_unlabeled.columns[0], y=pca_df_optimal_unlabeled.columns[1], color='label')\n",
    "fig_2d.update_layout(title='2D PCA Scatter Plot', xaxis_title='PCA1', yaxis_title='PCA2')\n",
    "fig_2d.show()\n",
    "\n",
    "#Visualize the predicted labels using a 3D scatter plot\n",
    "fig_3d = px.scatter_3d(pca_df_optimal_unlabeled, x=pca_df_optimal_unlabeled.columns[0], y=pca_df_optimal_unlabeled.columns[1], z=pca_df_optimal_unlabeled.columns[2], color='label')\n",
    "fig_3d.update_layout(title='3D PCA Scatter Plot', scene=dict(xaxis_title='PCA1', yaxis_title='PCA2', zaxis_title='PCA3'))\n",
    "fig_3d.show()"
   ]
  },
  {
   "cell_type": "code",
   "execution_count": 49,
   "metadata": {},
   "outputs": [],
   "source": [
    "# Remove the label column from the DataFrame\n",
    "pca_df_optimal_unlabeled.drop('label', axis=1, inplace=True)\n",
    "\n",
    "# Save the predicted labels to a CSV file\n",
    "pca_df_optimal_unlabeled.to_csv('PredictedLabels.csv')"
   ]
  },
  {
   "cell_type": "code",
   "execution_count": null,
   "metadata": {},
   "outputs": [],
   "source": []
  }
 ],
 "metadata": {
  "kernelspec": {
   "display_name": "Python 3",
   "language": "python",
   "name": "python3"
  },
  "language_info": {
   "codemirror_mode": {
    "name": "ipython",
    "version": 3
   },
   "file_extension": ".py",
   "mimetype": "text/x-python",
   "name": "python",
   "nbconvert_exporter": "python",
   "pygments_lexer": "ipython3",
   "version": "3.12.4"
  }
 },
 "nbformat": 4,
 "nbformat_minor": 2
}
